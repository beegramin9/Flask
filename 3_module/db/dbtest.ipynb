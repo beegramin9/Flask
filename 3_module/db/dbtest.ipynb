{
 "metadata": {
  "language_info": {
   "codemirror_mode": {
    "name": "ipython",
    "version": 3
   },
   "file_extension": ".py",
   "mimetype": "text/x-python",
   "name": "python",
   "nbconvert_exporter": "python",
   "pygments_lexer": "ipython3",
   "version": "3.8.5-final"
  },
  "orig_nbformat": 2,
  "kernelspec": {
   "name": "python3",
   "display_name": "Python 3",
   "language": "python"
  }
 },
 "nbformat": 4,
 "nbformat_minor": 2,
 "cells": [
  {
   "cell_type": "code",
   "execution_count": 1,
   "metadata": {},
   "outputs": [],
   "source": [
    "import sqlite3\n",
    "import pandas as pd\n",
    "from tqdm import tqdm"
   ]
  },
  {
   "cell_type": "code",
   "execution_count": 2,
   "metadata": {},
   "outputs": [
    {
     "output_type": "execute_result",
     "data": {
      "text/plain": [
       "           일자  지역  사망자  확진자  전일대비  격리해제  격리중  지역발생  해외유입  10만명당\n",
       "0  2020-03-04  제주    0    3     0     0    0     0     0    0.4\n",
       "1  2020-03-04  경남    0   65     1     0    0     0     0    1.9\n",
       "2  2020-03-04  경북    6  774    89     0    0     0     0   29.1"
      ],
      "text/html": "<div>\n<style scoped>\n    .dataframe tbody tr th:only-of-type {\n        vertical-align: middle;\n    }\n\n    .dataframe tbody tr th {\n        vertical-align: top;\n    }\n\n    .dataframe thead th {\n        text-align: right;\n    }\n</style>\n<table border=\"1\" class=\"dataframe\">\n  <thead>\n    <tr style=\"text-align: right;\">\n      <th></th>\n      <th>일자</th>\n      <th>지역</th>\n      <th>사망자</th>\n      <th>확진자</th>\n      <th>전일대비</th>\n      <th>격리해제</th>\n      <th>격리중</th>\n      <th>지역발생</th>\n      <th>해외유입</th>\n      <th>10만명당</th>\n    </tr>\n  </thead>\n  <tbody>\n    <tr>\n      <th>0</th>\n      <td>2020-03-04</td>\n      <td>제주</td>\n      <td>0</td>\n      <td>3</td>\n      <td>0</td>\n      <td>0</td>\n      <td>0</td>\n      <td>0</td>\n      <td>0</td>\n      <td>0.4</td>\n    </tr>\n    <tr>\n      <th>1</th>\n      <td>2020-03-04</td>\n      <td>경남</td>\n      <td>0</td>\n      <td>65</td>\n      <td>1</td>\n      <td>0</td>\n      <td>0</td>\n      <td>0</td>\n      <td>0</td>\n      <td>1.9</td>\n    </tr>\n    <tr>\n      <th>2</th>\n      <td>2020-03-04</td>\n      <td>경북</td>\n      <td>6</td>\n      <td>774</td>\n      <td>89</td>\n      <td>0</td>\n      <td>0</td>\n      <td>0</td>\n      <td>0</td>\n      <td>29.1</td>\n    </tr>\n  </tbody>\n</table>\n</div>"
     },
     "metadata": {},
     "execution_count": 2
    }
   ],
   "source": [
    "all = pd.read_csv('../static/data/covid/전국 모든정보.csv',sep=',',encoding='utf8')\n",
    "del all['Unnamed: 0']\n",
    "all.head(3)"
   ]
  },
  {
   "cell_type": "code",
   "execution_count": 3,
   "metadata": {},
   "outputs": [
    {
     "output_type": "stream",
     "name": "stdout",
     "text": [
      "<class 'pandas.core.frame.DataFrame'>\nRangeIndex: 5709 entries, 0 to 5708\nData columns (total 10 columns):\n #   Column  Non-Null Count  Dtype  \n---  ------  --------------  -----  \n 0   일자      5709 non-null   object \n 1   지역      5709 non-null   object \n 2   사망자     5709 non-null   int64  \n 3   확진자     5709 non-null   int64  \n 4   전일대비    5709 non-null   int64  \n 5   격리해제    5709 non-null   int64  \n 6   격리중     5709 non-null   int64  \n 7   지역발생    5709 non-null   int64  \n 8   해외유입    5709 non-null   int64  \n 9   10만명당   5709 non-null   float64\ndtypes: float64(1), int64(7), object(2)\nmemory usage: 446.1+ KB\n"
     ]
    }
   ],
   "source": [
    "all.info()"
   ]
  },
  {
   "cell_type": "code",
   "execution_count": 4,
   "metadata": {},
   "outputs": [],
   "source": [
    "conn = sqlite3.connect('covid.db')\n",
    "cur = conn.cursor()"
   ]
  },
  {
   "source": [
    "# 모든 정보\n",
    "- 테이블 생성"
   ],
   "cell_type": "markdown",
   "metadata": {}
  },
  {
   "cell_type": "code",
   "execution_count": 5,
   "metadata": {},
   "outputs": [],
   "source": [
    "sql = '''create table sido (\n",
    "    date text not null,\n",
    "    city text not null,\n",
    "    death int default 0,\n",
    "    increase int default 0,\n",
    "    casenum int default 0,\n",
    "    local int default 0,\n",
    "    inflow int default 0,\n",
    "    isolation int default 0, \n",
    "    release int default 0,\n",
    "    per100k real default 0.00\n",
    ");'''\n",
    "\n",
    "cur.execute(sql)\n",
    "conn.commit()"
   ]
  },
  {
   "source": [
    "- 값 정제 <br>\n",
    "int64는 int32로, float64는 float32로"
   ],
   "cell_type": "markdown",
   "metadata": {}
  },
  {
   "cell_type": "code",
   "execution_count": 6,
   "metadata": {},
   "outputs": [
    {
     "output_type": "execute_result",
     "data": {
      "text/plain": [
       "['2020-03-04', '제주']"
      ]
     },
     "metadata": {},
     "execution_count": 6
    }
   ],
   "source": [
    "text_col = list(all.iloc[0,:2])\n",
    "text_col"
   ]
  },
  {
   "cell_type": "code",
   "execution_count": 7,
   "metadata": {},
   "outputs": [
    {
     "output_type": "execute_result",
     "data": {
      "text/plain": [
       "[0, 3, 0, 0, 0, 0, 0]"
      ]
     },
     "metadata": {},
     "execution_count": 7
    }
   ],
   "source": [
    "int_col = list(all.iloc[0,2:-1])\n",
    "int_col"
   ]
  },
  {
   "cell_type": "code",
   "execution_count": 8,
   "metadata": {},
   "outputs": [
    {
     "output_type": "execute_result",
     "data": {
      "text/plain": [
       "[0.4]"
      ]
     },
     "metadata": {},
     "execution_count": 8
    }
   ],
   "source": [
    "float_col = list(all.iloc[0,-1:])\n",
    "float_col"
   ]
  },
  {
   "cell_type": "code",
   "execution_count": 9,
   "metadata": {},
   "outputs": [
    {
     "output_type": "execute_result",
     "data": {
      "text/plain": [
       "['2020-03-04', '제주', 0, 3, 0, 0, 0, 0, 0, 0.4]"
      ]
     },
     "metadata": {},
     "execution_count": 9
    }
   ],
   "source": [
    "text_col = list(all.iloc[0,:2])\n",
    "for i in range(2,9):\n",
    "    text_col.append(int(all.iloc[0,i]))\n",
    "text_col.append(float(all.iloc[0,-1]))\n",
    "text_col  "
   ]
  },
  {
   "source": [
    "- 값 추가"
   ],
   "cell_type": "markdown",
   "metadata": {}
  },
  {
   "cell_type": "code",
   "execution_count": 10,
   "metadata": {},
   "outputs": [
    {
     "output_type": "execute_result",
     "data": {
      "text/plain": [
       "5709"
      ]
     },
     "metadata": {},
     "execution_count": 10
    }
   ],
   "source": [
    "len(all)"
   ]
  },
  {
   "cell_type": "code",
   "execution_count": 11,
   "metadata": {},
   "outputs": [],
   "source": [
    "sql = \"\"\" insert into sido values(?,?,?,?,?,?,?,?,?,?)\n",
    "\"\"\"\n",
    "for i in tqdm(range(len(all))):\n",
    "    text_col = list(all.iloc[i,:2])\n",
    "    for k in range(2,9):\n",
    "        text_col.append(int(all.iloc[i,k]))\n",
    "    text_col.append(float(all.iloc[i,-1]))\n",
    "    params = text_col\n",
    "    cur.execute(sql, params)\n",
    "    conn.commit()"
   ]
  },
  {
   "source": [
    "# 기존 일자별"
   ],
   "cell_type": "markdown",
   "metadata": {}
  },
  {
   "cell_type": "code",
   "execution_count": 13,
   "metadata": {},
   "outputs": [
    {
     "output_type": "execute_result",
     "data": {
      "text/plain": [
       "         date  서울  부산   대구  인천  대전  광주  울산  세종  경기  강원  충북  충남  경북  경남  전북  \\\n",
       "0  2020-03-01   0   0    0   0   0   0   0   0   0   0   0   0   0   0   0   \n",
       "1  2020-03-02  10   3  469   0   0   0   3   0   7   8   1  13  67   4   1   \n",
       "2  2020-03-03   0   0    0   0   0   0   0   0   0   0   0   0   0   0   0   \n",
       "\n",
       "   전남  제주   합계  \n",
       "0   0   0    0  \n",
       "1   0   0  586  \n",
       "2   0   0    0  "
      ],
      "text/html": "<div>\n<style scoped>\n    .dataframe tbody tr th:only-of-type {\n        vertical-align: middle;\n    }\n\n    .dataframe tbody tr th {\n        vertical-align: top;\n    }\n\n    .dataframe thead th {\n        text-align: right;\n    }\n</style>\n<table border=\"1\" class=\"dataframe\">\n  <thead>\n    <tr style=\"text-align: right;\">\n      <th></th>\n      <th>date</th>\n      <th>서울</th>\n      <th>부산</th>\n      <th>대구</th>\n      <th>인천</th>\n      <th>대전</th>\n      <th>광주</th>\n      <th>울산</th>\n      <th>세종</th>\n      <th>경기</th>\n      <th>강원</th>\n      <th>충북</th>\n      <th>충남</th>\n      <th>경북</th>\n      <th>경남</th>\n      <th>전북</th>\n      <th>전남</th>\n      <th>제주</th>\n      <th>합계</th>\n    </tr>\n  </thead>\n  <tbody>\n    <tr>\n      <th>0</th>\n      <td>2020-03-01</td>\n      <td>0</td>\n      <td>0</td>\n      <td>0</td>\n      <td>0</td>\n      <td>0</td>\n      <td>0</td>\n      <td>0</td>\n      <td>0</td>\n      <td>0</td>\n      <td>0</td>\n      <td>0</td>\n      <td>0</td>\n      <td>0</td>\n      <td>0</td>\n      <td>0</td>\n      <td>0</td>\n      <td>0</td>\n      <td>0</td>\n    </tr>\n    <tr>\n      <th>1</th>\n      <td>2020-03-02</td>\n      <td>10</td>\n      <td>3</td>\n      <td>469</td>\n      <td>0</td>\n      <td>0</td>\n      <td>0</td>\n      <td>3</td>\n      <td>0</td>\n      <td>7</td>\n      <td>8</td>\n      <td>1</td>\n      <td>13</td>\n      <td>67</td>\n      <td>4</td>\n      <td>1</td>\n      <td>0</td>\n      <td>0</td>\n      <td>586</td>\n    </tr>\n    <tr>\n      <th>2</th>\n      <td>2020-03-03</td>\n      <td>0</td>\n      <td>0</td>\n      <td>0</td>\n      <td>0</td>\n      <td>0</td>\n      <td>0</td>\n      <td>0</td>\n      <td>0</td>\n      <td>0</td>\n      <td>0</td>\n      <td>0</td>\n      <td>0</td>\n      <td>0</td>\n      <td>0</td>\n      <td>0</td>\n      <td>0</td>\n      <td>0</td>\n      <td>0</td>\n    </tr>\n  </tbody>\n</table>\n</div>"
     },
     "metadata": {},
     "execution_count": 13
    }
   ],
   "source": [
    "daily = pd.read_csv('../static/data/covid/전국코로나일별.csv',sep=',',encoding='utf8')\n",
    "daily.head(3)"
   ]
  },
  {
   "source": [
    "- 테이블 만들기"
   ],
   "cell_type": "markdown",
   "metadata": {}
  },
  {
   "cell_type": "code",
   "execution_count": 14,
   "metadata": {},
   "outputs": [],
   "source": [
    "sql_table = '''create table daily (\n",
    "  ilja text not null primary key,\n",
    "  seoul int default 0, busan int default 0, daegu int default 0,\n",
    "  incheon int default 0, daejeon int default 0, gwangju int default 0,\n",
    "  ulsan int default 0, sejong int default 0, gyeonggi int default 0,\n",
    "  gangwon int default 0, chungbuk int default 0, chungnam int default 0,\n",
    "  gyeongbuk int default 0, gyeongnam int default 0, jeonbuk int default 0,\n",
    "  jeonnam int default 0, jeju int default 0, \n",
    "  gye int default 0);'''\n",
    "cur.execute(sql_table)\n",
    "conn.commit()"
   ]
  },
  {
   "source": [
    "- 값 넣기"
   ],
   "cell_type": "markdown",
   "metadata": {}
  },
  {
   "cell_type": "code",
   "execution_count": 15,
   "metadata": {},
   "outputs": [],
   "source": [
    "sql_insert = 'insert into daily values(?,?,?,?,?,?,?,?,?,?,?,?,?,?,?,?,?,?,?);'\n",
    "for i in range(len(daily)):\n",
    "    params = [daily.iloc[i,0]]\n",
    "    for k in range(1,19):\n",
    "        params.append(int(daily.iloc[i,k]))\n",
    "    cur.execute(sql_insert, params)\n",
    "    conn.commit()"
   ]
  },
  {
   "cell_type": "code",
   "execution_count": 16,
   "metadata": {},
   "outputs": [],
   "source": [
    "cur.close()\n",
    "conn.close()"
   ]
  }
 ]
}