{
 "cells": [
  {
   "cell_type": "code",
   "execution_count": 39,
   "metadata": {},
   "outputs": [],
   "source": [
    "import pandas as pd\n",
    "import numpy as np\n",
    "\n",
    "from bs4 import BeautifulSoup\n",
    "import requests\n",
    "\n",
    "from datetime import datetime\n",
    "from dateutil.parser import parse\n",
    "\n",
    "from tqdm import tqdm\n",
    "\n",
    "import sqlite3\n",
    "conn = sqlite3.connect('covid.db')\n",
    "cur = conn.cursor()"
   ]
  },
  {
   "cell_type": "code",
   "execution_count": 62,
   "metadata": {},
   "outputs": [],
   "source": [
    "# 연결 끊기\n",
    "conn.close()"
   ]
  },
  {
   "source": [
    "## 날짜 비교"
   ],
   "cell_type": "markdown",
   "metadata": {}
  },
  {
   "cell_type": "code",
   "execution_count": 42,
   "metadata": {},
   "outputs": [
    {
     "output_type": "execute_result",
     "data": {
      "text/plain": [
       "datetime.date(2020, 12, 23)"
      ]
     },
     "metadata": {},
     "execution_count": 42
    }
   ],
   "source": [
    "today = datetime.today().date()\n",
    "today"
   ]
  },
  {
   "cell_type": "code",
   "execution_count": 44,
   "metadata": {},
   "outputs": [
    {
     "output_type": "execute_result",
     "data": {
      "text/plain": [
       "'2020-12-23'"
      ]
     },
     "metadata": {},
     "execution_count": 44
    }
   ],
   "source": [
    "# db 날짜 형식 맞추기\n",
    "db_today = today.strftime('%Y-%m-%d')\n",
    "db_today"
   ]
  },
  {
   "cell_type": "code",
   "execution_count": 51,
   "metadata": {},
   "outputs": [
    {
     "output_type": "stream",
     "name": "stdout",
     "text": [
      "2020-12-23\n"
     ]
    }
   ],
   "source": [
    "# 맨 마지막행 날짜\n",
    "sql = \"\"\" select * from all_info ORDER BY ROWID DESC LIMIT 1 \"\"\"\n",
    "cur.execute(sql, (db_today,))\n",
    "row = cur.fetchone()\n",
    "db_last_day = row[0]\n",
    "print(db_last_day)\n",
    "conn.commit()"
   ]
  },
  {
   "cell_type": "code",
   "execution_count": 52,
   "metadata": {},
   "outputs": [
    {
     "output_type": "execute_result",
     "data": {
      "text/plain": [
       "datetime.date(2020, 12, 23)"
      ]
     },
     "metadata": {},
     "execution_count": 52
    }
   ],
   "source": [
    "last_day = parse(db_last_day).date()\n",
    "last_day"
   ]
  },
  {
   "cell_type": "code",
   "execution_count": null,
   "metadata": {},
   "outputs": [],
   "source": []
  },
  {
   "cell_type": "code",
   "execution_count": 60,
   "metadata": {},
   "outputs": [
    {
     "output_type": "stream",
     "name": "stdout",
     "text": [
      "이미 최신정보로 업데이트되었습니다.\n"
     ]
    }
   ],
   "source": [
    "# If 날짜가 같으면 안하고 아니면 하는거야 \n",
    "# 반복문을 할 필요가 없지.. 라고 생각했다가 오늘 날짜가 안들어오니까...\n",
    "# 이거 잘못생각하면 db에 같은 날짜 데이터가 여러번 들어갈수가 있다.\n",
    "if today != last_day:\n",
    "    print(1)\n",
    "else:\n",
    "    print('이미 최신정보로 업데이트되었습니다.')\n",
    "    pass"
   ]
  },
  {
   "cell_type": "code",
   "execution_count": 61,
   "metadata": {},
   "outputs": [
    {
     "output_type": "execute_result",
     "data": {
      "text/plain": [
       "DatetimeIndex([], dtype='datetime64[ns]', freq='D')"
      ]
     },
     "metadata": {},
     "execution_count": 61
    }
   ],
   "source": [
    "# 당일날도 나옴\n",
    "elapsed_count = (today - last_day).days\n",
    "elapsed_series = pd.date_range(last_day, periods= elapsed_count)\n",
    "elapsed_series"
   ]
  },
  {
   "cell_type": "code",
   "execution_count": 13,
   "metadata": {},
   "outputs": [],
   "source": [
    "key_fd = open('../keys/gov_data_api_key.txt', mode='r')\n",
    "govapi_key = key_fd.read(100)\n",
    "key_fd.close()"
   ]
  },
  {
   "cell_type": "code",
   "execution_count": 56,
   "metadata": {},
   "outputs": [
    {
     "output_type": "stream",
     "name": "stderr",
     "text": [
      "0it [00:00, ?it/s]\n"
     ]
    }
   ],
   "source": [
    "# 원래 당일날은 안 나오지 않나?\n",
    "date_list = [] ; city_list = [] ; death_toll_list = [] ; increase_list = [] ; case_list = [] ; local_list = [] ; inflow_list = [] ; isolation_list = [] ; release_list = [] ; per100k_list = []\n",
    "\n",
    "corona_url = \"http://openapi.data.go.kr/openapi/service/rest/Covid19/getCovid19SidoInfStateJson\"\n",
    "\n",
    "for date in tqdm(elapsed_series):\n",
    "    date =  date.strftime('%Y%m%d')\n",
    "\n",
    "    url = f\"{corona_url}?serviceKey={govapi_key}&pageNo=1&numOfRows=1&startCreateDt={date}&endCreateDt={date}\"\n",
    "\n",
    "    result = requests.get(url)\n",
    "    soup = BeautifulSoup(result.text, 'xml')\n",
    "\n",
    "    # 날짜\n",
    "    date = soup.select('createDt')\n",
    "    # 도시\n",
    "    city = soup.select('gubun')\n",
    "    # 사망자 수\n",
    "    death_toll = soup.select('deathCnt')\n",
    "    # 전일대비 증감 수\n",
    "    increase = soup.select('incDec')\n",
    "    # 일일 확진자 수\n",
    "    case = soup.select('defCnt')\n",
    "    # 지역발생 수\n",
    "    local = soup.select('localOccCnt')\n",
    "    # 해외유입 수\n",
    "    inflow = soup.select('overFlowCnt')\n",
    "    # 격리중 확진자 수\n",
    "    isolation = soup.select('isolIngCnt')\n",
    "    # 일일 격리 해제 수\n",
    "    release = soup.select('isolClearCnt')\n",
    "    # 10만명당 발생률\n",
    "    per100k = soup.select('qurRate')\n",
    "\n",
    "    # 초반에 아직 해외유입이 없다거나, 사망자가 없다거나 해서 누락되는 데이터들이 있으므로 삼항연산자 혹은 오류처리를 해줘야 함\n",
    "    for i in date:\n",
    "        date_list.append(parse(i.text).date())\n",
    "    for i in city:\n",
    "        city_list.append(i.text)\n",
    "    for i in death_toll:\n",
    "        death_toll_list.append(int(i.text))\n",
    "    for i in increase:\n",
    "        increase_list.append(int(i.text))\n",
    "    # 아무것도 없을 때에는 빈 리스트로 받아옴\n",
    "    # 삼항연산자로 해결못함. i가 없음\n",
    "    # try-except로도 해결못함. 값이 없을 뿐이지, 빈 리스트로 들어오긴 해서 오류가 아니기 때문임\n",
    "    if len(case) != 0:\n",
    "        for i in case:\n",
    "            case_list.append(int(i.text))\n",
    "    else:\n",
    "        # 일자 length를 기준으로\n",
    "        for i in range(len(date)):\n",
    "            case_list.append(0)\n",
    "\n",
    "    if len(local) != 0:\n",
    "        for i in local:\n",
    "            local_list.append(int(i.text))\n",
    "    else:\n",
    "        for i in range(len(date)):\n",
    "            local_list.append(0)\n",
    "\n",
    "    if len(inflow) != 0:\n",
    "        for i in inflow:\n",
    "            inflow_list.append(int(i.text))\n",
    "    else:\n",
    "        for i in range(len(date)):\n",
    "            inflow_list.append(0)\n",
    "  \n",
    "    if len(isolation) != 0:\n",
    "        for i in isolation:\n",
    "            isolation_list.append(int(i.text))\n",
    "    else:\n",
    "        for i in range(len(date)):\n",
    "            isolation_list.append(0)\n",
    "    if len(isolation) != 0:\n",
    "        for i in release:\n",
    "            release_list.append(int(i.text))\n",
    "    else:\n",
    "        for i in range(len(date)):\n",
    "            release_list.append(0)\n",
    "\n",
    "    for i in per100k:\n",
    "        try:\n",
    "            per100k_list.append(float(i.text) if i.text.find('.') >= 0 else 0.00)\n",
    "        # 51.13. 같은 이상한 값이 껴있음\n",
    "        except:\n",
    "            per100k_list.append(float(i.text[:-1]) if i.text.find('.') >= 0 else 0.00)"
   ]
  },
  {
   "cell_type": "code",
   "execution_count": 57,
   "metadata": {},
   "outputs": [
    {
     "output_type": "execute_result",
     "data": {
      "text/plain": [
       "Empty DataFrame\n",
       "Columns: [일자, 지역, 사망자, 확진자, 전일대비, 격리해제, 격리중, 지역발생, 해외유입, 10만명당]\n",
       "Index: []"
      ],
      "text/html": "<div>\n<style scoped>\n    .dataframe tbody tr th:only-of-type {\n        vertical-align: middle;\n    }\n\n    .dataframe tbody tr th {\n        vertical-align: top;\n    }\n\n    .dataframe thead th {\n        text-align: right;\n    }\n</style>\n<table border=\"1\" class=\"dataframe\">\n  <thead>\n    <tr style=\"text-align: right;\">\n      <th></th>\n      <th>일자</th>\n      <th>지역</th>\n      <th>사망자</th>\n      <th>확진자</th>\n      <th>전일대비</th>\n      <th>격리해제</th>\n      <th>격리중</th>\n      <th>지역발생</th>\n      <th>해외유입</th>\n      <th>10만명당</th>\n    </tr>\n  </thead>\n  <tbody>\n  </tbody>\n</table>\n</div>"
     },
     "metadata": {},
     "execution_count": 57
    }
   ],
   "source": [
    "df = pd.DataFrame({\n",
    "    '일자':date_list,\n",
    "    '지역':city_list, '사망자':death_toll_list,\n",
    "    '확진자':case_list, '전일대비':increase_list, '격리해제':release_list, \n",
    "    '격리중':isolation_list, '지역발생':local_list,'해외유입':inflow_list,\n",
    "    '10만명당':per100k_list\n",
    "})\n",
    "df\n"
   ]
  },
  {
   "source": [
    "- 생각해보니 csv파일에 넣을 필요 없이 바로 df를 db에 넣으면 됨"
   ],
   "cell_type": "markdown",
   "metadata": {}
  },
  {
   "cell_type": "code",
   "execution_count": 58,
   "metadata": {},
   "outputs": [
    {
     "output_type": "stream",
     "name": "stderr",
     "text": [
      "0it [00:00, ?it/s]\n"
     ]
    }
   ],
   "source": [
    "sql = \"\"\" insert into all_info values(?,?,?,?,?,?,?,?,?,?)\n",
    "\"\"\"\n",
    "for i in tqdm(range(len(df))):\n",
    "    text_col = list(df.iloc[i,:2])\n",
    "    for k in range(2,9):\n",
    "        text_col.append(int(df.iloc[i,k]))\n",
    "    text_col.append(float(df.iloc[i,-1]))\n",
    "    params = text_col\n",
    "    cur.execute(sql, params)\n",
    "    conn.commit()"
   ]
  },
  {
   "cell_type": "code",
   "execution_count": null,
   "metadata": {},
   "outputs": [],
   "source": []
  },
  {
   "cell_type": "code",
   "execution_count": null,
   "metadata": {},
   "outputs": [],
   "source": []
  },
  {
   "cell_type": "code",
   "execution_count": null,
   "metadata": {},
   "outputs": [],
   "source": []
  },
  {
   "cell_type": "code",
   "execution_count": null,
   "metadata": {},
   "outputs": [],
   "source": []
  },
  {
   "cell_type": "markdown",
   "metadata": {},
   "source": [
    "# 모든 정보\n",
    "- 테이블 생성"
   ]
  },
  {
   "cell_type": "code",
   "execution_count": 5,
   "metadata": {},
   "outputs": [],
   "source": [
    "sql = '''create table sido (\n",
    "    date text not null,\n",
    "    city text not null,\n",
    "    death int default 0,\n",
    "    increase int default 0,\n",
    "    casenum int default 0,\n",
    "    local int default 0,\n",
    "    inflow int default 0,\n",
    "    isolation int default 0, \n",
    "    release int default 0,\n",
    "    per100k real default 0.00\n",
    ");'''\n",
    "\n",
    "cur.execute(sql)\n",
    "conn.commit()"
   ]
  },
  {
   "cell_type": "markdown",
   "metadata": {},
   "source": [
    "- 값 정제 <br>\n",
    "int64는 int32로, float64는 float32로"
   ]
  },
  {
   "cell_type": "code",
   "execution_count": 6,
   "metadata": {},
   "outputs": [
    {
     "data": {
      "text/plain": [
       "['2020-03-04', '제주']"
      ]
     },
     "execution_count": 6,
     "metadata": {},
     "output_type": "execute_result"
    }
   ],
   "source": [
    "text_col = list(all.iloc[0,:2])\n",
    "text_col"
   ]
  },
  {
   "cell_type": "code",
   "execution_count": 7,
   "metadata": {},
   "outputs": [
    {
     "data": {
      "text/plain": [
       "[0, 3, 0, 0, 0, 0, 0]"
      ]
     },
     "execution_count": 7,
     "metadata": {},
     "output_type": "execute_result"
    }
   ],
   "source": [
    "int_col = list(all.iloc[0,2:-1])\n",
    "int_col"
   ]
  },
  {
   "cell_type": "code",
   "execution_count": 8,
   "metadata": {},
   "outputs": [
    {
     "data": {
      "text/plain": [
       "[0.4]"
      ]
     },
     "execution_count": 8,
     "metadata": {},
     "output_type": "execute_result"
    }
   ],
   "source": [
    "float_col = list(all.iloc[0,-1:])\n",
    "float_col"
   ]
  },
  {
   "cell_type": "code",
   "execution_count": 9,
   "metadata": {},
   "outputs": [
    {
     "data": {
      "text/plain": [
       "['2020-03-04', '제주', 0, 3, 0, 0, 0, 0, 0, 0.4]"
      ]
     },
     "execution_count": 9,
     "metadata": {},
     "output_type": "execute_result"
    }
   ],
   "source": [
    "text_col = list(all.iloc[0,:2])\n",
    "for i in range(2,9):\n",
    "    text_col.append(int(all.iloc[0,i]))\n",
    "text_col.append(float(all.iloc[0,-1]))\n",
    "text_col  "
   ]
  },
  {
   "cell_type": "markdown",
   "metadata": {},
   "source": [
    "- 값 추가"
   ]
  },
  {
   "cell_type": "code",
   "execution_count": 10,
   "metadata": {},
   "outputs": [
    {
     "data": {
      "text/plain": [
       "5709"
      ]
     },
     "execution_count": 10,
     "metadata": {},
     "output_type": "execute_result"
    }
   ],
   "source": [
    "len(all)"
   ]
  },
  {
   "cell_type": "code",
   "execution_count": 11,
   "metadata": {},
   "outputs": [],
   "source": [
    "sql = \"\"\" insert into sido values(?,?,?,?,?,?,?,?,?,?)\n",
    "\"\"\"\n",
    "for i in tqdm(range(len(all))):\n",
    "    text_col = list(all.iloc[i,:2])\n",
    "    for k in range(2,9):\n",
    "        text_col.append(int(all.iloc[i,k]))\n",
    "    text_col.append(float(all.iloc[i,-1]))\n",
    "    params = text_col\n",
    "    cur.execute(sql, params)\n",
    "    conn.commit()"
   ]
  },
  {
   "cell_type": "markdown",
   "metadata": {},
   "source": [
    "# 기존 일자별"
   ]
  },
  {
   "cell_type": "code",
   "execution_count": 13,
   "metadata": {},
   "outputs": [
    {
     "data": {
      "text/html": [
       "<div>\n",
       "<style scoped>\n",
       "    .dataframe tbody tr th:only-of-type {\n",
       "        vertical-align: middle;\n",
       "    }\n",
       "\n",
       "    .dataframe tbody tr th {\n",
       "        vertical-align: top;\n",
       "    }\n",
       "\n",
       "    .dataframe thead th {\n",
       "        text-align: right;\n",
       "    }\n",
       "</style>\n",
       "<table border=\"1\" class=\"dataframe\">\n",
       "  <thead>\n",
       "    <tr style=\"text-align: right;\">\n",
       "      <th></th>\n",
       "      <th>date</th>\n",
       "      <th>서울</th>\n",
       "      <th>부산</th>\n",
       "      <th>대구</th>\n",
       "      <th>인천</th>\n",
       "      <th>대전</th>\n",
       "      <th>광주</th>\n",
       "      <th>울산</th>\n",
       "      <th>세종</th>\n",
       "      <th>경기</th>\n",
       "      <th>강원</th>\n",
       "      <th>충북</th>\n",
       "      <th>충남</th>\n",
       "      <th>경북</th>\n",
       "      <th>경남</th>\n",
       "      <th>전북</th>\n",
       "      <th>전남</th>\n",
       "      <th>제주</th>\n",
       "      <th>합계</th>\n",
       "    </tr>\n",
       "  </thead>\n",
       "  <tbody>\n",
       "    <tr>\n",
       "      <th>0</th>\n",
       "      <td>2020-03-01</td>\n",
       "      <td>0</td>\n",
       "      <td>0</td>\n",
       "      <td>0</td>\n",
       "      <td>0</td>\n",
       "      <td>0</td>\n",
       "      <td>0</td>\n",
       "      <td>0</td>\n",
       "      <td>0</td>\n",
       "      <td>0</td>\n",
       "      <td>0</td>\n",
       "      <td>0</td>\n",
       "      <td>0</td>\n",
       "      <td>0</td>\n",
       "      <td>0</td>\n",
       "      <td>0</td>\n",
       "      <td>0</td>\n",
       "      <td>0</td>\n",
       "      <td>0</td>\n",
       "    </tr>\n",
       "    <tr>\n",
       "      <th>1</th>\n",
       "      <td>2020-03-02</td>\n",
       "      <td>10</td>\n",
       "      <td>3</td>\n",
       "      <td>469</td>\n",
       "      <td>0</td>\n",
       "      <td>0</td>\n",
       "      <td>0</td>\n",
       "      <td>3</td>\n",
       "      <td>0</td>\n",
       "      <td>7</td>\n",
       "      <td>8</td>\n",
       "      <td>1</td>\n",
       "      <td>13</td>\n",
       "      <td>67</td>\n",
       "      <td>4</td>\n",
       "      <td>1</td>\n",
       "      <td>0</td>\n",
       "      <td>0</td>\n",
       "      <td>586</td>\n",
       "    </tr>\n",
       "    <tr>\n",
       "      <th>2</th>\n",
       "      <td>2020-03-03</td>\n",
       "      <td>0</td>\n",
       "      <td>0</td>\n",
       "      <td>0</td>\n",
       "      <td>0</td>\n",
       "      <td>0</td>\n",
       "      <td>0</td>\n",
       "      <td>0</td>\n",
       "      <td>0</td>\n",
       "      <td>0</td>\n",
       "      <td>0</td>\n",
       "      <td>0</td>\n",
       "      <td>0</td>\n",
       "      <td>0</td>\n",
       "      <td>0</td>\n",
       "      <td>0</td>\n",
       "      <td>0</td>\n",
       "      <td>0</td>\n",
       "      <td>0</td>\n",
       "    </tr>\n",
       "  </tbody>\n",
       "</table>\n",
       "</div>"
      ],
      "text/plain": [
       "         date  서울  부산   대구  인천  대전  광주  울산  세종  경기  강원  충북  충남  경북  경남  전북  \\\n",
       "0  2020-03-01   0   0    0   0   0   0   0   0   0   0   0   0   0   0   0   \n",
       "1  2020-03-02  10   3  469   0   0   0   3   0   7   8   1  13  67   4   1   \n",
       "2  2020-03-03   0   0    0   0   0   0   0   0   0   0   0   0   0   0   0   \n",
       "\n",
       "   전남  제주   합계  \n",
       "0   0   0    0  \n",
       "1   0   0  586  \n",
       "2   0   0    0  "
      ]
     },
     "execution_count": 13,
     "metadata": {},
     "output_type": "execute_result"
    }
   ],
   "source": [
    "daily = pd.read_csv('../static/data/covid/전국코로나일별.csv',sep=',',encoding='utf8')\n",
    "daily.head(3)"
   ]
  },
  {
   "cell_type": "markdown",
   "metadata": {},
   "source": [
    "- 테이블 만들기"
   ]
  },
  {
   "cell_type": "code",
   "execution_count": null,
   "metadata": {},
   "outputs": [],
   "source": [
    "sql = '''create table daily (\n",
    "  date text not null primary key,\n",
    "  seoul int default 0, busan int default 0, daegu int default 0,\n",
    "  incheon int default 0, daejeon int default 0, gwangju int default 0,\n",
    "  ulsan int default 0, sejong int default 0, gyeonggi int default 0,\n",
    "  gangwon int default 0, chungbuk int default 0, chungnam int default 0,\n",
    "  gyeongbuk int default 0, gyeongnam int default 0, jeonbuk int default 0,\n",
    "  jeonnam int default 0, jeju int default 0, \n",
    "  gye int default 0);'''\n",
    "cur.execute(sql)\n",
    "conn.commit()"
   ]
  },
  {
   "cell_type": "markdown",
   "metadata": {},
   "source": [
    "- 값 넣기"
   ]
  },
  {
   "cell_type": "code",
   "execution_count": 24,
   "metadata": {},
   "outputs": [
    {
     "name": "stderr",
     "output_type": "stream",
     "text": [
      "100%|██████████| 275/275 [00:01<00:00, 181.26it/s]\n"
     ]
    }
   ],
   "source": [
    "sql_insert = 'insert into daily values(?,?,?,?,?,?,?,?,?,?,?,?,?,?,?,?,?,?,?);'\n",
    "for i in tqdm(range(len(daily))):\n",
    "    params = [daily.iloc[i,0]]\n",
    "    for k in range(1,19):\n",
    "        params.append(int(daily.iloc[i,k]))\n",
    "    cur.execute(sql_insert, params)\n",
    "    conn.commit()"
   ]
  },
  {
   "source": [
    "- 값 받아오기"
   ],
   "cell_type": "markdown",
   "metadata": {}
  },
  {
   "cell_type": "code",
   "execution_count": 5,
   "metadata": {},
   "outputs": [
    {
     "output_type": "stream",
     "name": "stdout",
     "text": [
      "[('2020-11-12', 53, 2, 3, 2, 2, 6, 1, 0, 35, 6, 1, 9, 1, 4, 0, 8, 1, 134)]\n"
     ]
    }
   ],
   "source": [
    "def get_daily_data(date):\n",
    "    sql = \"\"\" select * from daily where date = ? \"\"\"\n",
    "    cur.execute(sql, (date,))\n",
    "    rows = cur.fetchall()\n",
    "    # print('db모듈쪽 rows', rows)\n",
    "    return rows\n",
    "    conn.commit()\n",
    "\n",
    "print(get_daily_data('2020-11-12'))"
   ]
  },
  {
   "cell_type": "markdown",
   "metadata": {},
   "source": [
    "모든정보 table에서 날짜 받기"
   ]
  },
  {
   "cell_type": "code",
   "execution_count": 35,
   "metadata": {},
   "outputs": [
    {
     "name": "stdout",
     "output_type": "stream",
     "text": [
      "('2020-03-04', '제주', 0, 3, 0, 0, 0, 0, 0, 0.4)\n",
      "('2020-03-04', '경남', 0, 65, 1, 0, 0, 0, 0, 1.9)\n",
      "('2020-03-04', '경북', 6, 774, 89, 0, 0, 0, 0, 29.1)\n",
      "('2020-03-04', '전남', 0, 5, 0, 0, 0, 0, 0, 0.3)\n",
      "('2020-03-04', '전북', 0, 7, 0, 0, 0, 0, 0, 0.4)\n",
      "('2020-03-04', '충남', 0, 82, 1, 0, 0, 0, 0, 3.9)\n",
      "('2020-03-04', '충북', 0, 11, 0, 0, 0, 0, 0, 0.7)\n",
      "('2020-03-04', '강원', 0, 21, 1, 0, 0, 0, 0, 1.4)\n",
      "('2020-03-04', '경기', 1, 101, 7, 0, 0, 0, 0, 0.8)\n",
      "('2020-03-04', '세종', 0, 1, 0, 0, 0, 0, 0, 0.3)\n",
      "('2020-03-04', '울산', 0, 23, 3, 0, 0, 0, 0, 0.0)\n",
      "('2020-03-04', '대전', 0, 15, 1, 0, 0, 0, 0, 0.0)\n",
      "('2020-03-04', '광주', 0, 13, 2, 0, 0, 0, 0, 0.9)\n",
      "('2020-03-04', '인천', 0, 9, 2, 0, 0, 0, 0, 0.3)\n",
      "('2020-03-04', '대구', 24, 4006, 405, 0, 0, 0, 0, 164.4)\n",
      "('2020-03-04', '부산', 1, 93, 3, 0, 0, 0, 0, 2.7)\n",
      "('2020-03-04', '서울', 0, 99, 1, 0, 0, 0, 0, 0.0)\n",
      "('2020-03-04', '합계', 32, 5328, 516, 0, 0, 0, 0, 10.3)\n"
     ]
    }
   ],
   "source": [
    "date = '2020-03-04'\n",
    "sql = \"\"\" select * from sido where date = ? \"\"\"\n",
    "cur.execute(sql, (date,))\n",
    "rows = cur.fetchall()\n",
    "for row in rows:\n",
    "    print(row)\n",
    "conn.commit()"
   ]
  },
  {
   "cell_type": "code",
   "execution_count": 42,
   "metadata": {},
   "outputs": [
    {
     "name": "stdout",
     "output_type": "stream",
     "text": [
      "[('2020-03-05', '제주', 0, 4, 1, 0, 0, 0, 0, 0.6), ('2020-03-05', '경남', 0, 74, 9, 0, 0, 0, 0, 2.2), ('2020-03-05', '경북', 6, 861, 87, 0, 0, 0, 0, 32.3), ('2020-03-05', '전남', 0, 4, -1, 0, 0, 0, 0, 0.2), ('2020-03-05', '전북', 0, 7, 0, 0, 0, 0, 0, 0.4), ('2020-03-05', '충남', 0, 86, 4, 0, 0, 0, 0, 4.1), ('2020-03-05', '충북', 0, 12, 1, 0, 0, 0, 0, 0.8), ('2020-03-05', '강원', 0, 23, 2, 0, 0, 0, 0, 1.5), ('2020-03-05', '경기', 1, 110, 9, 0, 0, 0, 0, 0.8), ('2020-03-05', '세종', 0, 1, 0, 0, 0, 0, 0, 0.3), ('2020-03-05', '울산', 0, 23, 0, 0, 0, 0, 0, 2.0), ('2020-03-05', '대전', 0, 16, 1, 0, 0, 0, 0, 1.1), ('2020-03-05', '광주', 0, 14, 1, 0, 0, 0, 0, 1.0), ('2020-03-05', '인천', 0, 9, 0, 0, 0, 0, 0, 0.3), ('2020-03-05', '대구', 27, 4327, 321, 0, 0, 0, 0, 177.6), ('2020-03-05', '부산', 1, 92, -1, 0, 0, 0, 0, 2.7), ('2020-03-05', '서울', 0, 103, 4, 0, 0, 0, 0, 1.1), ('2020-03-05', '합계', 35, 5766, 438, 0, 0, 0, 0, 11.1)]\n"
     ]
    }
   ],
   "source": [
    "def get_regional_data(date):\n",
    "    sql = \"\"\" select * from sido where date = ? \"\"\"\n",
    "    cur.execute(sql, (date,))\n",
    "    rows = cur.fetchall()\n",
    "    conn.commit()\n",
    "    return rows\n",
    "\n",
    "print(get_regional_data('2020-03-05'))"
   ]
  },
  {
   "cell_type": "code",
   "execution_count": 40,
   "metadata": {},
   "outputs": [
    {
     "name": "stdout",
     "output_type": "stream",
     "text": [
      "0\n",
      "0\n",
      "6\n",
      "0\n",
      "0\n",
      "0\n",
      "0\n",
      "0\n",
      "1\n",
      "0\n",
      "0\n",
      "0\n",
      "0\n",
      "0\n",
      "24\n",
      "1\n",
      "0\n",
      "32\n"
     ]
    }
   ],
   "source": [
    "for row in rows:\n",
    "    print(row[])"
   ]
  },
  {
   "cell_type": "code",
   "execution_count": 26,
   "metadata": {},
   "outputs": [],
   "source": [
    "# cur.close()\n",
    "# conn.close()"
   ]
  },
  {
   "cell_type": "markdown",
   "metadata": {},
   "source": [
    "# 해외"
   ]
  },
  {
   "cell_type": "code",
   "execution_count": 3,
   "metadata": {},
   "outputs": [
    {
     "data": {
      "text/html": [
       "<div>\n",
       "<style scoped>\n",
       "    .dataframe tbody tr th:only-of-type {\n",
       "        vertical-align: middle;\n",
       "    }\n",
       "\n",
       "    .dataframe tbody tr th {\n",
       "        vertical-align: top;\n",
       "    }\n",
       "\n",
       "    .dataframe thead th {\n",
       "        text-align: right;\n",
       "    }\n",
       "</style>\n",
       "<table border=\"1\" class=\"dataframe\">\n",
       "  <thead>\n",
       "    <tr style=\"text-align: right;\">\n",
       "      <th></th>\n",
       "      <th>일자</th>\n",
       "      <th>대륙</th>\n",
       "      <th>국가</th>\n",
       "      <th>확진자</th>\n",
       "      <th>사망자</th>\n",
       "      <th>사망률</th>\n",
       "    </tr>\n",
       "  </thead>\n",
       "  <tbody>\n",
       "    <tr>\n",
       "      <th>0</th>\n",
       "      <td>2020-03-16</td>\n",
       "      <td>기타</td>\n",
       "      <td>마요트</td>\n",
       "      <td>1</td>\n",
       "      <td>0</td>\n",
       "      <td>0.0</td>\n",
       "    </tr>\n",
       "    <tr>\n",
       "      <th>1</th>\n",
       "      <td>2020-03-16</td>\n",
       "      <td>기타</td>\n",
       "      <td>퀴라소</td>\n",
       "      <td>2</td>\n",
       "      <td>0</td>\n",
       "      <td>0.0</td>\n",
       "    </tr>\n",
       "    <tr>\n",
       "      <th>2</th>\n",
       "      <td>2020-03-16</td>\n",
       "      <td>기타</td>\n",
       "      <td>케이맨제도</td>\n",
       "      <td>1</td>\n",
       "      <td>0</td>\n",
       "      <td>0.0</td>\n",
       "    </tr>\n",
       "  </tbody>\n",
       "</table>\n",
       "</div>"
      ],
      "text/plain": [
       "           일자  대륙     국가  확진자  사망자  사망률\n",
       "0  2020-03-16  기타    마요트    1    0  0.0\n",
       "1  2020-03-16  기타    퀴라소    2    0  0.0\n",
       "2  2020-03-16  기타  케이맨제도    1    0  0.0"
      ]
     },
     "execution_count": 3,
     "metadata": {},
     "output_type": "execute_result"
    }
   ],
   "source": [
    "world = pd.read_csv('../static/data/covid/해외.csv',sep=',',encoding='utf8')\n",
    "del world['Unnamed: 0']\n",
    "world.head(3)"
   ]
  },
  {
   "cell_type": "code",
   "execution_count": 4,
   "metadata": {},
   "outputs": [
    {
     "data": {
      "text/html": [
       "<div>\n",
       "<style scoped>\n",
       "    .dataframe tbody tr th:only-of-type {\n",
       "        vertical-align: middle;\n",
       "    }\n",
       "\n",
       "    .dataframe tbody tr th {\n",
       "        vertical-align: top;\n",
       "    }\n",
       "\n",
       "    .dataframe thead th {\n",
       "        text-align: right;\n",
       "    }\n",
       "</style>\n",
       "<table border=\"1\" class=\"dataframe\">\n",
       "  <thead>\n",
       "    <tr style=\"text-align: right;\">\n",
       "      <th></th>\n",
       "      <th>일자</th>\n",
       "      <th>대륙</th>\n",
       "      <th>국가</th>\n",
       "      <th>확진자</th>\n",
       "      <th>사망자</th>\n",
       "      <th>사망률</th>\n",
       "    </tr>\n",
       "  </thead>\n",
       "  <tbody>\n",
       "    <tr>\n",
       "      <th>47355</th>\n",
       "      <td>2020-11-21</td>\n",
       "      <td>기타</td>\n",
       "      <td>기타지역 영토</td>\n",
       "      <td>194632</td>\n",
       "      <td>2371</td>\n",
       "      <td>1.218196</td>\n",
       "    </tr>\n",
       "    <tr>\n",
       "      <th>47356</th>\n",
       "      <td>2020-11-21</td>\n",
       "      <td>아프리카</td>\n",
       "      <td>레소토</td>\n",
       "      <td>2058</td>\n",
       "      <td>44</td>\n",
       "      <td>2.137998</td>\n",
       "    </tr>\n",
       "    <tr>\n",
       "      <th>47357</th>\n",
       "      <td>2020-11-21</td>\n",
       "      <td>아프리카</td>\n",
       "      <td>코모로</td>\n",
       "      <td>592</td>\n",
       "      <td>7</td>\n",
       "      <td>1.182432</td>\n",
       "    </tr>\n",
       "    <tr>\n",
       "      <th>47358</th>\n",
       "      <td>2020-11-21</td>\n",
       "      <td>아프리카</td>\n",
       "      <td>상투메프린시페</td>\n",
       "      <td>974</td>\n",
       "      <td>16</td>\n",
       "      <td>1.642710</td>\n",
       "    </tr>\n",
       "    <tr>\n",
       "      <th>47359</th>\n",
       "      <td>2020-11-21</td>\n",
       "      <td>아프리카</td>\n",
       "      <td>남수단</td>\n",
       "      <td>3016</td>\n",
       "      <td>59</td>\n",
       "      <td>1.956233</td>\n",
       "    </tr>\n",
       "    <tr>\n",
       "      <th>...</th>\n",
       "      <td>...</td>\n",
       "      <td>...</td>\n",
       "      <td>...</td>\n",
       "      <td>...</td>\n",
       "      <td>...</td>\n",
       "      <td>...</td>\n",
       "    </tr>\n",
       "    <tr>\n",
       "      <th>47539</th>\n",
       "      <td>2020-11-21</td>\n",
       "      <td>아시아</td>\n",
       "      <td>마카오</td>\n",
       "      <td>46</td>\n",
       "      <td>0</td>\n",
       "      <td>0.000000</td>\n",
       "    </tr>\n",
       "    <tr>\n",
       "      <th>47540</th>\n",
       "      <td>2020-11-21</td>\n",
       "      <td>아시아</td>\n",
       "      <td>대만</td>\n",
       "      <td>611</td>\n",
       "      <td>7</td>\n",
       "      <td>1.145663</td>\n",
       "    </tr>\n",
       "    <tr>\n",
       "      <th>47541</th>\n",
       "      <td>2020-11-21</td>\n",
       "      <td>아시아</td>\n",
       "      <td>홍콩</td>\n",
       "      <td>5517</td>\n",
       "      <td>108</td>\n",
       "      <td>1.957586</td>\n",
       "    </tr>\n",
       "    <tr>\n",
       "      <th>47542</th>\n",
       "      <td>2020-11-21</td>\n",
       "      <td>아시아</td>\n",
       "      <td>중국</td>\n",
       "      <td>86414</td>\n",
       "      <td>4634</td>\n",
       "      <td>5.362557</td>\n",
       "    </tr>\n",
       "    <tr>\n",
       "      <th>47543</th>\n",
       "      <td>2020-11-21</td>\n",
       "      <td>아시아</td>\n",
       "      <td>한국</td>\n",
       "      <td>30403</td>\n",
       "      <td>503</td>\n",
       "      <td>1.654442</td>\n",
       "    </tr>\n",
       "  </tbody>\n",
       "</table>\n",
       "<p>189 rows × 6 columns</p>\n",
       "</div>"
      ],
      "text/plain": [
       "               일자    대륙       국가     확진자   사망자       사망률\n",
       "47355  2020-11-21    기타  기타지역 영토  194632  2371  1.218196\n",
       "47356  2020-11-21  아프리카      레소토    2058    44  2.137998\n",
       "47357  2020-11-21  아프리카      코모로     592     7  1.182432\n",
       "47358  2020-11-21  아프리카  상투메프린시페     974    16  1.642710\n",
       "47359  2020-11-21  아프리카      남수단    3016    59  1.956233\n",
       "...           ...   ...      ...     ...   ...       ...\n",
       "47539  2020-11-21   아시아      마카오      46     0  0.000000\n",
       "47540  2020-11-21   아시아       대만     611     7  1.145663\n",
       "47541  2020-11-21   아시아       홍콩    5517   108  1.957586\n",
       "47542  2020-11-21   아시아       중국   86414  4634  5.362557\n",
       "47543  2020-11-21   아시아       한국   30403   503  1.654442\n",
       "\n",
       "[189 rows x 6 columns]"
      ]
     },
     "execution_count": 4,
     "metadata": {},
     "output_type": "execute_result"
    }
   ],
   "source": [
    "# 어제 API에서 잘못 받아옴.\n",
    "world[world.일자 == '2020-11-21']"
   ]
  },
  {
   "cell_type": "code",
   "execution_count": 106,
   "metadata": {},
   "outputs": [
    {
     "data": {
      "text/plain": [
       "'2020-11-21'"
      ]
     },
     "execution_count": 106,
     "metadata": {},
     "output_type": "execute_result"
    }
   ],
   "source": [
    "world.iloc[0,0]"
   ]
  },
  {
   "cell_type": "markdown",
   "metadata": {},
   "source": [
    "- 테이블 생성"
   ]
  },
  {
   "cell_type": "code",
   "execution_count": 5,
   "metadata": {},
   "outputs": [],
   "source": [
    "sql = \"drop table world\"\n",
    "cur.execute(sql)\n",
    "conn.commit()"
   ]
  },
  {
   "cell_type": "code",
   "execution_count": 6,
   "metadata": {},
   "outputs": [],
   "source": [
    "sql = '''create table world (\n",
    "  date text not null,\n",
    "  continent text not null,\n",
    "  nation text not null,\n",
    "  casenum int default 0, \n",
    "  death int default 0, \n",
    "  deathrate real default 0.00);'''\n",
    "cur.execute(sql)\n",
    "conn.commit()"
   ]
  },
  {
   "cell_type": "markdown",
   "metadata": {},
   "source": [
    "- 값 넣기"
   ]
  },
  {
   "cell_type": "code",
   "execution_count": 62,
   "metadata": {},
   "outputs": [
    {
     "data": {
      "text/plain": [
       "['2020-11-21', '기타', '기타지역 영토']"
      ]
     },
     "execution_count": 62,
     "metadata": {},
     "output_type": "execute_result"
    }
   ],
   "source": [
    "text_col = list(world.iloc[0, 0:3])\n",
    "text_col"
   ]
  },
  {
   "cell_type": "code",
   "execution_count": 63,
   "metadata": {},
   "outputs": [
    {
     "data": {
      "text/plain": [
       "[194632, 2371]"
      ]
     },
     "execution_count": 63,
     "metadata": {},
     "output_type": "execute_result"
    }
   ],
   "source": [
    "int_col = list(world.iloc[0, 3:5])\n",
    "int_col"
   ]
  },
  {
   "cell_type": "code",
   "execution_count": 64,
   "metadata": {},
   "outputs": [
    {
     "data": {
      "text/plain": [
       "2371"
      ]
     },
     "execution_count": 64,
     "metadata": {},
     "output_type": "execute_result"
    }
   ],
   "source": [
    "int_col = world.iloc[0, 4]\n",
    "int_col"
   ]
  },
  {
   "cell_type": "code",
   "execution_count": 65,
   "metadata": {},
   "outputs": [
    {
     "data": {
      "text/plain": [
       "1.2181963911"
      ]
     },
     "execution_count": 65,
     "metadata": {},
     "output_type": "execute_result"
    }
   ],
   "source": [
    "float_col = world.iloc[0,-1]\n",
    "float_col"
   ]
  },
  {
   "cell_type": "code",
   "execution_count": 7,
   "metadata": {
    "tags": []
   },
   "outputs": [
    {
     "name": "stderr",
     "output_type": "stream",
     "text": [
      "100%|████████████████████████████████████████████████████████████████████████████| 53403/53403 [09:52<00:00, 90.10it/s]\n"
     ]
    }
   ],
   "source": [
    "sql = 'insert into world values(?,?,?,?,?,?);'\n",
    "for i in tqdm(range(len(world))):\n",
    "    text_col = list(world.iloc[i,0:3])\n",
    "    for k in range(3,5):\n",
    "        text_col.append(int(world.iloc[i,k]))\n",
    "    text_col.append(float(world.iloc[i,-1]))\n",
    "    params = text_col\n",
    "    cur.execute(sql, params)\n",
    "    conn.commit()"
   ]
  },
  {
   "cell_type": "code",
   "execution_count": 115,
   "metadata": {
    "tags": [
     "outputPrepend"
    ]
   },
   "outputs": [
    {
     "name": "stdout",
     "output_type": "stream",
     "text": [
      "330734243), ('2020-11-21', '아프리카', '적도기니', 5121, 85, 1.6598320640000002), ('2020-11-21', '아프리카', '콩고', 5632, 93, 1.6512784090000001), ('2020-11-21', '아프리카', '중앙아프리카공화국', 4911, 63, 1.2828344532), ('2020-11-21', '아프리카', '나미비아', 13662, 141, 1.0320597276999999), ('2020-11-21', '아프리카', '케냐', 74145, 1330, 1.7937824533000002), ('2020-11-21', '아프리카', '기니', 12713, 75, 0.589947298), ('2020-11-21', '아프리카', '가나', 50631, 323, 0.6379490825), ('2020-11-21', '아프리카', '가봉', 9116, 59, 0.6472136902000001), ('2020-11-21', '아프리카', '에티오피아', 104427, 1607, 1.5388740459), ('2020-11-21', '아프리카', '수단', 15299, 1179, 7.706386038300001), ('2020-11-21', '아프리카', '코트디부아르', 21083, 129, 0.6118673813000001), ('2020-11-21', '아프리카', 'DR콩고', 12007, 323, 2.6900974431), ('2020-11-21', '아프리카', '부르키나파소', 2686, 68, 2.5316455696), ('2020-11-21', '아프리카', '토고', 2771, 63, 2.2735474556999997), ('2020-11-21', '아프리카', '남아프리카공화국', 759658, 20671, 2.7210929127999997), ('2020-11-21', '아프리카', '카메룬', 23528, 435, 1.8488609316), ('2020-11-21', '아프리카', '세네갈', 15835, 329, 2.0776760341), ('2020-11-21', '아프리카', '나이지리아', 65839, 1165, 1.7694679445), ('2020-11-21', '오세아니아', '바누아투', 1, 0, 0.0), ('2020-11-21', '오세아니아', '솔로몬제도', 16, 0, 0.0), ('2020-11-21', '오세아니아', '마셜제도', 4, 0, 0.0), ('2020-11-21', '오세아니아', '파푸아뉴기니', 604, 7, 1.1589403973), ('2020-11-21', '오세아니아', '피지', 35, 2, 5.7142857142), ('2020-11-21', '오세아니아', '뉴질랜드', 1657, 25, 1.5087507543), ('2020-11-21', '오세아니아', '호주', 27784, 907, 3.2644687588999997), ('2020-11-21', '유럽', '러시아', 2039926, 35311, 1.7309941635), ('2020-11-21', '유럽', '코소보', 31979, 864, 2.7017730385000003), ('2020-11-21', '유럽', '몬테네그로', 29677, 420, 1.4152373891999999), ('2020-11-21', '유럽', '터키', 430170, 11943, 2.7763442359), ('2020-11-21', '유럽', '사이프러스', 7979, 41, 0.5138488532), ('2020-11-21', '유럽', '알바니아', 30623, 657, 2.1454462332), ('2020-11-21', '유럽', '몰도바', 93961, 2091, 2.2253913857), ('2020-11-21', '유럽', '몰타', 8560, 104, 1.214953271), ('2020-11-21', '유럽', '불가리아', 114435, 2649, 2.3148512255), ('2020-11-21', '유럽', '슬로바키아', 91578, 579, 0.6322479198), ('2020-11-21', '유럽', '세르비아', 104097, 1110, 1.0663131502), ('2020-11-21', '유럽', '리히텐슈타인', 1072, 8, 0.7462686567), ('2020-11-21', '유럽', '슬로베니아', 61034, 609, 0.9978045024), ('2020-11-21', '유럽', '보스니아 헤르체고비나', 76757, 2153, 2.8049558997000004), ('2020-11-21', '유럽', '헝가리', 165901, 3568, 2.1506802249), ('2020-11-21', '유럽', '우크라이나', 598085, 10598, 1.7719889313), ('2020-11-21', '유럽', '폴란드', 796798, 12088, 1.517072081), ('2020-11-21', '유럽', '안도라', 6066, 76, 1.2528849324), ('2020-11-21', '유럽', '라트비아', 11722, 141, 1.202866405), ('2020-11-21', '유럽', '포르투갈', 243009, 3701, 1.5229888604), ('2020-11-21', '유럽', '체코', 481755, 6874, 1.4268663531999999), ('2020-11-21', '유럽', '아일랜드', 69473, 2010, 2.8932103119), ('2020-11-21', '유럽', '아르메니아', 123646, 1900, 1.5366449379), ('2020-11-21', '유럽', '룩셈부르크', 28573, 248, 0.8679522626), ('2020-11-21', '유럽', '모나코', 573, 3, 0.5235602093999999), ('2020-11-21', '유럽', '아이슬란드', 5231, 25, 0.4779200917), ('2020-11-21', '유럽', '아제르바이잔', 83994, 1053, 1.2536609757), ('2020-11-21', '유럽', '산마리노', 1373, 43, 3.1318281136), ('2020-11-21', '유럽', '리투아니아', 40492, 341, 0.8421416576), ('2020-11-21', '유럽', '벨라루스', 119390, 1074, 0.8995728285), ('2020-11-21', '유럽', '네덜란드', 466697, 8759, 1.8768065790000001), ('2020-11-21', '유럽', '루마니아', 393851, 9596, 2.4364543950999997), ('2020-11-21', '유럽', '노르웨이', 30768, 305, 0.9912896515), ('2020-11-21', '유럽', '북마케도니아', 51213, 1423, 2.7785913732), ('2020-11-21', '유럽', '그리스', 85261, 1347, 1.5798547987), ('2020-11-21', '유럽', '조지아', 96860, 894, 0.9229816229000001), ('2020-11-21', '유럽', '에스토니아', 8715, 86, 0.9868043602), ('2020-11-21', '유럽', '덴마크', 67105, 773, 1.1519260859), ('2020-11-21', '유럽', '벨기에', 550168, 15196, 2.7620654054), ('2020-11-21', '유럽', '스위스', 284560, 3456, 1.2145066065999999), ('2020-11-21', '유럽', '스웨덴', 201055, 6340, 3.1533659943), ('2020-11-21', '유럽', '핀란드', 20286, 374, 1.8436360050999998), ('2020-11-21', '유럽', '크로아티아', 93879, 1200, 1.2782411401), ('2020-11-21', '유럽', '오스트리아', 228058, 2018, 0.8848626226), ('2020-11-21', '유럽', '스페인', 1541574, 42291, 2.7433648984), ('2020-11-21', '유럽', '영국', 1453260, 53775, 3.7003013913), ('2020-11-21', '유럽', '프랑스', 2048857, 46780, 2.2832242562), ('2020-11-21', '유럽', '독일', 879564, 13630, 1.5496314082), ('2020-11-21', '유럽', '이탈리아', 1308528, 47870, 3.6583091839999997), ('2020-11-21', '아메리카', '수리남', 5282, 116, 2.1961378265000002), ('2020-11-21', '아메리카', '가이아나', 4914, 142, 2.8897028897), ('2020-11-21', '아메리카', '베네수엘라', 98350, 860, 0.874428063), ('2020-11-21', '아메리카', '파라과이', 73639, 1624, 2.2053531416), ('2020-11-21', '아메리카', '우루과이', 4296, 68, 1.5828677838999998), ('2020-11-21', '아메리카', '볼리비아', 143569, 8875, 6.1816966058), ('2020-11-21', '아메리카', '아르헨티나', 1339337, 36347, 2.7138054125999997), ('2020-11-21', '아메리카', '콜롬비아', 1218003, 34563, 2.8376777397), ('2020-11-21', '아메리카', '칠레', 536012, 14955, 2.7900494764999997), ('2020-11-21', '아메리카', '에콰도르', 183246, 13073, 7.1341257107), ('2020-11-21', '아메리카', '페루', 941951, 35402, 3.7583695967), ('2020-11-21', '아메리카', '브라질', 5945849, 167455, 2.8163345554), ('2020-11-21', '아메리카', '세인트키츠네비스', 19, 0, 0.0), ('2020-11-21', '아메리카', '도미니카연방', 72, 0, 0.0), ('2020-11-21', '아메리카', '세인트빈센트그레나딘', 83, 0, 0.0), ('2020-11-21', '아메리카', '세인트루시아', 203, 2, 0.9852216748), ('2020-11-21', '아메리카', '그레나다', 36, 0, 0.0), ('2020-11-21', '아메리카', '앤티가바부다', 139, 4, 2.8776978417000003), ('2020-11-21', '아메리카', '바베이도스', 253, 7, 2.7667984188999997), ('2020-11-21', '아메리카', '바하마', 7323, 163, 2.2258637169999997), ('2020-11-21', '아메리카', '아이티', 9208, 232, 2.5195482189), ('2020-11-21', '아메리카', '트리니다드토바고', 6180, 113, 1.8284789644), ('2020-11-21', '아메리카', '자메이카', 10088, 235, 2.3295003965), ('2020-11-21', '아메리카', '쿠바', 7725, 131, 1.6957928802000002), ('2020-11-21', '아메리카', '도미니카공화국', 136183, 2301, 1.6896382074), ('2020-11-21', '아메리카', '니카라구아', 4583, 159, 3.4693432249000002), ('2020-11-21', '아메리카', '벨리즈', 4958, 100, 2.0169423154), ('2020-11-21', '아메리카', '엘살바도르', 36965, 1061, 2.8702826998), ('2020-11-21', '아메리카', '코스타리카', 127012, 1588, 1.2502755645), ('2020-11-21', '아메리카', '과테말라', 117066, 4050, 3.4595868995999997), ('2020-11-21', '아메리카', '온두라스', 103488, 2839, 2.7433132343), ('2020-11-21', '아메리카', '파나마', 149833, 2907, 1.9401600447999998), ('2020-11-21', '아메리카', '멕시코', 1015071, 99528, 9.805028416699999), ('2020-11-21', '아메리카', '캐나다', 311109, 11186, 3.5955243982), ('2020-11-21', '아메리카', '미국', 11413788, 248571, 2.1778133604), ('2020-11-21', '중동', '예멘', 2072, 605, 29.198841698000003), ('2020-11-21', '중동', '알제리', 71652, 2224, 3.1038910288), ('2020-11-21', '중동', '아랍에미리트', 155254, 544, 0.3503935486), ('2020-11-21', '중동', '이스라엘', 325776, 2737, 0.8401478316), ('2020-11-21', '중동', '튀니지', 83772, 2541, 3.0332330611000002), ('2020-11-21', '중동', '시리아', 6991, 363, 5.1923902159), ('2020-11-21', '중동', '사우디아라비아', 354527, 5729, 1.6159559074), ('2020-11-21', '중동', '카타르', 136649, 235, 0.1719734502), ('2020-11-21', '중동', '오만', 121360, 1365, 1.1247528015000001), ('2020-11-21', '중동', '모로코', 311554, 5090, 1.6337456749000001), ('2020-11-21', '중동', '리비아', 76006, 1062, 1.3972581112), ('2020-11-21', '중동', '레바논', 111946, 868, 0.7753738409), ('2020-11-21', '중동', '쿠웨이트', 138822, 859, 0.6187780034), ('2020-11-21', '중동', '요르단', 169396, 2053, 1.2119530567), ('2020-11-21', '중동', '이라크', 529226, 11834, 2.2360957322), ('2020-11-21', '중동', '이집트', 111955, 6508, 5.8130498861), ('2020-11-21', '중동', '바레인', 85317, 337, 0.3949974799), ('2020-11-21', '중동', '이란', 815117, 43417, 5.3264746042), ('2020-11-21', '아시아', '타지키스탄', 11772, 86, 0.7305470608), ('2020-11-21', '아시아', '라오스', 25, 0, 0.0), ('2020-11-21', '아시아', '미얀마', 74882, 1676, 2.2381880825), ('2020-11-21', '아시아', '동티모르', 30, 0, 0.0), ('2020-11-21', '아시아', '키르기스스탄', 68702, 1223, 1.7801519606), ('2020-11-21', '아시아', '우즈베키스탄', 71071, 602, 0.8470402835999999), ('2020-11-21', '아시아', '카자흐스탄', 164736, 2365, 1.4356303418), ('2020-11-21', '아시아', '몽골', 518, 0, 0.0), ('2020-11-21', '아시아', '브루나이', 148, 3, 2.027027027), ('2020-11-21', '아시아', '방글라데시', 441159, 6305, 1.4291899291999999), ('2020-11-21', '아시아', '몰디브', 12452, 45, 0.36138772880000003), ('2020-11-21', '아시아', '부탄', 378, 0, 0.0), ('2020-11-21', '아시아', '인도네시아', 483518, 15600, 3.2263535173), ('2020-11-21', '아시아', '파키스탄', 365927, 7248, 1.9807229309999999), ('2020-11-21', '아시아', '아프가니스탄', 44228, 1650, 3.7306683548), ('2020-11-21', '아시아', '스리랑카', 18841, 73, 0.38745289520000004), ('2020-11-21', '아시아', '네팔', 215020, 1276, 0.593433169), ('2020-11-21', '아시아', '캄보디아', 304, 0, 0.0), ('2020-11-21', '아시아', '필리핀', 413430, 7998, 1.9345475654), ('2020-11-21', '아시아', '인도', 9004365, 132162, 1.4677548055), ('2020-11-21', '아시아', '베트남', 1304, 35, 2.6840490797), ('2020-11-21', '아시아', '말레이시아', 51680, 326, 0.6308049535), ('2020-11-21', '아시아', '태국', 3892, 60, 1.5416238437), ('2020-11-21', '아시아', '싱가포르', 58139, 28, 0.048160443), ('2020-11-21', '아시아', '일본', 125267, 1943, 1.5510868784), ('2020-11-21', '아시아', '마카오', 46, 0, 0.0), ('2020-11-21', '아시아', '대만', 611, 7, 1.1456628477), ('2020-11-21', '아시아', '홍콩', 5517, 108, 1.9575856443000001), ('2020-11-21', '아시아', '중국', 86414, 4634, 5.362556993), ('2020-11-21', '아시아', '한국', 30403, 503, 1.6544419958), ('2020-11-21', '기타', '기타지역 영토', 194632, 2371, 1.2181963911), ('2020-11-21', '아프리카', '레소토', 2058, 44, 2.1379980563), ('2020-11-21', '아프리카', '코모로', 592, 7, 1.1824324324), ('2020-11-21', '아프리카', '상투메프린시페', 974, 16, 1.6427104721999999), ('2020-11-21', '아프리카', '남수단', 3016, 59, 1.9562334217), ('2020-11-21', '아프리카', '말라위', 6002, 185, 3.082305898), ('2020-11-21', '아프리카', '시에라리온', 2397, 74, 3.0871923237), ('2020-11-21', '아프리카', '브룬디', 649, 1, 0.1540832049), ('2020-11-21', '아프리카', '보츠와나', 9594, 31, 0.3231186158), ('2020-11-21', '아프리카', '말리', 4093, 142, 3.4693378938999997), ('2020-11-21', '아프리카', '기니비사우', 2421, 43, 1.7761255678999999), ('2020-11-21', '아프리카', '모잠비크', 14723, 120, 0.8150512803), ('2020-11-21', '아프리카', '우간다', 17148, 158, 0.9213902495), ('2020-11-21', '아프리카', '에리트레아', 527, 0, 0.0), ('2020-11-21', '아프리카', '앙골라', 14134, 333, 2.3560209424000003), ('2020-11-21', '아프리카', '마다가스카르', 17310, 250, 1.4442518775), ('2020-11-21', '아프리카', '소말리아', 4382, 108, 2.4646280237), ('2020-11-21', '아프리카', '짐바브웨', 9046, 265, 2.9294715896), ('2020-11-21', '아프리카', '카보베르데', 10082, 104, 1.0315413608), ('2020-11-21', '아프리카', '니제르', 1335, 70, 5.2434456928), ('2020-11-21', '아프리카', '차드', 1620, 101, 6.2345679012), ('2020-11-21', '아프리카', '모리셔스', 491, 10, 2.0366598778), ('2020-11-21', '아프리카', '잠비아', 17350, 356, 2.0518731988), ('2020-11-21', '아프리카', '감비아', 3706, 122, 3.2919589854000004), ('2020-11-21', '아프리카', '지부티', 5658, 61, 1.0781194768), ('2020-11-21', '아프리카', '탄자니아', 509, 21, 4.1257367387), ('2020-11-21', '아프리카', '라이베리아', 1539, 82, 5.3281351526), ('2020-11-21', '아프리카', '베냉', 2916, 43, 1.4746227709), ('2020-11-21', '아프리카', '세이쉘', 161, 0, 0.0), ('2020-11-21', '아프리카', '르완다', 5543, 46, 0.8298755186), ('2020-11-21', '아프리카', '모리타니아', 7952, 165, 2.0749496981), ('2020-11-21', '아프리카', '에스와티니', 6156, 119, 1.9330734243), ('2020-11-21', '아프리카', '적도기니', 5121, 85, 1.6598320640000002), ('2020-11-21', '아프리카', '콩고', 5632, 93, 1.6512784090000001), ('2020-11-21', '아프리카', '중앙아프리카공화국', 4911, 63, 1.2828344532), ('2020-11-21', '아프리카', '나미비아', 13662, 141, 1.0320597276999999), ('2020-11-21', '아프리카', '케냐', 74145, 1330, 1.7937824533000002), ('2020-11-21', '아프리카', '기니', 12713, 75, 0.589947298), ('2020-11-21', '아프리카', '가나', 50631, 323, 0.6379490825), ('2020-11-21', '아프리카', '가봉', 9116, 59, 0.6472136902000001), ('2020-11-21', '아프리카', '에티오피아', 104427, 1607, 1.5388740459), ('2020-11-21', '아프리카', '수단', 15299, 1179, 7.706386038300001), ('2020-11-21', '아프리카', '코트디부아르', 21083, 129, 0.6118673813000001), ('2020-11-21', '아프리카', 'DR콩고', 12007, 323, 2.6900974431), ('2020-11-21', '아프리카', '부르키나파소', 2686, 68, 2.5316455696), ('2020-11-21', '아프리카', '토고', 2771, 63, 2.2735474556999997), ('2020-11-21', '아프리카', '남아프리카공화국', 759658, 20671, 2.7210929127999997), ('2020-11-21', '아프리카', '카메룬', 23528, 435, 1.8488609316), ('2020-11-21', '아프리카', '세네갈', 15835, 329, 2.0776760341), ('2020-11-21', '아프리카', '나이지리아', 65839, 1165, 1.7694679445), ('2020-11-21', '오세아니아', '바누아투', 1, 0, 0.0), ('2020-11-21', '오세아니아', '솔로몬제도', 16, 0, 0.0), ('2020-11-21', '오세아니아', '마셜제도', 4, 0, 0.0), ('2020-11-21', '오세아니아', '파푸아뉴기니', 604, 7, 1.1589403973), ('2020-11-21', '오세아니아', '피지', 35, 2, 5.7142857142), ('2020-11-21', '오세아니아', '뉴질랜드', 1657, 25, 1.5087507543), ('2020-11-21', '오세아니아', '호주', 27784, 907, 3.2644687588999997), ('2020-11-21', '유럽', '러시아', 2039926, 35311, 1.7309941635), ('2020-11-21', '유럽', '코소보', 31979, 864, 2.7017730385000003), ('2020-11-21', '유럽', '몬테네그로', 29677, 420, 1.4152373891999999), ('2020-11-21', '유럽', '터키', 430170, 11943, 2.7763442359), ('2020-11-21', '유럽', '사이프러스', 7979, 41, 0.5138488532), ('2020-11-21', '유럽', '알바니아', 30623, 657, 2.1454462332), ('2020-11-21', '유럽', '몰도바', 93961, 2091, 2.2253913857), ('2020-11-21', '유럽', '몰타', 8560, 104, 1.214953271), ('2020-11-21', '유럽', '불가리아', 114435, 2649, 2.3148512255), ('2020-11-21', '유럽', '슬로바키아', 91578, 579, 0.6322479198), ('2020-11-21', '유럽', '세르비아', 104097, 1110, 1.0663131502), ('2020-11-21', '유럽', '리히텐슈타인', 1072, 8, 0.7462686567), ('2020-11-21', '유럽', '슬로베니아', 61034, 609, 0.9978045024), ('2020-11-21', '유럽', '보스니아 헤르체고비나', 76757, 2153, 2.8049558997000004), ('2020-11-21', '유럽', '헝가리', 165901, 3568, 2.1506802249), ('2020-11-21', '유럽', '우크라이나', 598085, 10598, 1.7719889313), ('2020-11-21', '유럽', '폴란드', 796798, 12088, 1.517072081), ('2020-11-21', '유럽', '안도라', 6066, 76, 1.2528849324), ('2020-11-21', '유럽', '라트비아', 11722, 141, 1.202866405), ('2020-11-21', '유럽', '포르투갈', 243009, 3701, 1.5229888604), ('2020-11-21', '유럽', '체코', 481755, 6874, 1.4268663531999999), ('2020-11-21', '유럽', '아일랜드', 69473, 2010, 2.8932103119), ('2020-11-21', '유럽', '아르메니아', 123646, 1900, 1.5366449379), ('2020-11-21', '유럽', '룩셈부르크', 28573, 248, 0.8679522626), ('2020-11-21', '유럽', '모나코', 573, 3, 0.5235602093999999), ('2020-11-21', '유럽', '아이슬란드', 5231, 25, 0.4779200917), ('2020-11-21', '유럽', '아제르바이잔', 83994, 1053, 1.2536609757), ('2020-11-21', '유럽', '산마리노', 1373, 43, 3.1318281136), ('2020-11-21', '유럽', '리투아니아', 40492, 341, 0.8421416576), ('2020-11-21', '유럽', '벨라루스', 119390, 1074, 0.8995728285), ('2020-11-21', '유럽', '네덜란드', 466697, 8759, 1.8768065790000001), ('2020-11-21', '유럽', '루마니아', 393851, 9596, 2.4364543950999997), ('2020-11-21', '유럽', '노르웨이', 30768, 305, 0.9912896515), ('2020-11-21', '유럽', '북마케도니아', 51213, 1423, 2.7785913732), ('2020-11-21', '유럽', '그리스', 85261, 1347, 1.5798547987), ('2020-11-21', '유럽', '조지아', 96860, 894, 0.9229816229000001), ('2020-11-21', '유럽', '에스토니아', 8715, 86, 0.9868043602), ('2020-11-21', '유럽', '덴마크', 67105, 773, 1.1519260859), ('2020-11-21', '유럽', '벨기에', 550168, 15196, 2.7620654054), ('2020-11-21', '유럽', '스위스', 284560, 3456, 1.2145066065999999), ('2020-11-21', '유럽', '스웨덴', 201055, 6340, 3.1533659943), ('2020-11-21', '유럽', '핀란드', 20286, 374, 1.8436360050999998), ('2020-11-21', '유럽', '크로아티아', 93879, 1200, 1.2782411401), ('2020-11-21', '유럽', '오스트리아', 228058, 2018, 0.8848626226), ('2020-11-21', '유럽', '스페인', 1541574, 42291, 2.7433648984), ('2020-11-21', '유럽', '영국', 1453260, 53775, 3.7003013913), ('2020-11-21', '유럽', '프랑스', 2048857, 46780, 2.2832242562), ('2020-11-21', '유럽', '독일', 879564, 13630, 1.5496314082), ('2020-11-21', '유럽', '이탈리아', 1308528, 47870, 3.6583091839999997), ('2020-11-21', '아메리카', '수리남', 5282, 116, 2.1961378265000002), ('2020-11-21', '아메리카', '가이아나', 4914, 142, 2.8897028897), ('2020-11-21', '아메리카', '베네수엘라', 98350, 860, 0.874428063), ('2020-11-21', '아메리카', '파라과이', 73639, 1624, 2.2053531416), ('2020-11-21', '아메리카', '우루과이', 4296, 68, 1.5828677838999998), ('2020-11-21', '아메리카', '볼리비아', 143569, 8875, 6.1816966058), ('2020-11-21', '아메리카', '아르헨티나', 1339337, 36347, 2.7138054125999997), ('2020-11-21', '아메리카', '콜롬비아', 1218003, 34563, 2.8376777397), ('2020-11-21', '아메리카', '칠레', 536012, 14955, 2.7900494764999997), ('2020-11-21', '아메리카', '에콰도르', 183246, 13073, 7.1341257107), ('2020-11-21', '아메리카', '페루', 941951, 35402, 3.7583695967), ('2020-11-21', '아메리카', '브라질', 5945849, 167455, 2.8163345554), ('2020-11-21', '아메리카', '세인트키츠네비스', 19, 0, 0.0), ('2020-11-21', '아메리카', '도미니카연방', 72, 0, 0.0), ('2020-11-21', '아메리카', '세인트빈센트그레나딘', 83, 0, 0.0), ('2020-11-21', '아메리카', '세인트루시아', 203, 2, 0.9852216748), ('2020-11-21', '아메리카', '그레나다', 36, 0, 0.0), ('2020-11-21', '아메리카', '앤티가바부다', 139, 4, 2.8776978417000003), ('2020-11-21', '아메리카', '바베이도스', 253, 7, 2.7667984188999997), ('2020-11-21', '아메리카', '바하마', 7323, 163, 2.2258637169999997), ('2020-11-21', '아메리카', '아이티', 9208, 232, 2.5195482189), ('2020-11-21', '아메리카', '트리니다드토바고', 6180, 113, 1.8284789644), ('2020-11-21', '아메리카', '자메이카', 10088, 235, 2.3295003965), ('2020-11-21', '아메리카', '쿠바', 7725, 131, 1.6957928802000002), ('2020-11-21', '아메리카', '도미니카공화국', 136183, 2301, 1.6896382074), ('2020-11-21', '아메리카', '니카라구아', 4583, 159, 3.4693432249000002), ('2020-11-21', '아메리카', '벨리즈', 4958, 100, 2.0169423154), ('2020-11-21', '아메리카', '엘살바도르', 36965, 1061, 2.8702826998), ('2020-11-21', '아메리카', '코스타리카', 127012, 1588, 1.2502755645), ('2020-11-21', '아메리카', '과테말라', 117066, 4050, 3.4595868995999997), ('2020-11-21', '아메리카', '온두라스', 103488, 2839, 2.7433132343), ('2020-11-21', '아메리카', '파나마', 149833, 2907, 1.9401600447999998), ('2020-11-21', '아메리카', '멕시코', 1015071, 99528, 9.805028416699999), ('2020-11-21', '아메리카', '캐나다', 311109, 11186, 3.5955243982), ('2020-11-21', '아메리카', '미국', 11413788, 248571, 2.1778133604), ('2020-11-21', '중동', '예멘', 2072, 605, 29.198841698000003), ('2020-11-21', '중동', '알제리', 71652, 2224, 3.1038910288), ('2020-11-21', '중동', '아랍에미리트', 155254, 544, 0.3503935486), ('2020-11-21', '중동', '이스라엘', 325776, 2737, 0.8401478316), ('2020-11-21', '중동', '튀니지', 83772, 2541, 3.0332330611000002), ('2020-11-21', '중동', '시리아', 6991, 363, 5.1923902159), ('2020-11-21', '중동', '사우디아라비아', 354527, 5729, 1.6159559074), ('2020-11-21', '중동', '카타르', 136649, 235, 0.1719734502), ('2020-11-21', '중동', '오만', 121360, 1365, 1.1247528015000001), ('2020-11-21', '중동', '모로코', 311554, 5090, 1.6337456749000001), ('2020-11-21', '중동', '리비아', 76006, 1062, 1.3972581112), ('2020-11-21', '중동', '레바논', 111946, 868, 0.7753738409), ('2020-11-21', '중동', '쿠웨이트', 138822, 859, 0.6187780034), ('2020-11-21', '중동', '요르단', 169396, 2053, 1.2119530567), ('2020-11-21', '중동', '이라크', 529226, 11834, 2.2360957322), ('2020-11-21', '중동', '이집트', 111955, 6508, 5.8130498861), ('2020-11-21', '중동', '바레인', 85317, 337, 0.3949974799), ('2020-11-21', '중동', '이란', 815117, 43417, 5.3264746042), ('2020-11-21', '아시아', '타지키스탄', 11772, 86, 0.7305470608), ('2020-11-21', '아시아', '라오스', 25, 0, 0.0), ('2020-11-21', '아시아', '미얀마', 74882, 1676, 2.2381880825), ('2020-11-21', '아시아', '동티모르', 30, 0, 0.0), ('2020-11-21', '아시아', '키르기스스탄', 68702, 1223, 1.7801519606), ('2020-11-21', '아시아', '우즈베키스탄', 71071, 602, 0.8470402835999999), ('2020-11-21', '아시아', '카자흐스탄', 164736, 2365, 1.4356303418), ('2020-11-21', '아시아', '몽골', 518, 0, 0.0), ('2020-11-21', '아시아', '브루나이', 148, 3, 2.027027027), ('2020-11-21', '아시아', '방글라데시', 441159, 6305, 1.4291899291999999), ('2020-11-21', '아시아', '몰디브', 12452, 45, 0.36138772880000003), ('2020-11-21', '아시아', '부탄', 378, 0, 0.0), ('2020-11-21', '아시아', '인도네시아', 483518, 15600, 3.2263535173), ('2020-11-21', '아시아', '파키스탄', 365927, 7248, 1.9807229309999999), ('2020-11-21', '아시아', '아프가니스탄', 44228, 1650, 3.7306683548), ('2020-11-21', '아시아', '스리랑카', 18841, 73, 0.38745289520000004), ('2020-11-21', '아시아', '네팔', 215020, 1276, 0.593433169), ('2020-11-21', '아시아', '캄보디아', 304, 0, 0.0), ('2020-11-21', '아시아', '필리핀', 413430, 7998, 1.9345475654), ('2020-11-21', '아시아', '인도', 9004365, 132162, 1.4677548055), ('2020-11-21', '아시아', '베트남', 1304, 35, 2.6840490797), ('2020-11-21', '아시아', '말레이시아', 51680, 326, 0.6308049535), ('2020-11-21', '아시아', '태국', 3892, 60, 1.5416238437), ('2020-11-21', '아시아', '싱가포르', 58139, 28, 0.048160443), ('2020-11-21', '아시아', '일본', 125267, 1943, 1.5510868784), ('2020-11-21', '아시아', '마카오', 46, 0, 0.0), ('2020-11-21', '아시아', '대만', 611, 7, 1.1456628477), ('2020-11-21', '아시아', '홍콩', 5517, 108, 1.9575856443000001), ('2020-11-21', '아시아', '중국', 86414, 4634, 5.362556993), ('2020-11-21', '아시아', '한국', 30403, 503, 1.6544419958)]\n"
     ]
    }
   ],
   "source": [
    "def get_world_data(date):\n",
    "    sql = \"\"\" select * from world where date = ? \"\"\"\n",
    "    cur.execute(sql, (date,))\n",
    "    rows = cur.fetchall()\n",
    "    return rows\n",
    "    conn.commit()\n",
    "\n",
    "\n",
    "print(get_world _data('2020-11-21'))\n",
    "# print(get_world_data('2020-11-21'))"
   ]
  },
  {
   "cell_type": "markdown",
   "metadata": {},
   "source": [
    "# 성별연령별"
   ]
  },
  {
   "cell_type": "code",
   "execution_count": 68,
   "metadata": {},
   "outputs": [
    {
     "data": {
      "text/html": [
       "<div>\n",
       "<style scoped>\n",
       "    .dataframe tbody tr th:only-of-type {\n",
       "        vertical-align: middle;\n",
       "    }\n",
       "\n",
       "    .dataframe tbody tr th {\n",
       "        vertical-align: top;\n",
       "    }\n",
       "\n",
       "    .dataframe thead th {\n",
       "        text-align: right;\n",
       "    }\n",
       "</style>\n",
       "<table border=\"1\" class=\"dataframe\">\n",
       "  <thead>\n",
       "    <tr style=\"text-align: right;\">\n",
       "      <th></th>\n",
       "      <th>일자</th>\n",
       "      <th>구분</th>\n",
       "      <th>확진자</th>\n",
       "      <th>확진률</th>\n",
       "      <th>사망자</th>\n",
       "      <th>사망률</th>\n",
       "    </tr>\n",
       "  </thead>\n",
       "  <tbody>\n",
       "    <tr>\n",
       "      <th>0</th>\n",
       "      <td>2020-04-02</td>\n",
       "      <td>0-9</td>\n",
       "      <td>112</td>\n",
       "      <td>1.14</td>\n",
       "      <td>0</td>\n",
       "      <td>0.0</td>\n",
       "    </tr>\n",
       "    <tr>\n",
       "      <th>1</th>\n",
       "      <td>2020-04-02</td>\n",
       "      <td>10-19</td>\n",
       "      <td>515</td>\n",
       "      <td>5.26</td>\n",
       "      <td>0</td>\n",
       "      <td>0.0</td>\n",
       "    </tr>\n",
       "    <tr>\n",
       "      <th>2</th>\n",
       "      <td>2020-04-02</td>\n",
       "      <td>20-29</td>\n",
       "      <td>2656</td>\n",
       "      <td>27.14</td>\n",
       "      <td>0</td>\n",
       "      <td>0.0</td>\n",
       "    </tr>\n",
       "  </tbody>\n",
       "</table>\n",
       "</div>"
      ],
      "text/plain": [
       "           일자     구분   확진자    확진률  사망자  사망률\n",
       "0  2020-04-02    0-9   112   1.14    0  0.0\n",
       "1  2020-04-02  10-19   515   5.26    0  0.0\n",
       "2  2020-04-02  20-29  2656  27.14    0  0.0"
      ]
     },
     "execution_count": 68,
     "metadata": {},
     "output_type": "execute_result"
    }
   ],
   "source": [
    "demographic = pd.read_csv('../static/data/covid/성별연령별.csv',sep=',',encoding='utf8')\n",
    "del demographic['Unnamed: 0']\n",
    "demorgraphic.head(3)"
   ]
  },
  {
   "cell_type": "code",
   "execution_count": 70,
   "metadata": {},
   "outputs": [],
   "source": [
    "# 테이블 생성\n",
    "sql = '''create table demographic (\n",
    "  date text not null,\n",
    "  demo text not null,\n",
    "  casenum int default 0, \n",
    "  death int default 0, \n",
    "  caserate real default 0.00,\n",
    "  deathrate real default 0.00);'''\n",
    "cur.execute(sql)\n",
    "conn.commit()"
   ]
  },
  {
   "cell_type": "code",
   "execution_count": 72,
   "metadata": {},
   "outputs": [
    {
     "data": {
      "text/plain": [
       "['2020-04-02', '0-9']"
      ]
     },
     "execution_count": 72,
     "metadata": {},
     "output_type": "execute_result"
    }
   ],
   "source": [
    "text_col = list(demographic.iloc[0, 0:2])\n",
    "text_col"
   ]
  },
  {
   "cell_type": "code",
   "execution_count": 79,
   "metadata": {},
   "outputs": [
    {
     "data": {
      "text/plain": [
       "[112, 1.14]"
      ]
     },
     "execution_count": 79,
     "metadata": {},
     "output_type": "execute_result"
    }
   ],
   "source": [
    "# 원래는 정수끼리, float끼리 모아놓음\n",
    "int_col = list(demographic.iloc[0, 2:4])\n",
    "int_col"
   ]
  },
  {
   "cell_type": "code",
   "execution_count": 81,
   "metadata": {},
   "outputs": [
    {
     "data": {
      "text/plain": [
       "0"
      ]
     },
     "execution_count": 81,
     "metadata": {},
     "output_type": "execute_result"
    }
   ],
   "source": [
    "demographic.iloc[0, 4]"
   ]
  },
  {
   "cell_type": "code",
   "execution_count": 77,
   "metadata": {},
   "outputs": [
    {
     "data": {
      "text/plain": [
       "[0, 0.0]"
      ]
     },
     "execution_count": 77,
     "metadata": {},
     "output_type": "execute_result"
    }
   ],
   "source": [
    "float_col = list(demographic.iloc[0, 4:])\n",
    "float_col"
   ]
  },
  {
   "cell_type": "code",
   "execution_count": 83,
   "metadata": {},
   "outputs": [
    {
     "name": "stderr",
     "output_type": "stream",
     "text": [
      "100%|██████████| 2817/2817 [01:05<00:00, 42.74it/s]\n"
     ]
    }
   ],
   "source": [
    "sql = 'insert into demographic values(?,?,?,?,?,?);'\n",
    "for i in tqdm(range(len(demographic))):\n",
    "    text_col = list(demographic.iloc[i,0:2])\n",
    "    for k in range(2,4):\n",
    "        text_col.append(int(demographic.iloc[i,k]))\n",
    "    for h in range(4,6):\n",
    "        text_col.append(float(demographic.iloc[i,h]))\n",
    "    params = text_col\n",
    "    cur.execute(sql, params)\n",
    "    conn.commit()"
   ]
  },
  {
   "cell_type": "code",
   "execution_count": 94,
   "metadata": {},
   "outputs": [
    {
     "name": "stdout",
     "output_type": "stream",
     "text": [
      "[('2020-04-02', '0-9', 112, 1, 0.0, 0.0), ('2020-04-02', '10-19', 515, 5, 0.0, 0.0), ('2020-04-02', '20-29', 2656, 27, 0.0, 0.0), ('2020-04-02', '30-39', 1012, 10, 1.0, 0.62), ('2020-04-02', '40-49', 1312, 13, 1.0, 0.62), ('2020-04-02', '50-59', 1851, 18, 10.0, 6.17), ('2020-04-02', '60-69', 1235, 12, 22.0, 13.58), ('2020-04-02', '70-79', 651, 6, 46.0, 28.4), ('2020-04-02', '80 이상', 442, 4, 82.0, 50.62), ('2020-04-02', '여성', 5881, 60, 80.0, 49.38), ('2020-04-02', '남성', 3905, 39, 82.0, 50.62)]\n"
     ]
    }
   ],
   "source": [
    "def get_demorgraphic_data(date):\n",
    "    sql = \"\"\" select * from demographic where date = ? \"\"\"\n",
    "    cur.execute(sql, (date,))\n",
    "    rows = cur.fetchall()\n",
    "    return rows\n",
    "    conn.commit()\n",
    "\n",
    "print(get_demographic_data('2020-04-02'))"
   ]
  },
  {
   "cell_type": "code",
   "execution_count": null,
   "metadata": {},
   "outputs": [],
   "source": []
  },
  {
   "cell_type": "code",
   "execution_count": null,
   "metadata": {},
   "outputs": [],
   "source": []
  },
  {
   "cell_type": "code",
   "execution_count": null,
   "metadata": {},
   "outputs": [],
   "source": []
  },
  {
   "cell_type": "code",
   "execution_count": null,
   "metadata": {},
   "outputs": [],
   "source": []
  }
 ],
 "metadata": {
  "kernelspec": {
   "display_name": "Python 3",
   "language": "python",
   "name": "python3"
  },
  "language_info": {
   "codemirror_mode": {
    "name": "ipython",
    "version": 3
   },
   "file_extension": ".py",
   "mimetype": "text/x-python",
   "name": "python",
   "nbconvert_exporter": "python",
   "pygments_lexer": "ipython3",
   "version": "3.8.5-final"
  }
 },
 "nbformat": 4,
 "nbformat_minor": 2
}