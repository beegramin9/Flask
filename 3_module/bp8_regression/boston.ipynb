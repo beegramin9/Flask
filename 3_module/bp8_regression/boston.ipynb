{
 "metadata": {
  "language_info": {
   "codemirror_mode": {
    "name": "ipython",
    "version": 3
   },
   "file_extension": ".py",
   "mimetype": "text/x-python",
   "name": "python",
   "nbconvert_exporter": "python",
   "pygments_lexer": "ipython3",
   "version": "3.8.5-final"
  },
  "orig_nbformat": 2,
  "kernelspec": {
   "name": "python3",
   "display_name": "Python 3",
   "language": "python"
  }
 },
 "nbformat": 4,
 "nbformat_minor": 2,
 "cells": [
  {
   "source": [
    "# 보스톤 다중선형회귀"
   ],
   "cell_type": "markdown",
   "metadata": {}
  },
  {
   "cell_type": "code",
   "execution_count": 1,
   "metadata": {},
   "outputs": [],
   "source": [
    "import numpy as np\n",
    "import pandas as pd"
   ]
  },
  {
   "cell_type": "code",
   "execution_count": 3,
   "metadata": {},
   "outputs": [
    {
     "output_type": "execute_result",
     "data": {
      "text/plain": [
       "      CRIM    ZN  INDUS  CHAS    NOX     RM   AGE     DIS   RAD    TAX  \\\n",
       "0  6.53876   0.0  18.10   1.0  0.631  7.016  97.5  1.2024  24.0  666.0   \n",
       "1  0.01870  85.0   4.15   0.0  0.429  6.516  27.7  8.5353   4.0  351.0   \n",
       "2  9.82349   0.0  18.10   0.0  0.671  6.794  98.8  1.3580  24.0  666.0   \n",
       "\n",
       "   PTRATIO       B  LSTAT  target  \n",
       "0     20.2  392.05   2.96    50.0  \n",
       "1     17.9  392.43   6.36    23.1  \n",
       "2     20.2  396.90  21.24    13.3  "
      ],
      "text/html": "<div>\n<style scoped>\n    .dataframe tbody tr th:only-of-type {\n        vertical-align: middle;\n    }\n\n    .dataframe tbody tr th {\n        vertical-align: top;\n    }\n\n    .dataframe thead th {\n        text-align: right;\n    }\n</style>\n<table border=\"1\" class=\"dataframe\">\n  <thead>\n    <tr style=\"text-align: right;\">\n      <th></th>\n      <th>CRIM</th>\n      <th>ZN</th>\n      <th>INDUS</th>\n      <th>CHAS</th>\n      <th>NOX</th>\n      <th>RM</th>\n      <th>AGE</th>\n      <th>DIS</th>\n      <th>RAD</th>\n      <th>TAX</th>\n      <th>PTRATIO</th>\n      <th>B</th>\n      <th>LSTAT</th>\n      <th>target</th>\n    </tr>\n  </thead>\n  <tbody>\n    <tr>\n      <th>0</th>\n      <td>6.53876</td>\n      <td>0.0</td>\n      <td>18.10</td>\n      <td>1.0</td>\n      <td>0.631</td>\n      <td>7.016</td>\n      <td>97.5</td>\n      <td>1.2024</td>\n      <td>24.0</td>\n      <td>666.0</td>\n      <td>20.2</td>\n      <td>392.05</td>\n      <td>2.96</td>\n      <td>50.0</td>\n    </tr>\n    <tr>\n      <th>1</th>\n      <td>0.01870</td>\n      <td>85.0</td>\n      <td>4.15</td>\n      <td>0.0</td>\n      <td>0.429</td>\n      <td>6.516</td>\n      <td>27.7</td>\n      <td>8.5353</td>\n      <td>4.0</td>\n      <td>351.0</td>\n      <td>17.9</td>\n      <td>392.43</td>\n      <td>6.36</td>\n      <td>23.1</td>\n    </tr>\n    <tr>\n      <th>2</th>\n      <td>9.82349</td>\n      <td>0.0</td>\n      <td>18.10</td>\n      <td>0.0</td>\n      <td>0.671</td>\n      <td>6.794</td>\n      <td>98.8</td>\n      <td>1.3580</td>\n      <td>24.0</td>\n      <td>666.0</td>\n      <td>20.2</td>\n      <td>396.90</td>\n      <td>21.24</td>\n      <td>13.3</td>\n    </tr>\n  </tbody>\n</table>\n</div>"
     },
     "metadata": {},
     "execution_count": 3
    }
   ],
   "source": [
    "# 트레인 셋\n",
    "df_train = pd.read_csv('../static/data/regression/boston_train.csv')\n",
    "df_train.head(3)"
   ]
  },
  {
   "cell_type": "code",
   "execution_count": 4,
   "metadata": {},
   "outputs": [
    {
     "output_type": "execute_result",
     "data": {
      "text/plain": [
       "Index(['CRIM', 'ZN', 'INDUS', 'CHAS', 'NOX', 'RM', 'AGE', 'DIS', 'RAD', 'TAX',\n",
       "       'PTRATIO', 'B', 'LSTAT', 'target'],\n",
       "      dtype='object')"
      ]
     },
     "metadata": {},
     "execution_count": 4
    }
   ],
   "source": [
    "df_train.columns"
   ]
  },
  {
   "source": [
    "target과 임의의 feature에 대한 회귀식<br>"
   ],
   "cell_type": "markdown",
   "metadata": {}
  },
  {
   "cell_type": "code",
   "execution_count": 6,
   "metadata": {},
   "outputs": [
    {
     "output_type": "stream",
     "name": "stdout",
     "text": [
      "['CRIM', 'ZN', 'INDUS', 'CHAS', 'NOX', 'RM', 'AGE', 'DIS', 'RAD', 'TAX']\n"
     ]
    },
    {
     "output_type": "execute_result",
     "data": {
      "text/plain": [
       "        CRIM     ZN  INDUS  CHAS    NOX     RM   AGE     DIS   RAD    TAX\n",
       "0    6.53876    0.0  18.10   1.0  0.631  7.016  97.5  1.2024  24.0  666.0\n",
       "1    0.01870   85.0   4.15   0.0  0.429  6.516  27.7  8.5353   4.0  351.0\n",
       "2    9.82349    0.0  18.10   0.0  0.671  6.794  98.8  1.3580  24.0  666.0\n",
       "3    8.98296    0.0  18.10   1.0  0.770  6.212  97.4  2.1222  24.0  666.0\n",
       "4    0.15445   25.0   5.13   0.0  0.453  6.145  29.2  7.8148   8.0  284.0\n",
       "..       ...    ...    ...   ...    ...    ...   ...     ...   ...    ...\n",
       "374  0.26363    0.0   8.56   0.0  0.520  6.229  91.2  2.5451   5.0  384.0\n",
       "375  0.32543    0.0  21.89   0.0  0.624  6.431  98.8  1.8125   4.0  437.0\n",
       "376  0.01432  100.0   1.32   0.0  0.411  6.816  40.5  8.3248   5.0  256.0\n",
       "377  0.01301   35.0   1.52   0.0  0.442  7.241  49.3  7.0379   1.0  284.0\n",
       "378  0.13158    0.0  10.01   0.0  0.547  6.176  72.5  2.7301   6.0  432.0\n",
       "\n",
       "[379 rows x 10 columns]"
      ],
      "text/html": "<div>\n<style scoped>\n    .dataframe tbody tr th:only-of-type {\n        vertical-align: middle;\n    }\n\n    .dataframe tbody tr th {\n        vertical-align: top;\n    }\n\n    .dataframe thead th {\n        text-align: right;\n    }\n</style>\n<table border=\"1\" class=\"dataframe\">\n  <thead>\n    <tr style=\"text-align: right;\">\n      <th></th>\n      <th>CRIM</th>\n      <th>ZN</th>\n      <th>INDUS</th>\n      <th>CHAS</th>\n      <th>NOX</th>\n      <th>RM</th>\n      <th>AGE</th>\n      <th>DIS</th>\n      <th>RAD</th>\n      <th>TAX</th>\n    </tr>\n  </thead>\n  <tbody>\n    <tr>\n      <th>0</th>\n      <td>6.53876</td>\n      <td>0.0</td>\n      <td>18.10</td>\n      <td>1.0</td>\n      <td>0.631</td>\n      <td>7.016</td>\n      <td>97.5</td>\n      <td>1.2024</td>\n      <td>24.0</td>\n      <td>666.0</td>\n    </tr>\n    <tr>\n      <th>1</th>\n      <td>0.01870</td>\n      <td>85.0</td>\n      <td>4.15</td>\n      <td>0.0</td>\n      <td>0.429</td>\n      <td>6.516</td>\n      <td>27.7</td>\n      <td>8.5353</td>\n      <td>4.0</td>\n      <td>351.0</td>\n    </tr>\n    <tr>\n      <th>2</th>\n      <td>9.82349</td>\n      <td>0.0</td>\n      <td>18.10</td>\n      <td>0.0</td>\n      <td>0.671</td>\n      <td>6.794</td>\n      <td>98.8</td>\n      <td>1.3580</td>\n      <td>24.0</td>\n      <td>666.0</td>\n    </tr>\n    <tr>\n      <th>3</th>\n      <td>8.98296</td>\n      <td>0.0</td>\n      <td>18.10</td>\n      <td>1.0</td>\n      <td>0.770</td>\n      <td>6.212</td>\n      <td>97.4</td>\n      <td>2.1222</td>\n      <td>24.0</td>\n      <td>666.0</td>\n    </tr>\n    <tr>\n      <th>4</th>\n      <td>0.15445</td>\n      <td>25.0</td>\n      <td>5.13</td>\n      <td>0.0</td>\n      <td>0.453</td>\n      <td>6.145</td>\n      <td>29.2</td>\n      <td>7.8148</td>\n      <td>8.0</td>\n      <td>284.0</td>\n    </tr>\n    <tr>\n      <th>...</th>\n      <td>...</td>\n      <td>...</td>\n      <td>...</td>\n      <td>...</td>\n      <td>...</td>\n      <td>...</td>\n      <td>...</td>\n      <td>...</td>\n      <td>...</td>\n      <td>...</td>\n    </tr>\n    <tr>\n      <th>374</th>\n      <td>0.26363</td>\n      <td>0.0</td>\n      <td>8.56</td>\n      <td>0.0</td>\n      <td>0.520</td>\n      <td>6.229</td>\n      <td>91.2</td>\n      <td>2.5451</td>\n      <td>5.0</td>\n      <td>384.0</td>\n    </tr>\n    <tr>\n      <th>375</th>\n      <td>0.32543</td>\n      <td>0.0</td>\n      <td>21.89</td>\n      <td>0.0</td>\n      <td>0.624</td>\n      <td>6.431</td>\n      <td>98.8</td>\n      <td>1.8125</td>\n      <td>4.0</td>\n      <td>437.0</td>\n    </tr>\n    <tr>\n      <th>376</th>\n      <td>0.01432</td>\n      <td>100.0</td>\n      <td>1.32</td>\n      <td>0.0</td>\n      <td>0.411</td>\n      <td>6.816</td>\n      <td>40.5</td>\n      <td>8.3248</td>\n      <td>5.0</td>\n      <td>256.0</td>\n    </tr>\n    <tr>\n      <th>377</th>\n      <td>0.01301</td>\n      <td>35.0</td>\n      <td>1.52</td>\n      <td>0.0</td>\n      <td>0.442</td>\n      <td>7.241</td>\n      <td>49.3</td>\n      <td>7.0379</td>\n      <td>1.0</td>\n      <td>284.0</td>\n    </tr>\n    <tr>\n      <th>378</th>\n      <td>0.13158</td>\n      <td>0.0</td>\n      <td>10.01</td>\n      <td>0.0</td>\n      <td>0.547</td>\n      <td>6.176</td>\n      <td>72.5</td>\n      <td>2.7301</td>\n      <td>6.0</td>\n      <td>432.0</td>\n    </tr>\n  </tbody>\n</table>\n<p>379 rows × 10 columns</p>\n</div>"
     },
     "metadata": {},
     "execution_count": 6
    }
   ],
   "source": [
    "# Client에서 받는 feature, 복수선택 가능\n",
    "feature_list = list(df.columns[:-4])\n",
    "print(feature_list)\n",
    "df_train[feature_list]"
   ]
  },
  {
   "source": [
    "데이터를 fit할 땐 numpy array로 바꿔줘야 한다."
   ],
   "cell_type": "markdown",
   "metadata": {}
  },
  {
   "cell_type": "code",
   "execution_count": 21,
   "metadata": {},
   "outputs": [
    {
     "output_type": "execute_result",
     "data": {
      "text/plain": [
       "((379, 10), (379, 1))"
      ]
     },
     "metadata": {},
     "execution_count": 21
    }
   ],
   "source": [
    "X_train = df[feature_list].values\n",
    "y_train = df.target.values.reshape(-1,1)\n",
    "X_train.shape, y_train.shape"
   ]
  },
  {
   "cell_type": "code",
   "execution_count": 22,
   "metadata": {},
   "outputs": [],
   "source": [
    "from sklearn.linear_model import LinearRegression\n",
    "lr = LinearRegression()"
   ]
  },
  {
   "cell_type": "code",
   "execution_count": 23,
   "metadata": {},
   "outputs": [
    {
     "output_type": "execute_result",
     "data": {
      "text/plain": [
       "LinearRegression()"
      ]
     },
     "metadata": {},
     "execution_count": 23
    }
   ],
   "source": [
    "lr.fit(X_train, y_train)"
   ]
  },
  {
   "cell_type": "code",
   "execution_count": 24,
   "metadata": {},
   "outputs": [
    {
     "output_type": "stream",
     "name": "stdout",
     "text": [
      "[[ -0.19878607   0.07199088  -0.12275418   5.84042453 -13.86027594\n    6.69673948  -0.05275528  -1.83295231   0.21417975  -0.01526654]]\n[3.99963004]\n"
     ]
    }
   ],
   "source": [
    "weight, bias = lr.coef_, lr.intercept_\n",
    "print(weight)\n",
    "print(bias)"
   ]
  },
  {
   "cell_type": "code",
   "execution_count": 25,
   "metadata": {},
   "outputs": [
    {
     "output_type": "execute_result",
     "data": {
      "text/plain": [
       "      CRIM   ZN  INDUS  CHAS    NOX     RM   AGE     DIS  RAD    TAX  PTRATIO  \\\n",
       "0  0.17446  0.0  10.59   1.0  0.489  5.960  92.1  3.8771  4.0  277.0     18.6   \n",
       "1  0.75026  0.0   8.14   0.0  0.538  5.924  94.1  4.3996  4.0  307.0     21.0   \n",
       "2  0.09744  0.0   5.96   0.0  0.499  5.841  61.4  3.3779  5.0  279.0     19.2   \n",
       "\n",
       "        B  LSTAT  target  \n",
       "0  393.25  17.27    21.7  \n",
       "1  394.33  16.30    15.6  \n",
       "2  377.56  11.41    20.0  "
      ],
      "text/html": "<div>\n<style scoped>\n    .dataframe tbody tr th:only-of-type {\n        vertical-align: middle;\n    }\n\n    .dataframe tbody tr th {\n        vertical-align: top;\n    }\n\n    .dataframe thead th {\n        text-align: right;\n    }\n</style>\n<table border=\"1\" class=\"dataframe\">\n  <thead>\n    <tr style=\"text-align: right;\">\n      <th></th>\n      <th>CRIM</th>\n      <th>ZN</th>\n      <th>INDUS</th>\n      <th>CHAS</th>\n      <th>NOX</th>\n      <th>RM</th>\n      <th>AGE</th>\n      <th>DIS</th>\n      <th>RAD</th>\n      <th>TAX</th>\n      <th>PTRATIO</th>\n      <th>B</th>\n      <th>LSTAT</th>\n      <th>target</th>\n    </tr>\n  </thead>\n  <tbody>\n    <tr>\n      <th>0</th>\n      <td>0.17446</td>\n      <td>0.0</td>\n      <td>10.59</td>\n      <td>1.0</td>\n      <td>0.489</td>\n      <td>5.960</td>\n      <td>92.1</td>\n      <td>3.8771</td>\n      <td>4.0</td>\n      <td>277.0</td>\n      <td>18.6</td>\n      <td>393.25</td>\n      <td>17.27</td>\n      <td>21.7</td>\n    </tr>\n    <tr>\n      <th>1</th>\n      <td>0.75026</td>\n      <td>0.0</td>\n      <td>8.14</td>\n      <td>0.0</td>\n      <td>0.538</td>\n      <td>5.924</td>\n      <td>94.1</td>\n      <td>4.3996</td>\n      <td>4.0</td>\n      <td>307.0</td>\n      <td>21.0</td>\n      <td>394.33</td>\n      <td>16.30</td>\n      <td>15.6</td>\n    </tr>\n    <tr>\n      <th>2</th>\n      <td>0.09744</td>\n      <td>0.0</td>\n      <td>5.96</td>\n      <td>0.0</td>\n      <td>0.499</td>\n      <td>5.841</td>\n      <td>61.4</td>\n      <td>3.3779</td>\n      <td>5.0</td>\n      <td>279.0</td>\n      <td>19.2</td>\n      <td>377.56</td>\n      <td>11.41</td>\n      <td>20.0</td>\n    </tr>\n  </tbody>\n</table>\n</div>"
     },
     "metadata": {},
     "execution_count": 25
    }
   ],
   "source": [
    "# 테스트 셋\n",
    "df_test = pd.read_csv('../static/data/regression/boston_test.csv')\n",
    "df_test.head(3)"
   ]
  },
  {
   "cell_type": "code",
   "execution_count": 26,
   "metadata": {},
   "outputs": [],
   "source": [
    "# 클라이언트에서 받는 index\n",
    "index = 20"
   ]
  },
  {
   "cell_type": "code",
   "execution_count": 27,
   "metadata": {},
   "outputs": [
    {
     "output_type": "execute_result",
     "data": {
      "text/plain": [
       "array([[1.74460e-01, 0.00000e+00, 1.05900e+01, ..., 3.87710e+00,\n",
       "        4.00000e+00, 2.77000e+02],\n",
       "       [7.50260e-01, 0.00000e+00, 8.14000e+00, ..., 4.39960e+00,\n",
       "        4.00000e+00, 3.07000e+02],\n",
       "       [9.74400e-02, 0.00000e+00, 5.96000e+00, ..., 3.37790e+00,\n",
       "        5.00000e+00, 2.79000e+02],\n",
       "       ...,\n",
       "       [7.24400e-02, 6.00000e+01, 1.69000e+00, ..., 1.07103e+01,\n",
       "        4.00000e+00, 4.11000e+02],\n",
       "       [1.71200e-01, 0.00000e+00, 8.56000e+00, ..., 2.21100e+00,\n",
       "        5.00000e+00, 3.84000e+02],\n",
       "       [5.29305e+00, 0.00000e+00, 1.81000e+01, ..., 2.16780e+00,\n",
       "        2.40000e+01, 6.66000e+02]])"
      ]
     },
     "metadata": {},
     "execution_count": 27
    }
   ],
   "source": [
    "# 데이터프레임을 2차원 numpy로 바꿈\n",
    "df_test[feature_list].values"
   ]
  },
  {
   "cell_type": "code",
   "execution_count": 28,
   "metadata": {},
   "outputs": [
    {
     "output_type": "execute_result",
     "data": {
      "text/plain": [
       "(array([6.1510e-02, 0.0000e+00, 5.1900e+00, 0.0000e+00, 5.1500e-01,\n",
       "        5.9680e+00, 5.8500e+01, 4.8122e+00, 5.0000e+00, 2.2400e+02]),\n",
       " 18.7)"
      ]
     },
     "metadata": {},
     "execution_count": 28
    }
   ],
   "source": [
    "X_test = df_test[feature_list].values[index, :]\n",
    "y_test = df_test.target[index]\n",
    "X_test, y_test"
   ]
  },
  {
   "cell_type": "code",
   "execution_count": 31,
   "metadata": {},
   "outputs": [
    {
     "output_type": "execute_result",
     "data": {
      "text/plain": [
       "21.922884590302807"
      ]
     },
     "metadata": {},
     "execution_count": 31
    }
   ],
   "source": [
    "# 이렇게 해도 되고\n",
    "pred = np.dot(X_test, weight.T) + bias\n",
    "pred[0]"
   ]
  },
  {
   "cell_type": "code",
   "execution_count": 32,
   "metadata": {},
   "outputs": [
    {
     "output_type": "execute_result",
     "data": {
      "text/plain": [
       "21.92"
      ]
     },
     "metadata": {},
     "execution_count": 32
    }
   ],
   "source": [
    "# 이렇게 해도 됨\n",
    "tmp = lr.predict(X_test.reshape(1,-1))\n",
    "pred = np.round(tmp[0], 2)\n",
    "pred[0]"
   ]
  },
  {
   "cell_type": "code",
   "execution_count": 35,
   "metadata": {},
   "outputs": [
    {
     "output_type": "execute_result",
     "data": {
      "text/plain": [
       "{'CRIM': 0.06151,\n",
       " 'ZN': 0.0,\n",
       " 'INDUS': 5.19,\n",
       " 'CHAS': 0.0,\n",
       " 'NOX': 0.515,\n",
       " 'RM': 5.968,\n",
       " 'AGE': 58.5,\n",
       " 'DIS': 4.8122,\n",
       " 'RAD': 5.0,\n",
       " 'TAX': 224.0,\n",
       " 'PTRATIO': 20.2,\n",
       " 'B': 396.9,\n",
       " 'LSTAT': 9.29}"
      ]
     },
     "metadata": {},
     "execution_count": 35
    }
   ],
   "source": [
    "# 다중회귀에 사용된 테스트셋의 feature와 그 값들\n",
    "df_test.iloc[index, :-1].to_dict()"
   ]
  }
 ]
}