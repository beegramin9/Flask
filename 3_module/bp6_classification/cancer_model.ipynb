{
 "metadata": {
  "language_info": {
   "codemirror_mode": {
    "name": "ipython",
    "version": 3
   },
   "file_extension": ".py",
   "mimetype": "text/x-python",
   "name": "python",
   "nbconvert_exporter": "python",
   "pygments_lexer": "ipython3",
   "version": "3.8.5-final"
  },
  "orig_nbformat": 2,
  "kernelspec": {
   "name": "python3",
   "display_name": "Python 3",
   "language": "python"
  }
 },
 "nbformat": 4,
 "nbformat_minor": 2,
 "cells": [
  {
   "source": [
    "# 유방암 모델 만들기"
   ],
   "cell_type": "markdown",
   "metadata": {}
  },
  {
   "cell_type": "code",
   "execution_count": 1,
   "metadata": {},
   "outputs": [],
   "source": [
    "import pandas as pd \n",
    "import joblib"
   ]
  },
  {
   "cell_type": "code",
   "execution_count": 2,
   "metadata": {},
   "outputs": [],
   "source": [
    "from sklearn.preprocessing import StandardScaler, MinMaxScaler\n",
    "from sklearn.linear_model import LogisticRegression\n",
    "from sklearn.svm import SVC\n",
    "from sklearn.ensemble import RandomForestClassifier\n",
    "from sklearn.tree import DecisionTreeClassifier\n",
    "from sklearn.model_selection import GridSearchCV\n",
    "from sklearn.metrics import accuracy_score"
   ]
  },
  {
   "source": [
    "트레인셋"
   ],
   "cell_type": "markdown",
   "metadata": {}
  },
  {
   "cell_type": "code",
   "execution_count": 4,
   "metadata": {},
   "outputs": [
    {
     "output_type": "execute_result",
     "data": {
      "text/plain": [
       "   mean radius  mean texture  mean perimeter  mean area  mean smoothness  \\\n",
       "0        25.73         17.46          174.20     2010.0          0.11490   \n",
       "1        13.50         12.71           85.69      566.2          0.07376   \n",
       "2        17.35         23.06          111.00      933.1          0.08662   \n",
       "3        11.61         16.02           75.46      408.2          0.10880   \n",
       "4        11.87         21.54           76.83      432.0          0.06613   \n",
       "\n",
       "   mean compactness  mean concavity  mean concave points  mean symmetry  \\\n",
       "0           0.23630        0.336800             0.191300         0.1956   \n",
       "1           0.03614        0.002758             0.004419         0.1365   \n",
       "2           0.06290        0.028910             0.028370         0.1564   \n",
       "3           0.11680        0.070970             0.044970         0.1886   \n",
       "4           0.10640        0.087770             0.023860         0.1349   \n",
       "\n",
       "   mean fractal dimension  ...  worst texture  worst perimeter  worst area  \\\n",
       "0                 0.06121  ...          23.58           229.30      3234.0   \n",
       "1                 0.05335  ...          16.94            95.48       698.7   \n",
       "2                 0.05307  ...          31.47           128.20      1218.0   \n",
       "3                 0.06320  ...          19.67            81.93       475.7   \n",
       "4                 0.06612  ...          28.18            83.51       507.2   \n",
       "\n",
       "   worst smoothness  worst compactness  worst concavity  worst concave points  \\\n",
       "0           0.15300            0.59370          0.64510               0.27560   \n",
       "1           0.09023            0.05836          0.01379               0.02210   \n",
       "2           0.12400            0.14860          0.12110               0.08235   \n",
       "3           0.14150            0.21700          0.23020               0.11050   \n",
       "4           0.09457            0.33990          0.32180               0.08750   \n",
       "\n",
       "   worst symmetry  worst fractal dimension  target  \n",
       "0          0.3690                  0.08815       0  \n",
       "1          0.2267                  0.06192       1  \n",
       "2          0.2452                  0.06515       0  \n",
       "3          0.2787                  0.07427       1  \n",
       "4          0.2305                  0.09952       1  \n",
       "\n",
       "[5 rows x 31 columns]"
      ],
      "text/html": "<div>\n<style scoped>\n    .dataframe tbody tr th:only-of-type {\n        vertical-align: middle;\n    }\n\n    .dataframe tbody tr th {\n        vertical-align: top;\n    }\n\n    .dataframe thead th {\n        text-align: right;\n    }\n</style>\n<table border=\"1\" class=\"dataframe\">\n  <thead>\n    <tr style=\"text-align: right;\">\n      <th></th>\n      <th>mean radius</th>\n      <th>mean texture</th>\n      <th>mean perimeter</th>\n      <th>mean area</th>\n      <th>mean smoothness</th>\n      <th>mean compactness</th>\n      <th>mean concavity</th>\n      <th>mean concave points</th>\n      <th>mean symmetry</th>\n      <th>mean fractal dimension</th>\n      <th>...</th>\n      <th>worst texture</th>\n      <th>worst perimeter</th>\n      <th>worst area</th>\n      <th>worst smoothness</th>\n      <th>worst compactness</th>\n      <th>worst concavity</th>\n      <th>worst concave points</th>\n      <th>worst symmetry</th>\n      <th>worst fractal dimension</th>\n      <th>target</th>\n    </tr>\n  </thead>\n  <tbody>\n    <tr>\n      <th>0</th>\n      <td>25.73</td>\n      <td>17.46</td>\n      <td>174.20</td>\n      <td>2010.0</td>\n      <td>0.11490</td>\n      <td>0.23630</td>\n      <td>0.336800</td>\n      <td>0.191300</td>\n      <td>0.1956</td>\n      <td>0.06121</td>\n      <td>...</td>\n      <td>23.58</td>\n      <td>229.30</td>\n      <td>3234.0</td>\n      <td>0.15300</td>\n      <td>0.59370</td>\n      <td>0.64510</td>\n      <td>0.27560</td>\n      <td>0.3690</td>\n      <td>0.08815</td>\n      <td>0</td>\n    </tr>\n    <tr>\n      <th>1</th>\n      <td>13.50</td>\n      <td>12.71</td>\n      <td>85.69</td>\n      <td>566.2</td>\n      <td>0.07376</td>\n      <td>0.03614</td>\n      <td>0.002758</td>\n      <td>0.004419</td>\n      <td>0.1365</td>\n      <td>0.05335</td>\n      <td>...</td>\n      <td>16.94</td>\n      <td>95.48</td>\n      <td>698.7</td>\n      <td>0.09023</td>\n      <td>0.05836</td>\n      <td>0.01379</td>\n      <td>0.02210</td>\n      <td>0.2267</td>\n      <td>0.06192</td>\n      <td>1</td>\n    </tr>\n    <tr>\n      <th>2</th>\n      <td>17.35</td>\n      <td>23.06</td>\n      <td>111.00</td>\n      <td>933.1</td>\n      <td>0.08662</td>\n      <td>0.06290</td>\n      <td>0.028910</td>\n      <td>0.028370</td>\n      <td>0.1564</td>\n      <td>0.05307</td>\n      <td>...</td>\n      <td>31.47</td>\n      <td>128.20</td>\n      <td>1218.0</td>\n      <td>0.12400</td>\n      <td>0.14860</td>\n      <td>0.12110</td>\n      <td>0.08235</td>\n      <td>0.2452</td>\n      <td>0.06515</td>\n      <td>0</td>\n    </tr>\n    <tr>\n      <th>3</th>\n      <td>11.61</td>\n      <td>16.02</td>\n      <td>75.46</td>\n      <td>408.2</td>\n      <td>0.10880</td>\n      <td>0.11680</td>\n      <td>0.070970</td>\n      <td>0.044970</td>\n      <td>0.1886</td>\n      <td>0.06320</td>\n      <td>...</td>\n      <td>19.67</td>\n      <td>81.93</td>\n      <td>475.7</td>\n      <td>0.14150</td>\n      <td>0.21700</td>\n      <td>0.23020</td>\n      <td>0.11050</td>\n      <td>0.2787</td>\n      <td>0.07427</td>\n      <td>1</td>\n    </tr>\n    <tr>\n      <th>4</th>\n      <td>11.87</td>\n      <td>21.54</td>\n      <td>76.83</td>\n      <td>432.0</td>\n      <td>0.06613</td>\n      <td>0.10640</td>\n      <td>0.087770</td>\n      <td>0.023860</td>\n      <td>0.1349</td>\n      <td>0.06612</td>\n      <td>...</td>\n      <td>28.18</td>\n      <td>83.51</td>\n      <td>507.2</td>\n      <td>0.09457</td>\n      <td>0.33990</td>\n      <td>0.32180</td>\n      <td>0.08750</td>\n      <td>0.2305</td>\n      <td>0.09952</td>\n      <td>1</td>\n    </tr>\n  </tbody>\n</table>\n<p>5 rows × 31 columns</p>\n</div>"
     },
     "metadata": {},
     "execution_count": 4
    }
   ],
   "source": [
    "df_train = pd.read_csv('../static/data/classification/cancer_train.csv')\n",
    "df_train.head()"
   ]
  },
  {
   "cell_type": "code",
   "execution_count": 5,
   "metadata": {},
   "outputs": [],
   "source": [
    "X_train = df_train.drop(columns='target', axis=1)\n",
    "y_train = df_train.target.values"
   ]
  },
  {
   "source": [
    "정규화"
   ],
   "cell_type": "markdown",
   "metadata": {}
  },
  {
   "cell_type": "code",
   "execution_count": 7,
   "metadata": {},
   "outputs": [
    {
     "output_type": "execute_result",
     "data": {
      "text/plain": [
       "((426, 30), (426,))"
      ]
     },
     "metadata": {},
     "execution_count": 7
    }
   ],
   "source": [
    "scaler = MinMaxScaler()\n",
    "X_train = scaler.fit_transform(X_train)\n",
    "X_train.shape, y_train.shape"
   ]
  },
  {
   "source": [
    "테스트셋"
   ],
   "cell_type": "markdown",
   "metadata": {}
  },
  {
   "cell_type": "code",
   "execution_count": 8,
   "metadata": {},
   "outputs": [
    {
     "output_type": "execute_result",
     "data": {
      "text/plain": [
       "((143, 30), (143,))"
      ]
     },
     "metadata": {},
     "execution_count": 8
    }
   ],
   "source": [
    "# 정규화까지 한 번에\n",
    "df_test = pd.read_csv('../static/data/classification/cancer_test.csv')\n",
    "y_test = df_test.target.values\n",
    "X_test = scaler.fit_transform(df_test.drop(columns='target', axis=1))\n",
    "X_test.shape, y_test.shape"
   ]
  },
  {
   "source": [
    "1. Logistic Regression"
   ],
   "cell_type": "markdown",
   "metadata": {}
  },
  {
   "cell_type": "code",
   "execution_count": 9,
   "metadata": {},
   "outputs": [
    {
     "output_type": "execute_result",
     "data": {
      "text/plain": [
       "{'C': 1.0,\n",
       " 'class_weight': None,\n",
       " 'dual': False,\n",
       " 'fit_intercept': True,\n",
       " 'intercept_scaling': 1,\n",
       " 'l1_ratio': None,\n",
       " 'max_iter': 100,\n",
       " 'multi_class': 'auto',\n",
       " 'n_jobs': None,\n",
       " 'penalty': 'l2',\n",
       " 'random_state': None,\n",
       " 'solver': 'lbfgs',\n",
       " 'tol': 0.0001,\n",
       " 'verbose': 0,\n",
       " 'warm_start': False}"
      ]
     },
     "metadata": {},
     "execution_count": 9
    }
   ],
   "source": [
    "lr_clf = LogisticRegression()\n",
    "lr_clf.get_params()"
   ]
  },
  {
   "cell_type": "code",
   "execution_count": 10,
   "metadata": {},
   "outputs": [],
   "source": [
    "params = {\n",
    "    #'C': [0.1, 1, 5]\n",
    "    'C': [3, 4, 5, 6, 7]\n",
    "}"
   ]
  },
  {
   "cell_type": "code",
   "execution_count": 11,
   "metadata": {},
   "outputs": [
    {
     "output_type": "stream",
     "name": "stdout",
     "text": [
      "최고 평균 정확도: 0.9741\n최적 파라미터: {'C': 5}\n"
     ]
    }
   ],
   "source": [
    "grid_cv = GridSearchCV(lr_clf, param_grid=params, scoring='accuracy', cv=5)\n",
    "grid_cv.fit(X_train, y_train)\n",
    "print(f'최고 평균 정확도: {grid_cv.best_score_:.4f}')\n",
    "print('최적 파라미터:', grid_cv.best_params_)"
   ]
  },
  {
   "cell_type": "code",
   "execution_count": 12,
   "metadata": {},
   "outputs": [
    {
     "output_type": "execute_result",
     "data": {
      "text/plain": [
       "0.972027972027972"
      ]
     },
     "metadata": {},
     "execution_count": 12
    }
   ],
   "source": [
    "best_lr = grid_cv.best_estimator_\n",
    "pred = best_lr.predict(X_test)\n",
    "accuracy_score(y_test, pred)"
   ]
  },
  {
   "cell_type": "code",
   "execution_count": 14,
   "metadata": {},
   "outputs": [
    {
     "output_type": "execute_result",
     "data": {
      "text/plain": [
       "['../static/model/cancer_lr.pkl']"
      ]
     },
     "metadata": {},
     "execution_count": 14
    }
   ],
   "source": [
    "joblib.dump(best_lr, '../static/model/cancer_lr.pkl')"
   ]
  },
  {
   "source": [
    "2. SVM"
   ],
   "cell_type": "markdown",
   "metadata": {}
  },
  {
   "cell_type": "code",
   "execution_count": 15,
   "metadata": {},
   "outputs": [
    {
     "output_type": "execute_result",
     "data": {
      "text/plain": [
       "{'C': 1.0,\n",
       " 'break_ties': False,\n",
       " 'cache_size': 200,\n",
       " 'class_weight': None,\n",
       " 'coef0': 0.0,\n",
       " 'decision_function_shape': 'ovr',\n",
       " 'degree': 3,\n",
       " 'gamma': 'scale',\n",
       " 'kernel': 'rbf',\n",
       " 'max_iter': -1,\n",
       " 'probability': False,\n",
       " 'random_state': None,\n",
       " 'shrinking': True,\n",
       " 'tol': 0.001,\n",
       " 'verbose': False}"
      ]
     },
     "metadata": {},
     "execution_count": 15
    }
   ],
   "source": [
    "sv_clf = SVC()\n",
    "sv_clf.get_params()"
   ]
  },
  {
   "cell_type": "code",
   "execution_count": 16,
   "metadata": {},
   "outputs": [
    {
     "output_type": "stream",
     "name": "stdout",
     "text": [
      "최고 평균 정확도: 0.9789\n최적 파라미터: {'C': 7}\n"
     ]
    }
   ],
   "source": [
    "params = {\n",
    "    #'C': [0.1, 1, 5, 7, 10]\n",
    "    'C': [5, 6, 7, 8, 9]\n",
    "}\n",
    "grid_cv = GridSearchCV(sv_clf, param_grid=params, scoring='accuracy', cv=5)\n",
    "grid_cv.fit(X_train, y_train)\n",
    "print(f'최고 평균 정확도: {grid_cv.best_score_:.4f}')\n",
    "print('최적 파라미터:', grid_cv.best_params_)"
   ]
  },
  {
   "cell_type": "code",
   "execution_count": 17,
   "metadata": {},
   "outputs": [
    {
     "output_type": "execute_result",
     "data": {
      "text/plain": [
       "0.9790209790209791"
      ]
     },
     "metadata": {},
     "execution_count": 17
    }
   ],
   "source": [
    "best_sv = grid_cv.best_estimator_\n",
    "pred = best_sv.predict(X_test)\n",
    "accuracy_score(y_test, pred)"
   ]
  },
  {
   "cell_type": "code",
   "execution_count": 18,
   "metadata": {},
   "outputs": [
    {
     "output_type": "execute_result",
     "data": {
      "text/plain": [
       "['../static/model/cancer_sv.pkl']"
      ]
     },
     "metadata": {},
     "execution_count": 18
    }
   ],
   "source": [
    "joblib.dump(best_sv, '../static/model/cancer_sv.pkl')"
   ]
  },
  {
   "source": [
    "3. Random Forest"
   ],
   "cell_type": "markdown",
   "metadata": {}
  },
  {
   "cell_type": "code",
   "execution_count": 19,
   "metadata": {},
   "outputs": [
    {
     "output_type": "execute_result",
     "data": {
      "text/plain": [
       "{'bootstrap': True,\n",
       " 'ccp_alpha': 0.0,\n",
       " 'class_weight': None,\n",
       " 'criterion': 'gini',\n",
       " 'max_depth': None,\n",
       " 'max_features': 'auto',\n",
       " 'max_leaf_nodes': None,\n",
       " 'max_samples': None,\n",
       " 'min_impurity_decrease': 0.0,\n",
       " 'min_impurity_split': None,\n",
       " 'min_samples_leaf': 1,\n",
       " 'min_samples_split': 2,\n",
       " 'min_weight_fraction_leaf': 0.0,\n",
       " 'n_estimators': 100,\n",
       " 'n_jobs': None,\n",
       " 'oob_score': False,\n",
       " 'random_state': None,\n",
       " 'verbose': 0,\n",
       " 'warm_start': False}"
      ]
     },
     "metadata": {},
     "execution_count": 19
    }
   ],
   "source": [
    "rf_clf = RandomForestClassifier()\n",
    "rf_clf.get_params()"
   ]
  },
  {
   "cell_type": "code",
   "execution_count": 20,
   "metadata": {},
   "outputs": [
    {
     "output_type": "stream",
     "name": "stdout",
     "text": [
      "최고 평균 정확도: 0.9601\n최적 파라미터: {'max_depth': 8, 'min_samples_split': 2}\n"
     ]
    }
   ],
   "source": [
    "params = {\n",
    "    'max_depth': [4, 6, 8, 10],\n",
    "    'min_samples_split': [2, 3, 4]\n",
    "}\n",
    "grid_cv = GridSearchCV(rf_clf, param_grid=params, scoring='accuracy', cv=5)\n",
    "grid_cv.fit(X_train, y_train)\n",
    "print(f'최고 평균 정확도: {grid_cv.best_score_:.4f}')\n",
    "print('최적 파라미터:', grid_cv.best_params_)"
   ]
  },
  {
   "cell_type": "code",
   "execution_count": 21,
   "metadata": {},
   "outputs": [
    {
     "output_type": "execute_result",
     "data": {
      "text/plain": [
       "0.951048951048951"
      ]
     },
     "metadata": {},
     "execution_count": 21
    }
   ],
   "source": [
    "best_rf = grid_cv.best_estimator_\n",
    "pred = best_rf.predict(X_test)\n",
    "accuracy_score(y_test, pred)"
   ]
  },
  {
   "cell_type": "code",
   "execution_count": 22,
   "metadata": {},
   "outputs": [
    {
     "output_type": "execute_result",
     "data": {
      "text/plain": [
       "['../static/model/cancer_rf.pkl']"
      ]
     },
     "metadata": {},
     "execution_count": 22
    }
   ],
   "source": [
    "joblib.dump(best_rf, '../static/model/cancer_rf.pkl')"
   ]
  },
  {
   "source": [
    "데이터 인덱스로 잡아서 테스트하기"
   ],
   "cell_type": "markdown",
   "metadata": {}
  },
  {
   "cell_type": "code",
   "execution_count": 28,
   "metadata": {},
   "outputs": [
    {
     "output_type": "execute_result",
     "data": {
      "text/plain": [
       "(143, 30)"
      ]
     },
     "metadata": {},
     "execution_count": 28
    }
   ],
   "source": [
    "index = 101\n",
    "scaled_test = scaler.fit_transform(df_test.iloc[:, :-1])\n",
    "scaled_test.shape"
   ]
  },
  {
   "cell_type": "code",
   "execution_count": 29,
   "metadata": {},
   "outputs": [
    {
     "output_type": "stream",
     "name": "stdout",
     "text": [
      "[0.25242572 0.48668846 0.24846558 0.14770598 0.27275401 0.37258725\n 0.24586173 0.17761755 0.33436341 0.32958801 0.06039295 0.11666094\n 0.11946859 0.03180557 0.10010807 0.61213361 0.19401515 0.25913999\n 0.09269442 0.25006564 0.27563939 0.38360842 0.37082936 0.15457878\n 0.25998123 0.72753346 0.79795521 0.46744747 0.30394487 0.74611676]\n"
     ]
    },
    {
     "output_type": "execute_result",
     "data": {
      "text/plain": [
       "array([[0.25242572, 0.48668846, 0.24846558, 0.14770598, 0.27275401,\n",
       "        0.37258725, 0.24586173, 0.17761755, 0.33436341, 0.32958801,\n",
       "        0.06039295, 0.11666094, 0.11946859, 0.03180557, 0.10010807,\n",
       "        0.61213361, 0.19401515, 0.25913999, 0.09269442, 0.25006564,\n",
       "        0.27563939, 0.38360842, 0.37082936, 0.15457878, 0.25998123,\n",
       "        0.72753346, 0.79795521, 0.46744747, 0.30394487, 0.74611676]])"
      ]
     },
     "metadata": {},
     "execution_count": 29
    }
   ],
   "source": [
    "# index행의 열들\n",
    "print(scaled_test[index, :])\n",
    "# 정규화\n",
    "test_data = scaled_test[index, :].reshape(1,-1)\n",
    "test_data"
   ]
  },
  {
   "cell_type": "code",
   "execution_count": 30,
   "metadata": {},
   "outputs": [
    {
     "output_type": "execute_result",
     "data": {
      "text/plain": [
       "1"
      ]
     },
     "metadata": {},
     "execution_count": 30
    }
   ],
   "source": [
    "# index행의 label(결과)\n",
    "label = df_test.iloc[index, -1]\n",
    "label"
   ]
  },
  {
   "cell_type": "code",
   "execution_count": 31,
   "metadata": {},
   "outputs": [],
   "source": [
    "# index로 행을 하나만 뽑아 왔으니\n",
    "# 예측 결과는 element가 1개인 리스트\n",
    "pred_lr = best_lr.predict(test_data)\n",
    "pred_sv = best_sv.predict(test_data)\n",
    "pred_rf = best_rf.predict(test_data)"
   ]
  },
  {
   "cell_type": "code",
   "execution_count": 32,
   "metadata": {},
   "outputs": [
    {
     "output_type": "execute_result",
     "data": {
      "text/plain": [
       "array([0], dtype=int64)"
      ]
     },
     "metadata": {},
     "execution_count": 32
    }
   ],
   "source": [
    "pred_lr"
   ]
  },
  {
   "cell_type": "code",
   "execution_count": 33,
   "metadata": {},
   "outputs": [
    {
     "output_type": "execute_result",
     "data": {
      "text/plain": [
       "(1, 0, 1, 0)"
      ]
     },
     "metadata": {},
     "execution_count": 33
    }
   ],
   "source": [
    "# 원래 target, logistic, svc, random forest\n",
    "label, pred_lr[0], pred_sv[0], pred_rf[0]"
   ]
  },
  {
   "cell_type": "code",
   "execution_count": 43,
   "metadata": {},
   "outputs": [
    {
     "output_type": "stream",
     "name": "stdout",
     "text": [
      "<class 'pandas.core.series.Series'>\n{'mean radius': 13.24, 'mean texture': 20.13, 'mean perimeter': 86.87, 'mean area': 542.9, 'mean smoothness': 0.08284, 'mean compactness': 0.1223, 'mean concavity': 0.10099999999999999, 'mean concave points': 0.02833, 'mean symmetry': 0.1601, 'mean fractal dimension': 0.06432, 'radius error': 0.281, 'texture error': 0.8135, 'perimeter error': 3.3689999999999998, 'area error': 23.81, 'smoothness error': 0.004929, 'compactness error': 0.06657, 'concavity error': 0.07683, 'concave points error': 0.013680000000000001, 'symmetry error': 0.01526, 'fractal dimension error': 0.008133, 'worst radius': 15.44, 'worst texture': 25.5, 'worst perimeter': 115.0, 'worst area': 733.5, 'worst smoothness': 0.1201, 'worst compactness': 0.5646, 'worst concavity': 0.6556, 'worst concave points': 0.1357, 'worst symmetry': 0.2845, 'worst fractal dimension': 0.1249}\n"
     ]
    }
   ],
   "source": [
    "# index행의 값을 가지고 있는 Series를 Dictionary로 바꾸기\n",
    "print(type(df_test.iloc[index, :-1]))\n",
    "print(df_test.iloc[index, :-1].to_dict())"
   ]
  }
 ]
}