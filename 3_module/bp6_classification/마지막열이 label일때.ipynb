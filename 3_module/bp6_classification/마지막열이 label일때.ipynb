{
 "metadata": {
  "language_info": {
   "codemirror_mode": {
    "name": "ipython",
    "version": 3
   },
   "file_extension": ".py",
   "mimetype": "text/x-python",
   "name": "python",
   "nbconvert_exporter": "python",
   "pygments_lexer": "ipython3",
   "version": "3.8.5-final"
  },
  "orig_nbformat": 2,
  "kernelspec": {
   "name": "python3",
   "display_name": "Python 3",
   "language": "python"
  }
 },
 "nbformat": 4,
 "nbformat_minor": 2,
 "cells": [
  {
   "source": [
    "# 피마/아이리스/와인 모델 만들기"
   ],
   "cell_type": "markdown",
   "metadata": {}
  },
  {
   "cell_type": "code",
   "execution_count": 31,
   "metadata": {},
   "outputs": [],
   "source": [
    "import pandas as pd \n",
    "import joblib\n",
    "from sklearn.preprocessing import StandardScaler, MinMaxScaler\n",
    "from sklearn.linear_model import LogisticRegression\n",
    "from sklearn.svm import SVC\n",
    "from sklearn.ensemble import RandomForestClassifier\n",
    "from sklearn.tree import DecisionTreeClassifier\n",
    "from sklearn.model_selection import GridSearchCV\n",
    "from sklearn.metrics import accuracy_score"
   ]
  },
  {
   "cell_type": "code",
   "execution_count": 112,
   "metadata": {},
   "outputs": [
    {
     "output_type": "execute_result",
     "data": {
      "text/plain": [
       "   alcohol  malic_acid   ash  alcalinity_of_ash  magnesium  total_phenols  \\\n",
       "0    13.40        3.91  2.48               23.0      102.0           1.80   \n",
       "1    14.38        1.87  2.38               12.0      102.0           3.30   \n",
       "2    13.24        3.98  2.29               17.5      103.0           2.64   \n",
       "3    13.05        5.80  2.13               21.5       86.0           2.62   \n",
       "4    12.22        1.29  1.94               19.0       92.0           2.36   \n",
       "\n",
       "   flavanoids  nonflavanoid_phenols  proanthocyanins  color_intensity   hue  \\\n",
       "0        0.75                  0.43             1.41             7.30  0.70   \n",
       "1        3.64                  0.29             2.96             7.50  1.20   \n",
       "2        2.63                  0.32             1.66             4.36  0.82   \n",
       "3        2.65                  0.30             2.01             2.60  0.73   \n",
       "4        2.04                  0.39             2.08             2.70  0.86   \n",
       "\n",
       "   od280/od315_of_diluted_wines  proline  target  \n",
       "0                          1.56    750.0       2  \n",
       "1                          3.00   1547.0       0  \n",
       "2                          3.00    680.0       0  \n",
       "3                          3.10    380.0       1  \n",
       "4                          3.02    312.0       1  "
      ],
      "text/html": "<div>\n<style scoped>\n    .dataframe tbody tr th:only-of-type {\n        vertical-align: middle;\n    }\n\n    .dataframe tbody tr th {\n        vertical-align: top;\n    }\n\n    .dataframe thead th {\n        text-align: right;\n    }\n</style>\n<table border=\"1\" class=\"dataframe\">\n  <thead>\n    <tr style=\"text-align: right;\">\n      <th></th>\n      <th>alcohol</th>\n      <th>malic_acid</th>\n      <th>ash</th>\n      <th>alcalinity_of_ash</th>\n      <th>magnesium</th>\n      <th>total_phenols</th>\n      <th>flavanoids</th>\n      <th>nonflavanoid_phenols</th>\n      <th>proanthocyanins</th>\n      <th>color_intensity</th>\n      <th>hue</th>\n      <th>od280/od315_of_diluted_wines</th>\n      <th>proline</th>\n      <th>target</th>\n    </tr>\n  </thead>\n  <tbody>\n    <tr>\n      <th>0</th>\n      <td>13.40</td>\n      <td>3.91</td>\n      <td>2.48</td>\n      <td>23.0</td>\n      <td>102.0</td>\n      <td>1.80</td>\n      <td>0.75</td>\n      <td>0.43</td>\n      <td>1.41</td>\n      <td>7.30</td>\n      <td>0.70</td>\n      <td>1.56</td>\n      <td>750.0</td>\n      <td>2</td>\n    </tr>\n    <tr>\n      <th>1</th>\n      <td>14.38</td>\n      <td>1.87</td>\n      <td>2.38</td>\n      <td>12.0</td>\n      <td>102.0</td>\n      <td>3.30</td>\n      <td>3.64</td>\n      <td>0.29</td>\n      <td>2.96</td>\n      <td>7.50</td>\n      <td>1.20</td>\n      <td>3.00</td>\n      <td>1547.0</td>\n      <td>0</td>\n    </tr>\n    <tr>\n      <th>2</th>\n      <td>13.24</td>\n      <td>3.98</td>\n      <td>2.29</td>\n      <td>17.5</td>\n      <td>103.0</td>\n      <td>2.64</td>\n      <td>2.63</td>\n      <td>0.32</td>\n      <td>1.66</td>\n      <td>4.36</td>\n      <td>0.82</td>\n      <td>3.00</td>\n      <td>680.0</td>\n      <td>0</td>\n    </tr>\n    <tr>\n      <th>3</th>\n      <td>13.05</td>\n      <td>5.80</td>\n      <td>2.13</td>\n      <td>21.5</td>\n      <td>86.0</td>\n      <td>2.62</td>\n      <td>2.65</td>\n      <td>0.30</td>\n      <td>2.01</td>\n      <td>2.60</td>\n      <td>0.73</td>\n      <td>3.10</td>\n      <td>380.0</td>\n      <td>1</td>\n    </tr>\n    <tr>\n      <th>4</th>\n      <td>12.22</td>\n      <td>1.29</td>\n      <td>1.94</td>\n      <td>19.0</td>\n      <td>92.0</td>\n      <td>2.36</td>\n      <td>2.04</td>\n      <td>0.39</td>\n      <td>2.08</td>\n      <td>2.70</td>\n      <td>0.86</td>\n      <td>3.02</td>\n      <td>312.0</td>\n      <td>1</td>\n    </tr>\n  </tbody>\n</table>\n</div>"
     },
     "metadata": {},
     "execution_count": 112
    }
   ],
   "source": [
    "# 트레인 셋\n",
    "df_train = pd.read_csv('../static/data/classification/wine_train.csv')\n",
    "df_train.head()"
   ]
  },
  {
   "cell_type": "code",
   "execution_count": 113,
   "metadata": {},
   "outputs": [
    {
     "output_type": "execute_result",
     "data": {
      "text/plain": [
       "((133, 13), (133,))"
      ]
     },
     "metadata": {},
     "execution_count": 113
    }
   ],
   "source": [
    "X_train = df_train.iloc[:, :-1].values\n",
    "y_train = df_train.iloc[:, -1].values\n",
    "X_train.shape, y_train.shape"
   ]
  },
  {
   "cell_type": "code",
   "execution_count": 114,
   "metadata": {},
   "outputs": [
    {
     "output_type": "execute_result",
     "data": {
      "text/plain": [
       "   alcohol  malic_acid   ash  alcalinity_of_ash  magnesium  total_phenols  \\\n",
       "0    12.25        4.72  2.54               21.0       89.0           1.38   \n",
       "1    12.36        3.83  2.38               21.0       88.0           2.30   \n",
       "2    12.51        1.24  2.25               17.5       85.0           2.00   \n",
       "3    13.29        1.97  2.68               16.8      102.0           3.00   \n",
       "4    13.40        4.60  2.86               25.0      112.0           1.98   \n",
       "\n",
       "   flavanoids  nonflavanoid_phenols  proanthocyanins  color_intensity   hue  \\\n",
       "0        0.47                  0.53             0.80             3.85  0.75   \n",
       "1        0.92                  0.50             1.04             7.65  0.56   \n",
       "2        0.58                  0.60             1.25             5.45  0.75   \n",
       "3        3.23                  0.31             1.66             6.00  1.07   \n",
       "4        0.96                  0.27             1.11             8.50  0.67   \n",
       "\n",
       "   od280/od315_of_diluted_wines  proline  target  \n",
       "0                          1.27    720.0       2  \n",
       "1                          1.58    520.0       2  \n",
       "2                          1.51    650.0       2  \n",
       "3                          2.84   1270.0       0  \n",
       "4                          1.92    630.0       2  "
      ],
      "text/html": "<div>\n<style scoped>\n    .dataframe tbody tr th:only-of-type {\n        vertical-align: middle;\n    }\n\n    .dataframe tbody tr th {\n        vertical-align: top;\n    }\n\n    .dataframe thead th {\n        text-align: right;\n    }\n</style>\n<table border=\"1\" class=\"dataframe\">\n  <thead>\n    <tr style=\"text-align: right;\">\n      <th></th>\n      <th>alcohol</th>\n      <th>malic_acid</th>\n      <th>ash</th>\n      <th>alcalinity_of_ash</th>\n      <th>magnesium</th>\n      <th>total_phenols</th>\n      <th>flavanoids</th>\n      <th>nonflavanoid_phenols</th>\n      <th>proanthocyanins</th>\n      <th>color_intensity</th>\n      <th>hue</th>\n      <th>od280/od315_of_diluted_wines</th>\n      <th>proline</th>\n      <th>target</th>\n    </tr>\n  </thead>\n  <tbody>\n    <tr>\n      <th>0</th>\n      <td>12.25</td>\n      <td>4.72</td>\n      <td>2.54</td>\n      <td>21.0</td>\n      <td>89.0</td>\n      <td>1.38</td>\n      <td>0.47</td>\n      <td>0.53</td>\n      <td>0.80</td>\n      <td>3.85</td>\n      <td>0.75</td>\n      <td>1.27</td>\n      <td>720.0</td>\n      <td>2</td>\n    </tr>\n    <tr>\n      <th>1</th>\n      <td>12.36</td>\n      <td>3.83</td>\n      <td>2.38</td>\n      <td>21.0</td>\n      <td>88.0</td>\n      <td>2.30</td>\n      <td>0.92</td>\n      <td>0.50</td>\n      <td>1.04</td>\n      <td>7.65</td>\n      <td>0.56</td>\n      <td>1.58</td>\n      <td>520.0</td>\n      <td>2</td>\n    </tr>\n    <tr>\n      <th>2</th>\n      <td>12.51</td>\n      <td>1.24</td>\n      <td>2.25</td>\n      <td>17.5</td>\n      <td>85.0</td>\n      <td>2.00</td>\n      <td>0.58</td>\n      <td>0.60</td>\n      <td>1.25</td>\n      <td>5.45</td>\n      <td>0.75</td>\n      <td>1.51</td>\n      <td>650.0</td>\n      <td>2</td>\n    </tr>\n    <tr>\n      <th>3</th>\n      <td>13.29</td>\n      <td>1.97</td>\n      <td>2.68</td>\n      <td>16.8</td>\n      <td>102.0</td>\n      <td>3.00</td>\n      <td>3.23</td>\n      <td>0.31</td>\n      <td>1.66</td>\n      <td>6.00</td>\n      <td>1.07</td>\n      <td>2.84</td>\n      <td>1270.0</td>\n      <td>0</td>\n    </tr>\n    <tr>\n      <th>4</th>\n      <td>13.40</td>\n      <td>4.60</td>\n      <td>2.86</td>\n      <td>25.0</td>\n      <td>112.0</td>\n      <td>1.98</td>\n      <td>0.96</td>\n      <td>0.27</td>\n      <td>1.11</td>\n      <td>8.50</td>\n      <td>0.67</td>\n      <td>1.92</td>\n      <td>630.0</td>\n      <td>2</td>\n    </tr>\n  </tbody>\n</table>\n</div>"
     },
     "metadata": {},
     "execution_count": 114
    }
   ],
   "source": [
    "# 테스트 셋\n",
    "df_test = pd.read_csv('../static/data/classification/wine_test.csv')\n",
    "df_test.head()"
   ]
  },
  {
   "cell_type": "code",
   "execution_count": 115,
   "metadata": {},
   "outputs": [
    {
     "output_type": "execute_result",
     "data": {
      "text/plain": [
       "((45, 13), (45,))"
      ]
     },
     "metadata": {},
     "execution_count": 115
    }
   ],
   "source": [
    "X_test = df_test.iloc[:, :-1].values\n",
    "y_test = df_test.iloc[:, -1].values\n",
    "X_test.shape, y_test.shape"
   ]
  },
  {
   "cell_type": "code",
   "execution_count": 116,
   "metadata": {},
   "outputs": [
    {
     "output_type": "execute_result",
     "data": {
      "text/plain": [
       "StandardScaler()"
      ]
     },
     "metadata": {},
     "execution_count": 116
    }
   ],
   "source": [
    "scaler = StandardScaler()\n",
    "# fit의 파라미터는 2차원 이상의 값이어야 함\n",
    "scaler.fit(df_train.iloc[:, :-1])"
   ]
  },
  {
   "cell_type": "code",
   "execution_count": 117,
   "metadata": {},
   "outputs": [
    {
     "output_type": "execute_result",
     "data": {
      "text/plain": [
       "((133, 13), (45, 13))"
      ]
     },
     "metadata": {},
     "execution_count": 117
    }
   ],
   "source": [
    "X_train_scaled = scaler.transform(X_train)\n",
    "X_test_scaled = scaler.transform(X_test)\n",
    "X_train_scaled.shape, X_test_scaled.shape"
   ]
  },
  {
   "cell_type": "code",
   "execution_count": 118,
   "metadata": {},
   "outputs": [
    {
     "output_type": "execute_result",
     "data": {
      "text/plain": [
       "['../static/model/wine_scaler.pkl']"
      ]
     },
     "metadata": {},
     "execution_count": 118
    }
   ],
   "source": [
    "joblib.dump(scaler, '../static/model/wine_scaler.pkl')"
   ]
  },
  {
   "cell_type": "code",
   "execution_count": 119,
   "metadata": {},
   "outputs": [
    {
     "output_type": "execute_result",
     "data": {
      "text/plain": [
       "{'C': 1.0,\n",
       " 'class_weight': None,\n",
       " 'dual': False,\n",
       " 'fit_intercept': True,\n",
       " 'intercept_scaling': 1,\n",
       " 'l1_ratio': None,\n",
       " 'max_iter': 100,\n",
       " 'multi_class': 'auto',\n",
       " 'n_jobs': None,\n",
       " 'penalty': 'l2',\n",
       " 'random_state': None,\n",
       " 'solver': 'lbfgs',\n",
       " 'tol': 0.0001,\n",
       " 'verbose': 0,\n",
       " 'warm_start': False}"
      ]
     },
     "metadata": {},
     "execution_count": 119
    }
   ],
   "source": [
    "# 1. 로지스틱 회귀\n",
    "lr_clf = LogisticRegression()\n",
    "lr_clf.get_params()"
   ]
  },
  {
   "cell_type": "code",
   "execution_count": 135,
   "metadata": {},
   "outputs": [
    {
     "output_type": "stream",
     "name": "stdout",
     "text": [
      "최고 평균 정확도: 0.9701\n최적 파라미터: {'C': 0.1}\n"
     ]
    },
    {
     "output_type": "execute_result",
     "data": {
      "text/plain": [
       "1.0"
      ]
     },
     "metadata": {},
     "execution_count": 135
    }
   ],
   "source": [
    "params = {\n",
    "    #'C': [0.1, 1, 5, 10]\n",
    "    'C': [0.1,0.2, 0.3,0.4, 0.5]\n",
    "}\n",
    "grid_cv = GridSearchCV(lr_clf, param_grid=params, scoring='accuracy', cv=5)\n",
    "grid_cv.fit(X_train_scaled, y_train)\n",
    "print(f'최고 평균 정확도: {grid_cv.best_score_:.4f}')\n",
    "print('최적 파라미터:', grid_cv.best_params_)\n",
    "best_lr = grid_cv.best_estimator_\n",
    "pred = best_lr.predict(X_test_scaled)\n",
    "accuracy_score(y_test, pred)"
   ]
  },
  {
   "cell_type": "code",
   "execution_count": 121,
   "metadata": {},
   "outputs": [
    {
     "output_type": "execute_result",
     "data": {
      "text/plain": [
       "['../static/model/wine_lr.pkl']"
      ]
     },
     "metadata": {},
     "execution_count": 121
    }
   ],
   "source": [
    "joblib.dump(best_lr, '../static/model/wine_lr.pkl')"
   ]
  },
  {
   "cell_type": "code",
   "execution_count": 122,
   "metadata": {},
   "outputs": [
    {
     "output_type": "execute_result",
     "data": {
      "text/plain": [
       "{'C': 1.0,\n",
       " 'break_ties': False,\n",
       " 'cache_size': 200,\n",
       " 'class_weight': None,\n",
       " 'coef0': 0.0,\n",
       " 'decision_function_shape': 'ovr',\n",
       " 'degree': 3,\n",
       " 'gamma': 'scale',\n",
       " 'kernel': 'rbf',\n",
       " 'max_iter': -1,\n",
       " 'probability': False,\n",
       " 'random_state': None,\n",
       " 'shrinking': True,\n",
       " 'tol': 0.001,\n",
       " 'verbose': False}"
      ]
     },
     "metadata": {},
     "execution_count": 122
    }
   ],
   "source": [
    "# SVC\n",
    "sv_clf = SVC()\n",
    "sv_clf.get_params()"
   ]
  },
  {
   "cell_type": "code",
   "execution_count": 123,
   "metadata": {},
   "outputs": [
    {
     "output_type": "stream",
     "name": "stdout",
     "text": [
      "최고 평균 정확도: 0.9852\n최적 파라미터: {'C': 0.5}\n"
     ]
    },
    {
     "output_type": "execute_result",
     "data": {
      "text/plain": [
       "1.0"
      ]
     },
     "metadata": {},
     "execution_count": 123
    }
   ],
   "source": [
    "params = {\n",
    "    #'C': [0.1, 1, 5, 7, 10]\n",
    "    'C': [0.4, 0.5, 0.6,0.7,0.8]\n",
    "    #'C': [0.5, 0.8, 1, 2, 3]\n",
    "    #'C': [2.5, 3, 3.5, 4]\n",
    "}\n",
    "grid_cv = GridSearchCV(sv_clf, param_grid=params, scoring='accuracy', cv=5)\n",
    "grid_cv.fit(X_train_scaled, y_train)\n",
    "print(f'최고 평균 정확도: {grid_cv.best_score_:.4f}')\n",
    "print('최적 파라미터:', grid_cv.best_params_)\n",
    "best_sv = grid_cv.best_estimator_\n",
    "pred = best_sv.predict(X_test_scaled)\n",
    "accuracy_score(y_test, pred)"
   ]
  },
  {
   "cell_type": "code",
   "execution_count": 124,
   "metadata": {},
   "outputs": [
    {
     "output_type": "execute_result",
     "data": {
      "text/plain": [
       "['../static/model/wine_sv.pkl']"
      ]
     },
     "metadata": {},
     "execution_count": 124
    }
   ],
   "source": [
    "joblib.dump(best_sv, '../static/model/wine_sv.pkl')"
   ]
  },
  {
   "cell_type": "code",
   "execution_count": 125,
   "metadata": {},
   "outputs": [
    {
     "output_type": "execute_result",
     "data": {
      "text/plain": [
       "{'bootstrap': True,\n",
       " 'ccp_alpha': 0.0,\n",
       " 'class_weight': None,\n",
       " 'criterion': 'gini',\n",
       " 'max_depth': None,\n",
       " 'max_features': 'auto',\n",
       " 'max_leaf_nodes': None,\n",
       " 'max_samples': None,\n",
       " 'min_impurity_decrease': 0.0,\n",
       " 'min_impurity_split': None,\n",
       " 'min_samples_leaf': 1,\n",
       " 'min_samples_split': 2,\n",
       " 'min_weight_fraction_leaf': 0.0,\n",
       " 'n_estimators': 100,\n",
       " 'n_jobs': None,\n",
       " 'oob_score': False,\n",
       " 'random_state': None,\n",
       " 'verbose': 0,\n",
       " 'warm_start': False}"
      ]
     },
     "metadata": {},
     "execution_count": 125
    }
   ],
   "source": [
    "# 3. Random Forest\n",
    "rf_clf = RandomForestClassifier()\n",
    "rf_clf.get_params()"
   ]
  },
  {
   "cell_type": "code",
   "execution_count": 126,
   "metadata": {},
   "outputs": [
    {
     "output_type": "stream",
     "name": "stdout",
     "text": [
      "최고 평균 정확도: 0.9775\n최적 파라미터: {'max_depth': 7, 'min_samples_split': 6}\n"
     ]
    },
    {
     "output_type": "execute_result",
     "data": {
      "text/plain": [
       "1.0"
      ]
     },
     "metadata": {},
     "execution_count": 126
    }
   ],
   "source": [
    "params = {\n",
    "    #'max_depth': [4, 6, 8, 10],\n",
    "    'max_depth': [7, 8, 9],\n",
    "    #'min_samples_split': [2, 3, 4]\n",
    "    'min_samples_split': [3, 4, 5, 6]\n",
    "}\n",
    "grid_cv = GridSearchCV(rf_clf, param_grid=params, scoring='accuracy', cv=5)\n",
    "grid_cv.fit(X_train_scaled, y_train)\n",
    "print(f'최고 평균 정확도: {grid_cv.best_score_:.4f}')\n",
    "print('최적 파라미터:', grid_cv.best_params_)\n",
    "best_rf = grid_cv.best_estimator_\n",
    "pred = best_rf.predict(X_test_scaled)\n",
    "accuracy_score(y_test, pred)"
   ]
  },
  {
   "cell_type": "code",
   "execution_count": 127,
   "metadata": {},
   "outputs": [
    {
     "output_type": "execute_result",
     "data": {
      "text/plain": [
       "['../static/model/wine_rf.pkl']"
      ]
     },
     "metadata": {},
     "execution_count": 127
    }
   ],
   "source": [
    "joblib.dump(best_rf, '../static/model/wine_rf.pkl')"
   ]
  },
  {
   "cell_type": "code",
   "execution_count": 128,
   "metadata": {},
   "outputs": [
    {
     "output_type": "stream",
     "name": "stdout",
     "text": [
      "[1.305e+01 1.730e+00 2.040e+00 1.240e+01 9.200e+01 2.720e+00 3.270e+00\n 1.700e-01 2.910e+00 7.200e+00 1.120e+00 2.910e+00 1.150e+03]\n"
     ]
    },
    {
     "output_type": "execute_result",
     "data": {
      "text/plain": [
       "(array([[1.305e+01, 1.730e+00, 2.040e+00, 1.240e+01, 9.200e+01, 2.720e+00,\n",
       "         3.270e+00, 1.700e-01, 2.910e+00, 7.200e+00, 1.120e+00, 2.910e+00,\n",
       "         1.150e+03]]),\n",
       " 0)"
      ]
     },
     "metadata": {},
     "execution_count": 128
    }
   ],
   "source": [
    "index = 20\n",
    "print(df_test.iloc[index, :-1].values)\n",
    "test_data = (df_test.iloc[index, :-1].values).reshape(1,-1)\n",
    "label = df_test.iloc[index, -1]\n",
    "test_data, label"
   ]
  },
  {
   "cell_type": "code",
   "execution_count": 129,
   "metadata": {},
   "outputs": [],
   "source": [
    "scaler = joblib.load('../static/model/wine_scaler.pkl')"
   ]
  },
  {
   "cell_type": "code",
   "execution_count": 130,
   "metadata": {},
   "outputs": [],
   "source": [
    "test_scaled = scaler.transform(test_data)"
   ]
  },
  {
   "cell_type": "code",
   "execution_count": 131,
   "metadata": {},
   "outputs": [],
   "source": [
    "pred_lr = best_lr.predict(test_scaled)\n",
    "pred_sv = best_sv.predict(test_scaled)\n",
    "pred_rf = best_rf.predict(test_scaled)"
   ]
  },
  {
   "cell_type": "code",
   "execution_count": 132,
   "metadata": {},
   "outputs": [
    {
     "output_type": "execute_result",
     "data": {
      "text/plain": [
       "(0, 0, 0, 0)"
      ]
     },
     "metadata": {},
     "execution_count": 132
    }
   ],
   "source": [
    "label, pred_lr[0], pred_sv[0], pred_rf[0]"
   ]
  },
  {
   "cell_type": "code",
   "execution_count": 133,
   "metadata": {},
   "outputs": [
    {
     "output_type": "execute_result",
     "data": {
      "text/plain": [
       "{'alcohol': 13.05,\n",
       " 'malic_acid': 1.73,\n",
       " 'ash': 2.04,\n",
       " 'alcalinity_of_ash': 12.4,\n",
       " 'magnesium': 92.0,\n",
       " 'total_phenols': 2.72,\n",
       " 'flavanoids': 3.27,\n",
       " 'nonflavanoid_phenols': 0.17,\n",
       " 'proanthocyanins': 2.91,\n",
       " 'color_intensity': 7.2,\n",
       " 'hue': 1.12,\n",
       " 'od280/od315_of_diluted_wines': 2.91,\n",
       " 'proline': 1150.0}"
      ]
     },
     "metadata": {},
     "execution_count": 133
    }
   ],
   "source": [
    "tmp = df_test.iloc[index, :-1].to_dict()\n",
    "tmp"
   ]
  }
 ]
}