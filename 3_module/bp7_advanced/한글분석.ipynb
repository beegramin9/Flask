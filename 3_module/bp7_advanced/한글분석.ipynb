{
 "metadata": {
  "language_info": {
   "codemirror_mode": {
    "name": "ipython",
    "version": 3
   },
   "file_extension": ".py",
   "mimetype": "text/x-python",
   "name": "python",
   "nbconvert_exporter": "python",
   "pygments_lexer": "ipython3",
   "version": "3.8.5-final"
  },
  "orig_nbformat": 2,
  "kernelspec": {
   "name": "python3",
   "display_name": "Python 3.8.5 64-bit ('prophet': conda)",
   "metadata": {
    "interpreter": {
     "hash": "5e48e52ea031c0749f6c7450d6e984e2a9b420046de7854ab875b07076570244"
    }
   }
  }
 },
 "nbformat": 4,
 "nbformat_minor": 2,
 "cells": [
  {
   "source": [
    "한글은 똑같은데\n",
    "Okt(한글형태소분석기) 로 토큰화하기만 하면 나머지는 똑같음\n",
    "\n",
    "OKt => Vectorizer => Model\n",
    "\n",
    "\n",
    "'교도소 이야기구먼 솔직히 재미는 없다' 를 okt에 넣으면\n",
    "['교도소','이야기','구먼','솔직하다']... 이런식으로 나옴\n",
    "이걸 Vectorizer에 집어넣어야 하는데 바로 집어넣을 수가 없음\n",
    "스트링의 리스트로 만들어진 걸\n",
    "['스트링'] 으로 만든 다음에\n",
    "['교도소 이야기 구먼 솔직하다 재미 는 없다 평점'] <== 이런 식으로\n",
    "벡터라이저로 만들어야 함\n",
    "\n",
    "모델을 이제 해야하는데\n",
    "이떄까지 우린 주로 logistic regression, svm, randome forest 정도를 했음\n",
    "근데 이제 문자를 할 때는 Naive Bayes로 해야함\n",
    "\n",
    "그래서 오늘은 count + lr, naive, tfidf + lr, naive 총 4개를 해야 함\n",
    "\n",
    "요게 옜날에 했던 것들이 있는 거임\n",
    "\n",
    "이거 할 때는 모델 로딩하는거 생략하세요.."
   ],
   "cell_type": "code",
   "metadata": {},
   "execution_count": null,
   "outputs": []
  },
  {
   "cell_type": "code",
   "execution_count": 2,
   "metadata": {},
   "outputs": [],
   "source": [
    "import joblib\n",
    "import re\n",
    "import pandas as pd "
   ]
  },
  {
   "source": [
    "모델 가져오기"
   ],
   "cell_type": "markdown",
   "metadata": {}
  },
  {
   "cell_type": "code",
   "execution_count": 62,
   "metadata": {},
   "outputs": [],
   "source": [
    "model_cl = joblib.load('../static/model/hangul_count_lr.pkl')\n",
    "model_cn = joblib.load('../static/model/hangul_count_nb.pkl')\n",
    "model_tl = joblib.load('../static/model/hangul_tfidf_lr.pkl')\n",
    "model_tn = joblib.load('../static/model/hangul_tfidf_nb.pkl')"
   ]
  },
  {
   "source": [
    "movie_test, movie_train 가져와야 인덱스로 받을 때 label을 얻을 수 있음"
   ],
   "cell_type": "markdown",
   "metadata": {}
  },
  {
   "cell_type": "code",
   "execution_count": 50,
   "metadata": {},
   "outputs": [
    {
     "output_type": "execute_result",
     "data": {
      "text/plain": [
       "         id                    document  label\n",
       "0   9976970           아 더빙 진짜 짜증나네요 목소리      0\n",
       "1   3819312  흠포스터보고 초딩영화줄오버연기조차 가볍지 않구나      1\n",
       "2  10265843           너무재밓었다그래서보는것을추천한다      0"
      ],
      "text/html": "<div>\n<style scoped>\n    .dataframe tbody tr th:only-of-type {\n        vertical-align: middle;\n    }\n\n    .dataframe tbody tr th {\n        vertical-align: top;\n    }\n\n    .dataframe thead th {\n        text-align: right;\n    }\n</style>\n<table border=\"1\" class=\"dataframe\">\n  <thead>\n    <tr style=\"text-align: right;\">\n      <th></th>\n      <th>id</th>\n      <th>document</th>\n      <th>label</th>\n    </tr>\n  </thead>\n  <tbody>\n    <tr>\n      <th>0</th>\n      <td>9976970</td>\n      <td>아 더빙 진짜 짜증나네요 목소리</td>\n      <td>0</td>\n    </tr>\n    <tr>\n      <th>1</th>\n      <td>3819312</td>\n      <td>흠포스터보고 초딩영화줄오버연기조차 가볍지 않구나</td>\n      <td>1</td>\n    </tr>\n    <tr>\n      <th>2</th>\n      <td>10265843</td>\n      <td>너무재밓었다그래서보는것을추천한다</td>\n      <td>0</td>\n    </tr>\n  </tbody>\n</table>\n</div>"
     },
     "metadata": {},
     "execution_count": 50
    }
   ],
   "source": [
    "train_df = pd.read_table('../static/data/advanced/movie_train.tsv')\n",
    "del train_df['Unnamed: 0']\n",
    "train_df.head(3)"
   ]
  },
  {
   "cell_type": "code",
   "execution_count": 51,
   "metadata": {},
   "outputs": [
    {
     "output_type": "execute_result",
     "data": {
      "text/plain": [
       "        id                          document  label\n",
       "0  6270596                               굳 ㅋ      1\n",
       "1  8544678  뭐야 이 평점들은 나쁘진 않지만 점 짜리는 더더욱 아니잖아      0\n",
       "2  6825595         지루하지는 않은데 완전 막장임 돈주고 보기에는      0"
      ],
      "text/html": "<div>\n<style scoped>\n    .dataframe tbody tr th:only-of-type {\n        vertical-align: middle;\n    }\n\n    .dataframe tbody tr th {\n        vertical-align: top;\n    }\n\n    .dataframe thead th {\n        text-align: right;\n    }\n</style>\n<table border=\"1\" class=\"dataframe\">\n  <thead>\n    <tr style=\"text-align: right;\">\n      <th></th>\n      <th>id</th>\n      <th>document</th>\n      <th>label</th>\n    </tr>\n  </thead>\n  <tbody>\n    <tr>\n      <th>0</th>\n      <td>6270596</td>\n      <td>굳 ㅋ</td>\n      <td>1</td>\n    </tr>\n    <tr>\n      <th>1</th>\n      <td>8544678</td>\n      <td>뭐야 이 평점들은 나쁘진 않지만 점 짜리는 더더욱 아니잖아</td>\n      <td>0</td>\n    </tr>\n    <tr>\n      <th>2</th>\n      <td>6825595</td>\n      <td>지루하지는 않은데 완전 막장임 돈주고 보기에는</td>\n      <td>0</td>\n    </tr>\n  </tbody>\n</table>\n</div>"
     },
     "metadata": {},
     "execution_count": 51
    }
   ],
   "source": [
    "test_df = pd.read_table('../static/data/advanced/movie_test.tsv')\n",
    "del test_df['Unnamed: 0']\n",
    "test_df.head(3)"
   ]
  },
  {
   "source": [
    "테스트 셋 데이터 인덱스로 가져올 때"
   ],
   "cell_type": "markdown",
   "metadata": {}
  },
  {
   "cell_type": "code",
   "execution_count": 53,
   "metadata": {},
   "outputs": [],
   "source": [
    "index = 1000"
   ]
  },
  {
   "cell_type": "code",
   "execution_count": 60,
   "metadata": {},
   "outputs": [],
   "source": [
    "review = test_df.iloc[index,1]\n",
    "label = test_df.label[index]"
   ]
  },
  {
   "source": [
    "클라이언트에서 직접 받을 때"
   ],
   "cell_type": "markdown",
   "metadata": {}
  },
  {
   "cell_type": "code",
   "execution_count": 14,
   "metadata": {},
   "outputs": [],
   "source": [
    "review = \"진짜 개노잼이다... 1편이랑 같은 감독맞나?러닝타임도 길어서 개지루함 ㄹㅇ\""
   ]
  },
  {
   "cell_type": "code",
   "execution_count": 15,
   "metadata": {},
   "outputs": [],
   "source": [
    "review = re.sub('[^ㄱ-ㅎㅏ-ㅣ가-힣 ]', '', review)"
   ]
  },
  {
   "cell_type": "code",
   "execution_count": 58,
   "metadata": {},
   "outputs": [
    {
     "output_type": "execute_result",
     "data": {
      "text/plain": [
       "['영 화 감 독   때 리 고 싶 습 니 다   쪽 지 주 세 요']"
      ]
     },
     "metadata": {},
     "execution_count": 58
    }
   ],
   "source": [
    "stopwords = ['의','가','이','은','들','는','좀','잘','걍','과','도','를','으로','자','에','와','한','하다']\n",
    "temp_X = ' '.join([word for word in review if not word in stopwords])\n",
    "temp_X = [temp_X]\n",
    "temp_X"
   ]
  },
  {
   "cell_type": "code",
   "execution_count": 59,
   "metadata": {},
   "outputs": [],
   "source": [
    "pred_cl = model_cl.predict(temp_X)\n",
    "pred_cs = model_cn.predict(temp_X)\n",
    "pred_tl = model_tl.predict(temp_X)\n",
    "pred_ts = model_tn.predict(temp_X)"
   ]
  },
  {
   "cell_type": "code",
   "execution_count": 61,
   "metadata": {},
   "outputs": [
    {
     "output_type": "stream",
     "name": "stdout",
     "text": [
      "0 0 0 0 0\n"
     ]
    }
   ],
   "source": [
    "print(label,pred_cl[0], pred_cs[0], pred_tl[0], pred_ts[0])"
   ]
  }
 ]
}