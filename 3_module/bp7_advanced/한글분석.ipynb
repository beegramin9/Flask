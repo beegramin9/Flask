{
 "metadata": {
  "language_info": {
   "codemirror_mode": {
    "name": "ipython",
    "version": 3
   },
   "file_extension": ".py",
   "mimetype": "text/x-python",
   "name": "python",
   "nbconvert_exporter": "python",
   "pygments_lexer": "ipython3",
   "version": "3.8.5-final"
  },
  "orig_nbformat": 2,
  "kernelspec": {
   "name": "python3",
   "display_name": "Python 3.8.5 64-bit ('prophet': conda)",
   "metadata": {
    "interpreter": {
     "hash": "5e48e52ea031c0749f6c7450d6e984e2a9b420046de7854ab875b07076570244"
    }
   }
  }
 },
 "nbformat": 4,
 "nbformat_minor": 2,
 "cells": [
  {
   "source": [
    "한글은 똑같은데\n",
    "Okt(한글형태소분석기) 로 토큰화하기만 하면 나머지는 똑같음\n",
    "\n",
    "OKt => Vectorizer => Model\n",
    "\n",
    "\n",
    "'교도소 이야기구먼 솔직히 재미는 없다' 를 okt에 넣으면\n",
    "['교도소','이야기','구먼','솔직하다']... 이런식으로 나옴\n",
    "이걸 Vectorizer에 집어넣어야 하는데 바로 집어넣을 수가 없음\n",
    "스트링의 리스트로 만들어진 걸\n",
    "['스트링'] 으로 만든 다음에\n",
    "['교도소 이야기 구먼 솔직하다 재미 는 없다 평점'] <== 이런 식으로\n",
    "벡터라이저로 만들어야 함\n",
    "\n",
    "모델을 이제 해야하는데\n",
    "이떄까지 우린 주로 logistic regression, svm, randome forest 정도를 했음\n",
    "근데 이제 문자를 할 때는 Naive Bayes로 해야함\n",
    "\n",
    "그래서 오늘은 count + lr, naive, tfidf + lr, naive 총 4개를 해야 함\n",
    "\n",
    "요게 옜날에 했던 것들이 있는 거임\n",
    "\n",
    "이거 할 때는 모델 로딩하는거 생략하세요.."
   ],
   "cell_type": "code",
   "metadata": {},
   "execution_count": null,
   "outputs": []
  },
  {
   "cell_type": "code",
   "execution_count": 2,
   "metadata": {},
   "outputs": [],
   "source": [
    "import joblib\n",
    "import re\n",
    "import pandas as pd "
   ]
  },
  {
   "source": [
    "모델 가져오기"
   ],
   "cell_type": "markdown",
   "metadata": {}
  },
  {
   "cell_type": "code",
   "execution_count": 3,
   "metadata": {},
   "outputs": [],
   "source": [
    "model_cl = joblib.load('../static/model/hangul_count_lr.pkl')\n",
    "model_cn = joblib.load('../static/model/hangul_count_nb.pkl')\n",
    "model_tl = joblib.load('../static/model/hangul_tfidf_lr.pkl')\n",
    "model_tn = joblib.load('../static/model/hangul_tfidf_nb.pkl')"
   ]
  },
  {
   "source": [
    "movie_test, movie_train 가져와야 인덱스로 받을 때 label을 얻을 수 있음"
   ],
   "cell_type": "markdown",
   "metadata": {}
  },
  {
   "cell_type": "code",
   "execution_count": 4,
   "metadata": {},
   "outputs": [
    {
     "output_type": "execute_result",
     "data": {
      "text/plain": [
       "         id                    document  label\n",
       "0   9976970           아 더빙 진짜 짜증나네요 목소리      0\n",
       "1   3819312  흠포스터보고 초딩영화줄오버연기조차 가볍지 않구나      1\n",
       "2  10265843           너무재밓었다그래서보는것을추천한다      0"
      ],
      "text/html": "<div>\n<style scoped>\n    .dataframe tbody tr th:only-of-type {\n        vertical-align: middle;\n    }\n\n    .dataframe tbody tr th {\n        vertical-align: top;\n    }\n\n    .dataframe thead th {\n        text-align: right;\n    }\n</style>\n<table border=\"1\" class=\"dataframe\">\n  <thead>\n    <tr style=\"text-align: right;\">\n      <th></th>\n      <th>id</th>\n      <th>document</th>\n      <th>label</th>\n    </tr>\n  </thead>\n  <tbody>\n    <tr>\n      <th>0</th>\n      <td>9976970</td>\n      <td>아 더빙 진짜 짜증나네요 목소리</td>\n      <td>0</td>\n    </tr>\n    <tr>\n      <th>1</th>\n      <td>3819312</td>\n      <td>흠포스터보고 초딩영화줄오버연기조차 가볍지 않구나</td>\n      <td>1</td>\n    </tr>\n    <tr>\n      <th>2</th>\n      <td>10265843</td>\n      <td>너무재밓었다그래서보는것을추천한다</td>\n      <td>0</td>\n    </tr>\n  </tbody>\n</table>\n</div>"
     },
     "metadata": {},
     "execution_count": 4
    }
   ],
   "source": [
    "train_df = pd.read_table('../static/data/advanced/movie_train.tsv')\n",
    "del train_df['Unnamed: 0']\n",
    "train_df.head(3)"
   ]
  },
  {
   "cell_type": "code",
   "execution_count": 5,
   "metadata": {},
   "outputs": [
    {
     "output_type": "execute_result",
     "data": {
      "text/plain": [
       "        id                          document  label\n",
       "0  6270596                               굳 ㅋ      1\n",
       "1  8544678  뭐야 이 평점들은 나쁘진 않지만 점 짜리는 더더욱 아니잖아      0\n",
       "2  6825595         지루하지는 않은데 완전 막장임 돈주고 보기에는      0"
      ],
      "text/html": "<div>\n<style scoped>\n    .dataframe tbody tr th:only-of-type {\n        vertical-align: middle;\n    }\n\n    .dataframe tbody tr th {\n        vertical-align: top;\n    }\n\n    .dataframe thead th {\n        text-align: right;\n    }\n</style>\n<table border=\"1\" class=\"dataframe\">\n  <thead>\n    <tr style=\"text-align: right;\">\n      <th></th>\n      <th>id</th>\n      <th>document</th>\n      <th>label</th>\n    </tr>\n  </thead>\n  <tbody>\n    <tr>\n      <th>0</th>\n      <td>6270596</td>\n      <td>굳 ㅋ</td>\n      <td>1</td>\n    </tr>\n    <tr>\n      <th>1</th>\n      <td>8544678</td>\n      <td>뭐야 이 평점들은 나쁘진 않지만 점 짜리는 더더욱 아니잖아</td>\n      <td>0</td>\n    </tr>\n    <tr>\n      <th>2</th>\n      <td>6825595</td>\n      <td>지루하지는 않은데 완전 막장임 돈주고 보기에는</td>\n      <td>0</td>\n    </tr>\n  </tbody>\n</table>\n</div>"
     },
     "metadata": {},
     "execution_count": 5
    }
   ],
   "source": [
    "test_df = pd.read_table('../static/data/advanced/movie_test.tsv')\n",
    "del test_df['Unnamed: 0']\n",
    "test_df.head(3)"
   ]
  },
  {
   "cell_type": "code",
   "execution_count": 6,
   "metadata": {},
   "outputs": [
    {
     "output_type": "execute_result",
     "data": {
      "text/plain": [
       "          id                                           document  label\n",
       "0    6270596                                                굳 ㅋ      1\n",
       "4    7898805                                  음악이 주가 된 최고의 음악영화      1\n",
       "8    6242223           이별의 아픔뒤에 찾아오는 새로운 인연의 기쁨  모든 사람이 그렇지는 않네      1\n",
       "9    7462111                                   괜찮네요오랜만포켓몬스터잼밌어요      1\n",
       "11   6900881  청춘은 아름답다 그 아름다움은 이성을 흔들어 놓는다 찰나의 아름다움을 잘 포착한 섬...      1\n",
       "12   9629375                    눈에 보이는 반전이었지만 영화의 흡인력은 사라지지 않았다      1\n",
       "14  10268521                                    소위 ㅈ문가라는 평점은 뭐냐      1\n",
       "15   2968565                                                 최고      1\n",
       "17   6406912                                                나이스      1\n",
       "19   9305768  일의 금요일 나이트메어시리즈와 함께 가장 많은 시리즈를 양산해냈던 헬레이저 시리즈의...      1\n",
       "21   9727606                                       꽤 재밌게 본 영화였다      1\n",
       "22   1385942                    민주화 시대의 억눌린 영혼의 관음적인 욕구 분출인상적이다      1\n",
       "24   9952932  괜히 나올 때 어미 알 건드려서 긁어 부스름 만들었다는 분이 저 아래 보이던데 영화...      1\n",
       "25   9844172                                번은 봤네요어쩜 이렇게 잘만들었을까      1\n",
       "26   4022078                   실화라서더욱아름답고찡하네요많이울었어요벌써년이란시간이흘렀네요      1\n",
       "28   9541056                         지금까지 본 영화중 마음이 가장 따뜻해지는 영화      1\n",
       "29   1418173                                           너무너무 재밌다      1\n",
       "30   9567197                                           안보면 후회ㅠㅠ      1\n",
       "42   9417015                                        애니는 일본이 갑인듯      1\n",
       "44    657926                                              감동적이다      1\n",
       "47   9757343                                      이런스타일 액션영화 굿굿      1\n",
       "48   9886140                            제임스 헷필드 먹고 더 파워풀해졌어ㅋㅋㅋㅋ      1\n",
       "52   8183204     아 극장에서 아무 기대없이 들어갔다가 감탄하면서 보고 나왔는데 년도 였구나 그 때가      1\n",
       "53   2590934                                    아이디어가 아주 좋다 재밌다      1\n",
       "54   2077221                                   난 재밌던데 평점 왜케 낮지       1"
      ],
      "text/html": "<div>\n<style scoped>\n    .dataframe tbody tr th:only-of-type {\n        vertical-align: middle;\n    }\n\n    .dataframe tbody tr th {\n        vertical-align: top;\n    }\n\n    .dataframe thead th {\n        text-align: right;\n    }\n</style>\n<table border=\"1\" class=\"dataframe\">\n  <thead>\n    <tr style=\"text-align: right;\">\n      <th></th>\n      <th>id</th>\n      <th>document</th>\n      <th>label</th>\n    </tr>\n  </thead>\n  <tbody>\n    <tr>\n      <th>0</th>\n      <td>6270596</td>\n      <td>굳 ㅋ</td>\n      <td>1</td>\n    </tr>\n    <tr>\n      <th>4</th>\n      <td>7898805</td>\n      <td>음악이 주가 된 최고의 음악영화</td>\n      <td>1</td>\n    </tr>\n    <tr>\n      <th>8</th>\n      <td>6242223</td>\n      <td>이별의 아픔뒤에 찾아오는 새로운 인연의 기쁨  모든 사람이 그렇지는 않네</td>\n      <td>1</td>\n    </tr>\n    <tr>\n      <th>9</th>\n      <td>7462111</td>\n      <td>괜찮네요오랜만포켓몬스터잼밌어요</td>\n      <td>1</td>\n    </tr>\n    <tr>\n      <th>11</th>\n      <td>6900881</td>\n      <td>청춘은 아름답다 그 아름다움은 이성을 흔들어 놓는다 찰나의 아름다움을 잘 포착한 섬...</td>\n      <td>1</td>\n    </tr>\n    <tr>\n      <th>12</th>\n      <td>9629375</td>\n      <td>눈에 보이는 반전이었지만 영화의 흡인력은 사라지지 않았다</td>\n      <td>1</td>\n    </tr>\n    <tr>\n      <th>14</th>\n      <td>10268521</td>\n      <td>소위 ㅈ문가라는 평점은 뭐냐</td>\n      <td>1</td>\n    </tr>\n    <tr>\n      <th>15</th>\n      <td>2968565</td>\n      <td>최고</td>\n      <td>1</td>\n    </tr>\n    <tr>\n      <th>17</th>\n      <td>6406912</td>\n      <td>나이스</td>\n      <td>1</td>\n    </tr>\n    <tr>\n      <th>19</th>\n      <td>9305768</td>\n      <td>일의 금요일 나이트메어시리즈와 함께 가장 많은 시리즈를 양산해냈던 헬레이저 시리즈의...</td>\n      <td>1</td>\n    </tr>\n    <tr>\n      <th>21</th>\n      <td>9727606</td>\n      <td>꽤 재밌게 본 영화였다</td>\n      <td>1</td>\n    </tr>\n    <tr>\n      <th>22</th>\n      <td>1385942</td>\n      <td>민주화 시대의 억눌린 영혼의 관음적인 욕구 분출인상적이다</td>\n      <td>1</td>\n    </tr>\n    <tr>\n      <th>24</th>\n      <td>9952932</td>\n      <td>괜히 나올 때 어미 알 건드려서 긁어 부스름 만들었다는 분이 저 아래 보이던데 영화...</td>\n      <td>1</td>\n    </tr>\n    <tr>\n      <th>25</th>\n      <td>9844172</td>\n      <td>번은 봤네요어쩜 이렇게 잘만들었을까</td>\n      <td>1</td>\n    </tr>\n    <tr>\n      <th>26</th>\n      <td>4022078</td>\n      <td>실화라서더욱아름답고찡하네요많이울었어요벌써년이란시간이흘렀네요</td>\n      <td>1</td>\n    </tr>\n    <tr>\n      <th>28</th>\n      <td>9541056</td>\n      <td>지금까지 본 영화중 마음이 가장 따뜻해지는 영화</td>\n      <td>1</td>\n    </tr>\n    <tr>\n      <th>29</th>\n      <td>1418173</td>\n      <td>너무너무 재밌다</td>\n      <td>1</td>\n    </tr>\n    <tr>\n      <th>30</th>\n      <td>9567197</td>\n      <td>안보면 후회ㅠㅠ</td>\n      <td>1</td>\n    </tr>\n    <tr>\n      <th>42</th>\n      <td>9417015</td>\n      <td>애니는 일본이 갑인듯</td>\n      <td>1</td>\n    </tr>\n    <tr>\n      <th>44</th>\n      <td>657926</td>\n      <td>감동적이다</td>\n      <td>1</td>\n    </tr>\n    <tr>\n      <th>47</th>\n      <td>9757343</td>\n      <td>이런스타일 액션영화 굿굿</td>\n      <td>1</td>\n    </tr>\n    <tr>\n      <th>48</th>\n      <td>9886140</td>\n      <td>제임스 헷필드 먹고 더 파워풀해졌어ㅋㅋㅋㅋ</td>\n      <td>1</td>\n    </tr>\n    <tr>\n      <th>52</th>\n      <td>8183204</td>\n      <td>아 극장에서 아무 기대없이 들어갔다가 감탄하면서 보고 나왔는데 년도 였구나 그 때가</td>\n      <td>1</td>\n    </tr>\n    <tr>\n      <th>53</th>\n      <td>2590934</td>\n      <td>아이디어가 아주 좋다 재밌다</td>\n      <td>1</td>\n    </tr>\n    <tr>\n      <th>54</th>\n      <td>2077221</td>\n      <td>난 재밌던데 평점 왜케 낮지</td>\n      <td>1</td>\n    </tr>\n  </tbody>\n</table>\n</div>"
     },
     "metadata": {},
     "execution_count": 6
    }
   ],
   "source": [
    "test_df[test_df.label == 1].head(25)"
   ]
  },
  {
   "source": [
    "테스트 셋 데이터 인덱스로 가져올 때"
   ],
   "cell_type": "markdown",
   "metadata": {}
  },
  {
   "cell_type": "code",
   "execution_count": 7,
   "metadata": {},
   "outputs": [],
   "source": [
    "index = 47"
   ]
  },
  {
   "cell_type": "code",
   "execution_count": 8,
   "metadata": {},
   "outputs": [
    {
     "output_type": "stream",
     "name": "stdout",
     "text": [
      "이런스타일 액션영화 굿굿\n"
     ]
    }
   ],
   "source": [
    "review = test_df.iloc[index,1]\n",
    "print(review)\n",
    "label = test_df.label[index]"
   ]
  },
  {
   "source": [
    "클라이언트에서 직접 받을 때"
   ],
   "cell_type": "markdown",
   "metadata": {}
  },
  {
   "cell_type": "code",
   "execution_count": 9,
   "metadata": {},
   "outputs": [
    {
     "output_type": "execute_result",
     "data": {
      "text/plain": [
       "' review = \"진짜 개노잼이다... 1편이랑 같은 감독맞나?러닝타임도 길어서 개지루함 ㄹㅇ\"  '"
      ]
     },
     "metadata": {},
     "execution_count": 9
    }
   ],
   "source": [
    "\"\"\" review = \"진짜 개노잼이다... 1편이랑 같은 감독맞나?러닝타임도 길어서 개지루함 ㄹㅇ\"  \"\"\""
   ]
  },
  {
   "cell_type": "code",
   "execution_count": 10,
   "metadata": {},
   "outputs": [
    {
     "output_type": "execute_result",
     "data": {
      "text/plain": [
       "\" review = re.sub('[^ㄱ-ㅎㅏ-ㅣ가-힣 ]', '', review)  \""
      ]
     },
     "metadata": {},
     "execution_count": 10
    }
   ],
   "source": [
    "\"\"\" review = re.sub('[^ㄱ-ㅎㅏ-ㅣ가-힣 ]', '', review)  \"\"\""
   ]
  },
  {
   "cell_type": "code",
   "execution_count": 11,
   "metadata": {},
   "outputs": [],
   "source": [
    "from konlpy.tag import Okt\n",
    "okt = Okt()"
   ]
  },
  {
   "cell_type": "code",
   "execution_count": 12,
   "metadata": {},
   "outputs": [
    {
     "output_type": "execute_result",
     "data": {
      "text/plain": [
       "['이런 스타일 액션영화 굿굿']"
      ]
     },
     "metadata": {},
     "execution_count": 12
    }
   ],
   "source": [
    "stopwords = ['의','가','이','은','들','는','좀','잘','걍','과','도','를','으로','자','에','와','한','하다']\n",
    "morph = okt.morphs(review, stem = True) # 이걸 넣어서 안 됐네...\n",
    "# 트레인셋은 전처리만 된 거지 토큰화는 되지 않았다.\n",
    "# X_test는 토큰화가 되긴 했지만 그걸 저장하지 않았고\n",
    "# 내가 위에서 불러운 test_df는 토큰화가 되지 않은 생 df였다.\n",
    "temp_X = ' '.join([word for word in morph if not word in stopwords])\n",
    "temp_X = [temp_X]\n",
    "temp_X"
   ]
  },
  {
   "cell_type": "code",
   "execution_count": 13,
   "metadata": {},
   "outputs": [],
   "source": [
    "pred_cl = model_cl.predict(temp_X)\n",
    "pred_cn = model_cn.predict(temp_X)\n",
    "pred_tl = model_tl.predict(temp_X)\n",
    "pred_tn = model_tn.predict(temp_X)"
   ]
  },
  {
   "cell_type": "code",
   "execution_count": 14,
   "metadata": {},
   "outputs": [
    {
     "output_type": "stream",
     "name": "stdout",
     "text": [
      "1 1 1 1 1\n"
     ]
    }
   ],
   "source": [
    "print(label,pred_cl[0], pred_cn[0], pred_tl[0], pred_tn[0])"
   ]
  },
  {
   "cell_type": "code",
   "execution_count": 15,
   "metadata": {},
   "outputs": [
    {
     "output_type": "execute_result",
     "data": {
      "text/plain": [
       "\" from tqdm import tqdm\\nstopwords = ['의','가','이','은','들','는','좀','잘','걍','과','도','를','으로','자','에','와','한','하다']\\nfor i in tqdm(range(3000,6000)):\\n    review = test_df.iloc[index,1]\\n    label = test_df.label[index]\\n    temp_X = ' '.join([word for word in review if not word in stopwords])\\n    temp_X = [temp_X]\\n    pred_cl = model_cl.predict(temp_X)\\n    pred_cn = model_cn.predict(temp_X)\\n    pred_tl = model_tl.predict(temp_X)\\n    pred_tn = model_tn.predict(temp_X)\\n    if pred_cl[0] == 0:\\n        continue\\n    print(label,pred_cl[0], pred_cn[0], pred_tl[0], pred_tn[0]) \""
      ]
     },
     "metadata": {},
     "execution_count": 15
    }
   ],
   "source": [
    "\"\"\" from tqdm import tqdm\n",
    "stopwords = ['의','가','이','은','들','는','좀','잘','걍','과','도','를','으로','자','에','와','한','하다']\n",
    "for i in tqdm(range(3000,6000)):\n",
    "    review = test_df.iloc[index,1]\n",
    "    label = test_df.label[index]\n",
    "    temp_X = ' '.join([word for word in review if not word in stopwords])\n",
    "    temp_X = [temp_X]\n",
    "    pred_cl = model_cl.predict(temp_X)\n",
    "    pred_cn = model_cn.predict(temp_X)\n",
    "    pred_tl = model_tl.predict(temp_X)\n",
    "    pred_tn = model_tn.predict(temp_X)\n",
    "    if pred_cl[0] == 0:\n",
    "        continue\n",
    "    print(label,pred_cl[0], pred_cn[0], pred_tl[0], pred_tn[0]) \"\"\""
   ]
  },
  {
   "cell_type": "code",
   "execution_count": null,
   "metadata": {},
   "outputs": [],
   "source": []
  }
 ]
}