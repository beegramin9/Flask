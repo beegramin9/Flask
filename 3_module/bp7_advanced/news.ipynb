{
 "metadata": {
  "language_info": {
   "codemirror_mode": {
    "name": "ipython",
    "version": 3
   },
   "file_extension": ".py",
   "mimetype": "text/x-python",
   "name": "python",
   "nbconvert_exporter": "python",
   "pygments_lexer": "ipython3",
   "version": "3.8.5-final"
  },
  "orig_nbformat": 2,
  "kernelspec": {
   "name": "python3",
   "display_name": "Python 3",
   "language": "python"
  }
 },
 "nbformat": 4,
 "nbformat_minor": 2,
 "cells": [
  {
   "cell_type": "code",
   "execution_count": null,
   "metadata": {},
   "outputs": [],
   "source": []
  },
  {
   "cell_type": "code",
   "execution_count": 2,
   "metadata": {},
   "outputs": [],
   "source": [
    "import numpy as np\n",
    "import pandas as pd"
   ]
  },
  {
   "cell_type": "code",
   "execution_count": 3,
   "metadata": {},
   "outputs": [],
   "source": [
    "from sklearn.datasets import fetch_20newsgroups\n",
    "news_data = fetch_20newsgroups(subset='all', random_state=156)"
   ]
  },
  {
   "cell_type": "code",
   "execution_count": 27,
   "metadata": {},
   "outputs": [
    {
     "output_type": "execute_result",
     "data": {
      "text/plain": [
       "['alt.atheism',\n",
       " 'comp.graphics',\n",
       " 'comp.os.ms-windows.misc',\n",
       " 'comp.sys.ibm.pc.hardware',\n",
       " 'comp.sys.mac.hardware']"
      ]
     },
     "metadata": {},
     "execution_count": 27
    }
   ],
   "source": [
    "news_data.target_names[:5]"
   ]
  },
  {
   "source": [
    "트레인 셋"
   ],
   "cell_type": "markdown",
   "metadata": {}
  },
  {
   "cell_type": "code",
   "execution_count": 28,
   "metadata": {},
   "outputs": [
    {
     "output_type": "execute_result",
     "data": {
      "text/plain": [
       "['alt.atheism',\n",
       " 'comp.graphics',\n",
       " 'comp.os.ms-windows.misc',\n",
       " 'comp.sys.ibm.pc.hardware',\n",
       " 'comp.sys.mac.hardware']"
      ]
     },
     "metadata": {},
     "execution_count": 28
    }
   ],
   "source": [
    "train_news = fetch_20newsgroups(subset='train', random_state=156, remove=('headers', 'footers', 'quotes'))\n",
    "train_news.target_names[:5]"
   ]
  },
  {
   "cell_type": "code",
   "execution_count": 6,
   "metadata": {},
   "outputs": [
    {
     "output_type": "execute_result",
     "data": {
      "text/plain": [
       "                                                    data  target\n",
       "0      \\n\\nWhat I did NOT get with my drive (CD300i) ...       4\n",
       "1      \\n\\t\"And in that day you will ask Me no questi...      15\n",
       "2      \\nI have to disagree with you on this one.  It...      10\n",
       "3      .\\n.\\n\\nTell him he probably needs to upgrade ...       2\n",
       "4      ->\\tFirst I want to start right out and say th...       0\n",
       "...                                                  ...     ...\n",
       "11309  G'day All,\\n\\nI was looking to build a Paralle...       3\n",
       "11310   ites:\\n Yeah, and the cop couldn't catch me.....       7\n",
       "11311  While rummaging through a box of old PC (5150)...       3\n",
       "11312  \\nIt's always possible, but if this is the cas...       9\n",
       "11313  Hi all,\\n\\nI've been locked in a small closet ...       9\n",
       "\n",
       "[11314 rows x 2 columns]"
      ],
      "text/html": "<div>\n<style scoped>\n    .dataframe tbody tr th:only-of-type {\n        vertical-align: middle;\n    }\n\n    .dataframe tbody tr th {\n        vertical-align: top;\n    }\n\n    .dataframe thead th {\n        text-align: right;\n    }\n</style>\n<table border=\"1\" class=\"dataframe\">\n  <thead>\n    <tr style=\"text-align: right;\">\n      <th></th>\n      <th>data</th>\n      <th>target</th>\n    </tr>\n  </thead>\n  <tbody>\n    <tr>\n      <th>0</th>\n      <td>\\n\\nWhat I did NOT get with my drive (CD300i) ...</td>\n      <td>4</td>\n    </tr>\n    <tr>\n      <th>1</th>\n      <td>\\n\\t\"And in that day you will ask Me no questi...</td>\n      <td>15</td>\n    </tr>\n    <tr>\n      <th>2</th>\n      <td>\\nI have to disagree with you on this one.  It...</td>\n      <td>10</td>\n    </tr>\n    <tr>\n      <th>3</th>\n      <td>.\\n.\\n\\nTell him he probably needs to upgrade ...</td>\n      <td>2</td>\n    </tr>\n    <tr>\n      <th>4</th>\n      <td>-&gt;\\tFirst I want to start right out and say th...</td>\n      <td>0</td>\n    </tr>\n    <tr>\n      <th>...</th>\n      <td>...</td>\n      <td>...</td>\n    </tr>\n    <tr>\n      <th>11309</th>\n      <td>G'day All,\\n\\nI was looking to build a Paralle...</td>\n      <td>3</td>\n    </tr>\n    <tr>\n      <th>11310</th>\n      <td>ites:\\n Yeah, and the cop couldn't catch me.....</td>\n      <td>7</td>\n    </tr>\n    <tr>\n      <th>11311</th>\n      <td>While rummaging through a box of old PC (5150)...</td>\n      <td>3</td>\n    </tr>\n    <tr>\n      <th>11312</th>\n      <td>\\nIt's always possible, but if this is the cas...</td>\n      <td>9</td>\n    </tr>\n    <tr>\n      <th>11313</th>\n      <td>Hi all,\\n\\nI've been locked in a small closet ...</td>\n      <td>9</td>\n    </tr>\n  </tbody>\n</table>\n<p>11314 rows × 2 columns</p>\n</div>"
     },
     "metadata": {},
     "execution_count": 6
    }
   ],
   "source": [
    "# 트레인 데이터\n",
    "df_train = pd.DataFrame(train_news.data, columns=['data'])\n",
    "# 트레인 타겟\n",
    "df_train['target'] = train_news.target\n",
    "df_train"
   ]
  },
  {
   "cell_type": "code",
   "execution_count": 9,
   "metadata": {},
   "outputs": [
    {
     "output_type": "execute_result",
     "data": {
      "text/plain": [
       "data      218\n",
       "target    218\n",
       "dtype: int64"
      ]
     },
     "metadata": {},
     "execution_count": 9
    }
   ],
   "source": [
    "# NaN값은 없지만 \"\", 빈 문자열이 있음\n",
    "df_train[df_train.data == ''].count()"
   ]
  },
  {
   "cell_type": "code",
   "execution_count": 10,
   "metadata": {},
   "outputs": [
    {
     "output_type": "execute_result",
     "data": {
      "text/plain": [
       "data      0\n",
       "target    0\n",
       "dtype: int64"
      ]
     },
     "metadata": {},
     "execution_count": 10
    }
   ],
   "source": [
    "# \"\", 빈 문자열을 가진 행 drop\n",
    "df_train = df_train.drop(df_train[df_train.data == ''].index)\n",
    "df_train[df_train.data == ''].count()"
   ]
  },
  {
   "cell_type": "code",
   "execution_count": 15,
   "metadata": {},
   "outputs": [
    {
     "output_type": "stream",
     "name": "stdout",
     "text": [
      "(11096,) (11096,)\n"
     ]
    },
    {
     "output_type": "execute_result",
     "data": {
      "text/plain": [
       "0        \\n\\nWhat I did NOT get with my drive (CD300i) ...\n",
       "1        \\n\\t\"And in that day you will ask Me no questi...\n",
       "2        \\nI have to disagree with you on this one.  It...\n",
       "3        .\\n.\\n\\nTell him he probably needs to upgrade ...\n",
       "4        ->\\tFirst I want to start right out and say th...\n",
       "                               ...                        \n",
       "11309    G'day All,\\n\\nI was looking to build a Paralle...\n",
       "11310     ites:\\n Yeah, and the cop couldn't catch me.....\n",
       "11311    While rummaging through a box of old PC (5150)...\n",
       "11312    \\nIt's always possible, but if this is the cas...\n",
       "11313    Hi all,\\n\\nI've been locked in a small closet ...\n",
       "Name: data, Length: 11096, dtype: object"
      ]
     },
     "metadata": {},
     "execution_count": 15
    }
   ],
   "source": [
    "# 트레인 데이터, 트레인 타겟 추출\n",
    "X_train = df_train.data\n",
    "y_train = df_train.target\n",
    "# 1차원 Series\n",
    "print(X_train.shape, y_train.shape)\n",
    "X_train"
   ]
  },
  {
   "cell_type": "code",
   "execution_count": 13,
   "metadata": {},
   "outputs": [
    {
     "output_type": "stream",
     "name": "stdout",
     "text": [
      "\n\nWhat I did NOT get with my drive (CD300i) is the System Install CD you\nlisted as #1.  Any ideas about how I can get one?  I bought my IIvx 8/120\nfrom Direct Express in Chicago (no complaints at all -- good price & good\nservice).\n\nBTW, I've heard that the System Install CD can be used to boot the mac;\nhowever, my drive will NOT accept a CD caddy is the machine is off.  How can\nyou boot with it then?\n\n--Dave\n\n"
     ]
    }
   ],
   "source": [
    "# 개별 트레인 데이터의 모습\n",
    "print(df_train.data[0])"
   ]
  },
  {
   "cell_type": "code",
   "execution_count": 17,
   "metadata": {},
   "outputs": [
    {
     "output_type": "stream",
     "name": "stdout",
     "text": [
      "4\n"
     ]
    }
   ],
   "source": [
    "# 개별 트레인 타겟의 모습\n",
    "print(df_train.target[0])"
   ]
  },
  {
   "cell_type": "code",
   "execution_count": 18,
   "metadata": {},
   "outputs": [],
   "source": [
    "# 트레인 데이터 \n",
    "df_train.to_csv('../static/data/advanced/new20_train.csv')"
   ]
  },
  {
   "source": [
    "테스트 셋"
   ],
   "cell_type": "markdown",
   "metadata": {}
  },
  {
   "cell_type": "code",
   "execution_count": 19,
   "metadata": {},
   "outputs": [],
   "source": [
    "test_news = fetch_20newsgroups(subset='test', random_state=156, remove=('headers', 'footers', 'quotes'))"
   ]
  },
  {
   "cell_type": "code",
   "execution_count": 25,
   "metadata": {},
   "outputs": [
    {
     "output_type": "stream",
     "name": "stdout",
     "text": [
      "['alt.atheism', 'comp.graphics', 'comp.os.ms-windows.misc', 'comp.sys.ibm.pc.hardware', 'comp.sys.mac.hardware']\n"
     ]
    }
   ],
   "source": [
    "# target_names도 당연히 똑같이 나온다.\n",
    "train_news.target_names[:5]"
   ]
  },
  {
   "cell_type": "code",
   "execution_count": 21,
   "metadata": {},
   "outputs": [],
   "source": [
    "# 똑같이 빈 문자열 제거\n",
    "df_test = pd.DataFrame(test_news.data, columns=['data'])\n",
    "df_test['target'] = test_news.target\n",
    "df_test = df_test.drop(df_test[df_test.data == ''].index)"
   ]
  },
  {
   "cell_type": "code",
   "execution_count": 22,
   "metadata": {},
   "outputs": [
    {
     "output_type": "stream",
     "name": "stdout",
     "text": [
      "(7370,) (7370,)\n"
     ]
    }
   ],
   "source": [
    "# 테스트 데이터, 테스트 타겟\n",
    "X_test = df_test.data\n",
    "y_test = df_test.target\n",
    "print(X_test.shape, y_test.shape)"
   ]
  },
  {
   "cell_type": "code",
   "execution_count": 23,
   "metadata": {},
   "outputs": [],
   "source": [
    "# 테스트 데이터 \n",
    "df_test.to_csv('../static/data/advanced/new20_test.csv')"
   ]
  },
  {
   "source": [
    "### 피쳐 벡터화 변화(문자 ==> 숫자)와 머신러닝 모델(분류기) 학습/예측/평가\n",
    "1. CountVectorizer"
   ],
   "cell_type": "markdown",
   "metadata": {}
  },
  {
   "cell_type": "code",
   "execution_count": 29,
   "metadata": {},
   "outputs": [],
   "source": [
    "from sklearn.feature_extraction.text import CountVectorizer\n",
    "count_vect = CountVectorizer()\n",
    "count_vect.fit(X_train)\n",
    "X_train_count = count_vect.transform(X_train)\n",
    "X_test_count = count_vect.transform(X_test)"
   ]
  },
  {
   "cell_type": "code",
   "execution_count": 30,
   "metadata": {},
   "outputs": [
    {
     "output_type": "execute_result",
     "data": {
      "text/plain": [
       "(11096, 101631)"
      ]
     },
     "metadata": {},
     "execution_count": 30
    }
   ],
   "source": [
    "X_train_count.shape"
   ]
  },
  {
   "cell_type": "code",
   "execution_count": 31,
   "metadata": {},
   "outputs": [
    {
     "output_type": "execute_result",
     "data": {
      "text/plain": [
       "LogisticRegression()"
      ]
     },
     "metadata": {},
     "execution_count": 31
    }
   ],
   "source": [
    "# CountVectorizer - 로지스틱 회귀\n",
    "from sklearn.linear_model import LogisticRegression\n",
    "\n",
    "lr_clf = LogisticRegression()\n",
    "lr_clf.fit(X_train_count, y_train)"
   ]
  },
  {
   "cell_type": "code",
   "execution_count": 32,
   "metadata": {},
   "outputs": [
    {
     "output_type": "execute_result",
     "data": {
      "text/plain": [
       "0.6232021709633649"
      ]
     },
     "metadata": {},
     "execution_count": 32
    }
   ],
   "source": [
    "from sklearn.metrics import accuracy_score\n",
    "\n",
    "pred = lr_clf.predict(X_test_count)\n",
    "accuracy_score(y_test, pred)"
   ]
  },
  {
   "source": [
    "2. TfidfVectorizer"
   ],
   "cell_type": "markdown",
   "metadata": {}
  },
  {
   "cell_type": "code",
   "execution_count": 33,
   "metadata": {},
   "outputs": [],
   "source": [
    "from sklearn.feature_extraction.text import TfidfVectorizer\n",
    "tfidf_vect = TfidfVectorizer()\n",
    "tfidf_vect.fit(X_train) \n",
    "X_train_tfidf = tfidf_vect.transform(X_train)\n",
    "X_test_tfidf = tfidf_vect.transform(X_test)"
   ]
  },
  {
   "cell_type": "code",
   "execution_count": 34,
   "metadata": {},
   "outputs": [
    {
     "output_type": "execute_result",
     "data": {
      "text/plain": [
       "(11096, 101631)"
      ]
     },
     "metadata": {},
     "execution_count": 34
    }
   ],
   "source": [
    "X_train_tfidf.shape"
   ]
  },
  {
   "cell_type": "code",
   "execution_count": 35,
   "metadata": {},
   "outputs": [
    {
     "output_type": "execute_result",
     "data": {
      "text/plain": [
       "0.6872455902306649"
      ]
     },
     "metadata": {},
     "execution_count": 35
    }
   ],
   "source": [
    "# TfidfVectorizer - 로지스틱 회귀\n",
    "lr_clf = LogisticRegression()\n",
    "lr_clf.fit(X_train_tfidf, y_train)\n",
    "pred = lr_clf.predict(X_test_tfidf)\n",
    "accuracy_score(y_test, pred)"
   ]
  },
  {
   "cell_type": "code",
   "execution_count": 38,
   "metadata": {},
   "outputs": [
    {
     "output_type": "execute_result",
     "data": {
      "text/plain": [
       "0.6704206241519675"
      ]
     },
     "metadata": {},
     "execution_count": 38
    }
   ],
   "source": [
    "# TfidfVectorizer - SVC\n",
    "from sklearn.svm import SVC\n",
    "svc = SVC()\n",
    "svc.fit(X_train_tfidf, y_train)\n",
    "pred = svc.predict(X_test_tfidf)\n",
    "accuracy_score(y_test, pred)"
   ]
  },
  {
   "source": [
    "Stopwords 추가"
   ],
   "cell_type": "markdown",
   "metadata": {}
  },
  {
   "cell_type": "code",
   "execution_count": 39,
   "metadata": {},
   "outputs": [],
   "source": [
    "# CountVectorizer에 Stopwords 추가\n",
    "count_vect = CountVectorizer(stop_words='english', ngram_range=(1,2), max_df=300)\n",
    "count_vect.fit(X_train)\n",
    "X_train_count = count_vect.transform(X_train)\n",
    "X_test_count = count_vect.transform(X_test)"
   ]
  },
  {
   "cell_type": "code",
   "execution_count": 40,
   "metadata": {},
   "outputs": [
    {
     "output_type": "execute_result",
     "data": {
      "text/plain": [
       "0.6443690637720488"
      ]
     },
     "metadata": {},
     "execution_count": 40
    }
   ],
   "source": [
    "lr_clf = LogisticRegression(C=10)\n",
    "lr_clf.fit(X_train_count, y_train)\n",
    "pred = lr_clf.predict(X_test_count)\n",
    "accuracy_score(y_test, pred)"
   ]
  },
  {
   "cell_type": "code",
   "execution_count": 41,
   "metadata": {},
   "outputs": [],
   "source": [
    "# TfidfVectorizer Stopwords 추가\n",
    "tfidf_vect = TfidfVectorizer(stop_words='english', ngram_range=(1,2), max_df=300)\n",
    "tfidf_vect.fit(X_train) \n",
    "X_train_tfidf = tfidf_vect.transform(X_train)\n",
    "X_test_tfidf = tfidf_vect.transform(X_test)"
   ]
  },
  {
   "cell_type": "code",
   "execution_count": 45,
   "metadata": {},
   "outputs": [
    {
     "output_type": "execute_result",
     "data": {
      "text/plain": [
       "0.7153324287652646"
      ]
     },
     "metadata": {},
     "execution_count": 45
    }
   ],
   "source": [
    "# TfidfVectorizer - 로지스틱 회귀\n",
    "lr_clf = LogisticRegression(C=10)\n",
    "lr_clf.fit(X_train_tfidf, y_train)\n",
    "pred = lr_clf.predict(X_test_tfidf)\n",
    "accuracy_score(y_test, pred)"
   ]
  },
  {
   "cell_type": "code",
   "execution_count": 46,
   "metadata": {},
   "outputs": [
    {
     "output_type": "execute_result",
     "data": {
      "text/plain": [
       "0.6902306648575305"
      ]
     },
     "metadata": {},
     "execution_count": 46
    }
   ],
   "source": [
    "# TfidfVectorizer - SVC\n",
    "svc.fit(X_train_tfidf, y_train)\n",
    "pred = svc.predict(X_test_tfidf)\n",
    "accuracy_score(y_test, pred)"
   ]
  },
  {
   "source": [
    "### Pipeline과 GridSearchCV로 하이퍼 파라미터 추가하여 튜닝 <br>\n",
    "### 이후 모델 만들기\n",
    "1. Count Vectorizer - 로지스틱 회귀"
   ],
   "cell_type": "markdown",
   "metadata": {}
  },
  {
   "cell_type": "code",
   "execution_count": 47,
   "metadata": {},
   "outputs": [],
   "source": [
    "from sklearn.pipeline import Pipeline\n",
    "\n",
    "pipeline = Pipeline([\n",
    "    ('count_vect', CountVectorizer(stop_words='english', ngram_range=(1,2))),\n",
    "    ('lr_clf', LogisticRegression())\n",
    "])"
   ]
  },
  {
   "cell_type": "code",
   "execution_count": 48,
   "metadata": {},
   "outputs": [],
   "source": [
    "params = {\n",
    "    'count_vect__max_df': [300, 700],\n",
    "    'lr_clf__C': [1, 10]\n",
    "}"
   ]
  },
  {
   "cell_type": "code",
   "execution_count": 49,
   "metadata": {},
   "outputs": [
    {
     "output_type": "stream",
     "name": "stdout",
     "text": [
      "Fitting 3 folds for each of 4 candidates, totalling 12 fits\n",
      "[Parallel(n_jobs=1)]: Using backend SequentialBackend with 1 concurrent workers.\n",
      "[Parallel(n_jobs=1)]: Done  12 out of  12 | elapsed: 51.9min finished\n",
      "{'count_vect__max_df': 300, 'lr_clf__C': 1} 0.7059305880934986\n"
     ]
    }
   ],
   "source": [
    "from sklearn.model_selection import GridSearchCV\n",
    "\n",
    "grid_pipe = GridSearchCV(pipeline, param_grid=params, cv=3, scoring='accuracy', verbose=1)\n",
    "grid_pipe.fit(X_train, y_train)\n",
    "print(grid_pipe.best_params_, grid_pipe.best_score_)"
   ]
  },
  {
   "cell_type": "code",
   "execution_count": 50,
   "metadata": {},
   "outputs": [],
   "source": [
    "pred1 = grid_pipe.predict(X_test)"
   ]
  },
  {
   "cell_type": "code",
   "execution_count": 51,
   "metadata": {},
   "outputs": [
    {
     "output_type": "execute_result",
     "data": {
      "text/plain": [
       "0.6622795115332428"
      ]
     },
     "metadata": {},
     "execution_count": 51
    }
   ],
   "source": [
    "accuracy_score(y_test, pred1)"
   ]
  },
  {
   "cell_type": "code",
   "execution_count": 52,
   "metadata": {},
   "outputs": [
    {
     "output_type": "execute_result",
     "data": {
      "text/plain": [
       "['../static/model/news20_countlr.pkl']"
      ]
     },
     "metadata": {},
     "execution_count": 52
    }
   ],
   "source": [
    "import joblib\n",
    "joblib.dump(grid_pipe, '../static/model/news20_countlr.pkl')"
   ]
  },
  {
   "source": [
    "2. TfItf Vectorizer - 로지스틱 회귀"
   ],
   "cell_type": "markdown",
   "metadata": {}
  },
  {
   "cell_type": "code",
   "execution_count": 53,
   "metadata": {},
   "outputs": [],
   "source": [
    "pipeline2 = Pipeline([\n",
    "    ('tfidf_vect', TfidfVectorizer(stop_words='english', ngram_range=(1,2))),\n",
    "    ('lr_clf', LogisticRegression())\n",
    "])"
   ]
  },
  {
   "cell_type": "code",
   "execution_count": 54,
   "metadata": {},
   "outputs": [],
   "source": [
    "params2 = {\n",
    "    'tfidf_vect__max_df': [300, 700],\n",
    "    'lr_clf__C': [1, 10]\n",
    "}"
   ]
  },
  {
   "cell_type": "code",
   "execution_count": 55,
   "metadata": {},
   "outputs": [
    {
     "output_type": "stream",
     "name": "stdout",
     "text": [
      "Fitting 3 folds for each of 4 candidates, totalling 12 fits\n",
      "[Parallel(n_jobs=1)]: Using backend SequentialBackend with 1 concurrent workers.\n",
      "[Parallel(n_jobs=1)]: Done  12 out of  12 | elapsed: 40.1min finished\n",
      "{'lr_clf__C': 10, 'tfidf_vect__max_df': 700} 0.766132057480442\n"
     ]
    }
   ],
   "source": [
    "grid_pipe2 = GridSearchCV(pipeline2, param_grid=params2, cv=3, scoring='accuracy', verbose=1)\n",
    "grid_pipe2.fit(X_train, y_train)\n",
    "print(grid_pipe2.best_params_, grid_pipe2.best_score_)"
   ]
  },
  {
   "cell_type": "code",
   "execution_count": 56,
   "metadata": {},
   "outputs": [
    {
     "output_type": "execute_result",
     "data": {
      "text/plain": [
       "0.7150610583446404"
      ]
     },
     "metadata": {},
     "execution_count": 56
    }
   ],
   "source": [
    "pred2 = grid_pipe2.predict(X_test)\n",
    "accuracy_score(y_test, pred2)"
   ]
  },
  {
   "cell_type": "code",
   "execution_count": 57,
   "metadata": {},
   "outputs": [
    {
     "output_type": "execute_result",
     "data": {
      "text/plain": [
       "['../static/model/news20_tfidflr.pkl']"
      ]
     },
     "metadata": {},
     "execution_count": 57
    }
   ],
   "source": [
    "joblib.dump(grid_pipe2, '../static/model/news20_tfidflr.pkl')"
   ]
  },
  {
   "source": [
    "3. TfItf Vectorizer - SVC"
   ],
   "cell_type": "markdown",
   "metadata": {}
  },
  {
   "cell_type": "code",
   "execution_count": 58,
   "metadata": {},
   "outputs": [],
   "source": [
    "pipeline3 = Pipeline([\n",
    "    ('tfidf_vect', TfidfVectorizer(stop_words='english')),\n",
    "    ('svc', SVC())\n",
    "])"
   ]
  },
  {
   "cell_type": "code",
   "execution_count": 59,
   "metadata": {},
   "outputs": [],
   "source": [
    "params3 = {\n",
    "    'tfidf_vect__ngram_range': [(1,1), (1,2)],\n",
    "    'tfidf_vect__max_df': [300, 700],\n",
    "    'svc__C': [1, 10]\n",
    "}"
   ]
  },
  {
   "cell_type": "code",
   "execution_count": 60,
   "metadata": {},
   "outputs": [
    {
     "output_type": "stream",
     "name": "stdout",
     "text": [
      "Fitting 3 folds for each of 8 candidates, totalling 24 fits\n",
      "[Parallel(n_jobs=1)]: Using backend SequentialBackend with 1 concurrent workers.\n",
      "[Parallel(n_jobs=1)]: Done  24 out of  24 | elapsed: 30.8min finished\n",
      "{'svc__C': 10, 'tfidf_vect__max_df': 300, 'tfidf_vect__ngram_range': (1, 1)} 0.7586518518323572\n"
     ]
    }
   ],
   "source": [
    "grid_pipe3 = GridSearchCV(pipeline3, param_grid=params3, cv=3, scoring='accuracy', verbose=1)\n",
    "grid_pipe3.fit(X_train, y_train)\n",
    "print(grid_pipe3.best_params_, grid_pipe3.best_score_)"
   ]
  },
  {
   "cell_type": "code",
   "execution_count": 61,
   "metadata": {},
   "outputs": [
    {
     "output_type": "execute_result",
     "data": {
      "text/plain": [
       "0.6957937584803257"
      ]
     },
     "metadata": {},
     "execution_count": 61
    }
   ],
   "source": [
    "pred3 = grid_pipe3.predict(X_test)\n",
    "accuracy_score(y_test, pred3)"
   ]
  },
  {
   "cell_type": "code",
   "execution_count": 62,
   "metadata": {},
   "outputs": [
    {
     "output_type": "execute_result",
     "data": {
      "text/plain": [
       "['../static/model/news20_tfidfsvc.pkl']"
      ]
     },
     "metadata": {},
     "execution_count": 62
    }
   ],
   "source": [
    "joblib.dump(grid_pipe3, '../static/model/news20_tfidfsvc.pkl')"
   ]
  },
  {
   "source": [
    "Client에서 Server로 받은 index로 각각의 예측값(y햇)"
   ],
   "cell_type": "markdown",
   "metadata": {}
  },
  {
   "cell_type": "code",
   "execution_count": 63,
   "metadata": {},
   "outputs": [],
   "source": [
    "index = 100"
   ]
  },
  {
   "cell_type": "code",
   "execution_count": 64,
   "metadata": {},
   "outputs": [],
   "source": [
    "test_target = df_test.iloc[index, :-1].values"
   ]
  },
  {
   "cell_type": "code",
   "execution_count": 65,
   "metadata": {
    "tags": [
     "outputPrepend"
    ]
   },
   "outputs": [
    {
     "output_type": "stream",
     "name": "stdout",
     "text": [
      "tive\" position is that we should not\\nsell these computers to the Soviets, because they could  use\\nthem  in weapons systems.  The \"liberal\" position is that we\\nshould sell them, in  the  interests  of  mutual  trade  and\\ncooperation--and  anyway,  if  we don\\'t make the sale, there\\nwill certainly be some other nation willing to.\\n\\n     For my part, I\\'m ready to suggest that the  Libertarian\\nposition should be to give them to the Soviets for free, and\\nif  necessary, make them take them . . . and if that doesn\\'t\\nwork load up an SR-71  Blackbird  and  air  drop  them  over\\nMoscow in the middle of the night.  Paid for by private sub-\\nscription, of course, not taxation . . . I confess that this\\nis not a position that has gained much support among members\\nof  the conventional left-right political spectrum, but, af-\\nter all, in the words of one of Illuminatus\\'s characters, we\\nare political non-Euclideans:   The shortest distance  to  a\\nparticular  goal may not look anything like what most people\\nwould consider a \"straight line.\"    Taking  a  long  enough\\nworld-view,  it is arguable that breaking the Soviet govern-\\nment monopoly on information transfer could better  lead  to\\nthe enfeeblement and, indeed, to the ultimate dissolution of\\nthe Soviet empire than would the production of another dozen\\nmissiles aimed at Moscow.\\n\\n     But  there\\'s  the rub:  A \"long enough\" world view does\\nsuggest that the evil, the oppressive, the coercive and  the\\nsimply  stupid  will \"get what they deserve,\" but what\\'s not\\nimmediately clear is how the rest of  us  can  escape  being\\nkilled, enslaved, or pauperized in the process.\\n\\n    When  the  liberals and other collectivists began to at-\\ntack freedom, they possessed a reasonably  stable,  healthy,\\nfunctioning economy, and almost unlimited time to proceed to\\nhamstring   and   dismantle  it.    A  policy  of  political\\ngradualism was at least  conceivable.    But  now,  we  have\\npatchwork  crazy-quilt  economy held together by baling wire\\nand spit.  The state not only taxes us to  \"feed  the  poor\"\\nwhile also inducing farmers to slaughter milk cows and drive\\nup food prices--it then simultaneously turns around and sub-\\nsidizes research into agricultural chemicals designed to in-\\ncrease  yields of milk from the cows left alive.  Or witness\\nthe fact that a decline in the price of oil is considered as\\npotentially frightening as a comparable increase a few years\\nago.  When the price went up,  we  were  told,  the  economy\\nrisked  collapse for for want of energy.  The price increase\\nwas called the \"moral equivalent of war\" and the Feds  swung\\ninto  action.    For the first time in American history, the\\nspeed at which you drive your car to work in the morning be-\\ncame an issue of Federal concern.   Now, when the  price  of\\noil  drops, again we risk problems, this time because Ameri-\\ncan oil companies and Third World  basket-case  nations  who\\nsell  oil  may  not  be  able to ever pay their debts to our\\ngrossly over-extended banks.  The suggested panacea is  that\\ngovernment  should now re-raise the oil prices that OPEC has\\nlowered, via a new oil tax.  Since the government is seeking\\nto raise oil prices to about the same extent  as  OPEC  did,\\nwhat  can we call this except the \"moral equivalent of civil\\nwar--the government against its own people?\"\\n\\n     And, classically, in international trade, can you imag-\\nine any entity in the world except  a  government  going  to\\ncourt  claiming  that  a  vendor  was  selling  it goods too\\ncheaply and demanding not only that that naughty  vendor  be\\ncompelled by the court to raise its prices, but also that it\\nbe punished for the act of lowering them in the first place?\\n\\n     So  while the statists could afford to take a couple of\\nhundred years to trash our  economy  and  our  liberties--we\\ncertainly  cannot  count  on  having an equivalent period of\\nstability in which to reclaim them.   I contend  that  there\\nexists  almost  a  \"black  hole\"  effect in the evolution of\\nnation-states just as in the evolution of stars.  Once free-\\ndom contracts beyond a certain  minimum  extent,  the  state\\nwarps  the fabric of the political continuum about itself to\\nthe degree that subsequent re-emergence of  freedom  becomes\\nall but impossible.  A good illustration of this can be seen\\nin the area of so-called \"welfare\" payments.  When those who\\nsup  at the public trough outnumber (and thus outvote) those\\nwhose taxes must replenish the trough,  then  what  possible\\nchoice has a democracy but to perpetuate and expand the tak-\\ning  from  the few for the unearned benefit of the many?  Go\\ndown to the nearest \"welfare\" office, find just  two  people\\non  the dole . . . and recognize that between them they form\\na voting bloc that can forever outvote you on  the  question\\nof who owns your life--and the fruits of your life\\'s labor.\\n\\n     So essentially those who love liberty need an \"edge\" of\\nsome  sort  if  we\\'re ultimately going to prevail.  We obvi-\\nously  can\\'t  use  the  altruists\\'  \"other-directedness\"  of\\n\"work,  slave, suffer, sacrifice, so that next generation of\\na billion random strangers can  live  in  a  better  world.\"\\nRecognize  that, however immoral such an appeal might be, it\\nis nonetheless an extremely powerful one in today\\'s culture.\\nIf you can convince  people  to  work  energetically  for  a\\n\"cause,\" caring only enough for their personal welfare so as\\nto  remain  alive  enough  and  healthy  enough  to continue\\nworking--then you have a truly massive reservoir  of  energy\\nto draw from.  Equally clearly, this is just the sort of ap-\\npeal which tautologically cannot be utilized for egoistic or\\nlibertarian goals.  If I were to stand up before you tonight\\nand say something like, \"Listen, follow me as I enunciate my\\nnoble \"cause,\" contribute your money to support the \"cause,\"\\ngive  up  your  free  time  to  work for the \"cause,\" strive\\nselflessly to bring it about, and then (after you  and  your\\nchildren are dead) maybe your children\\'s children will actu-\\nally  live under egoism\"--you\\'d all think I\\'d gone mad.  And\\nof course you\\'d be right.  Because the point I\\'m  trying  to\\nmake is that libertarianism and/or egoism will be spread if,\\nwhen, and as, individual libertarians and/or egoists find it\\nprofitable and/or enjoyable to do so.    And  probably  only\\nthen.\\n\\n     While I certainly do not disparage the concept of poli-\\ntical  action, I don\\'t believe that it is the only, nor even\\nnecessarily the most cost-effective path  toward  increasing\\nfreedom  in  our time.  Consider that, for a fraction of the\\ninvestment in time, money and effort I might expend in  try-\\ning  to  convince  the  state to abolish wiretapping and all\\nforms of censorship--I can teach every libertarian who\\'s in-\\nterested  how  to   use   cryptography   to   abolish   them\\nunilaterally.\\n\\n     There  is  a  maxim--a proverb--generally attributed to\\nthe Eskimoes, which very likely most Libertarians  have  al-\\nready  heard.    And while you likely would not quarrel with\\nthe saying, you might well feel that you\\'ve heard  it  often\\nenough already, and that it has nothing further to teach us,\\nand moreover, that maybe you\\'re even tired of hearing it.  I\\nshall therefore repeat it now:\\n\\n     If you give a man a fish, the saying runs, you feed him\\nfor a day.  But if you teach a man how to fish, you feed him\\nfor a lifetime.\\n\\n     Your exposure to the quote was probably in some sort of\\na  \"workfare\"  vs.  \"welfare\"  context;  namely, that if you\\ngenuinely wish to help someone in need, you should teach him\\nhow to earn his sustenance, not simply how to  beg  for  it.\\nAnd of course this is true, if only because the next time he\\nis hungry, there might not be anybody around willing or even\\nable to give him a fish, whereas with the information on how\\nto fish, he is completely self sufficient.\\n\\n     But  I  submit  that this exhausts only the first order\\ncontent of the quote, and if there were nothing  further  to\\nglean  from  it,  I would have wasted your time by citing it\\nagain.  After all, it seems to have almost a crypto-altruist\\nslant, as though to imply that we should structure  our  ac-\\ntivities  so  as  to  maximize  the  benefits to such hungry\\nbeggars as we may encounter.\\n\\n     But consider:\\n\\n     Suppose this Eskimo doesn\\'t know how to  fish,  but  he\\ndoes  know  how  to hunt walruses.   You, on the other hand,\\nhave often gone hungry while traveling thru  walrus  country\\nbecause  you  had  no idea how to catch the damn things, and\\nthey ate most of the fish you could catch.  And now  suppose\\nthe  two  of  you  decide to exchange information, bartering\\nfishing knowledge for hunting knowledge.   Well,  the  first\\nthing  to  observe  is  that  a  transaction  of  this  type\\ncategorically and unambiguously refutes the Marxist  premise\\nthat  every  trade  must  have a \"winner\" and a \"loser;\" the\\nidea that if one person gains, it must necessarily be at the\\n\"expense\" of another person who loses.  Clearly, under  this\\nscenario, such is not the case.  Each party has gained some-\\nthing  he  did  not have before, and neither has been dimin-\\nished in any way.  When it comes to exchange of  information\\n(rather  than material objects) life is no longer a zero-sum\\ngame.  This is an extremely powerful notion.   The  \"law  of\\ndiminishing   returns,\"   the  \"first  and  second  laws  of\\nthermodynamics\"--all those \"laws\" which constrain our possi-\\nbilities in other contexts--no longer bind us!   Now  that\\'s\\nanarchy!\\n\\n     Or  consider  another possibility:  Suppose this hungry\\nEskimo never learned  to  fish  because  the  ruler  of  his\\nnation-state    had  decreed fishing illegal.   Because fish\\ncontain dangerous tiny bones, and sometimes sharp spines, he\\ntells us, the state has decreed that their  consumption--and\\neven  their  possession--are  too  hazardous to the people\\'s\\nhealth to be permitted . . . even by knowledgeable,  willing\\nadults.   Perhaps it is because citizens\\' bodies are thought\\nto be government property, and therefore it is the  function\\nof the state to punish those who improperly care for govern-\\nment  property.    Or perhaps it is because the state gener-\\nously extends to competent adults the \"benefits\" it provides\\nto children and to the mentally ill:  namely,  a  full-time,\\nall-pervasive supervisory conservatorship--so that they need\\nnot  trouble  themselves  with making choices about behavior\\nthought physically risky or morally \"naughty.\"  But, in  any\\ncase,  you  stare stupefied, while your Eskimo informant re-\\nlates how this law is taken so seriously that  a  friend  of\\nhis was recently imprisoned for years for the crime of \"pos-\\nsession of nine ounces of trout with intent to distribute.\"\\n\\n     Now  you  may  conclude  that  a society so grotesquely\\noppressive as to enforce a law of this  type  is  simply  an\\naffront to the dignity of all human beings.  You may go far-\\nther  and  decide to commit some portion of your discretion-\\nary, recreational time specifically to the task of thwarting\\nthis tyrant\\'s goal.  (Your rationale may be \"altruistic\"  in\\nthe   sense   of  wanting  to  liberate  the  oppressed,  or\\n\"egoistic\" in the sense of  proving  you  can  outsmart  the\\noppressor--or  very likely some combination of these or per-\\nhaps even other motives.)\\n\\n     But, since you have zero desire to become a  martyr  to\\nyour \"cause,\" you\\'re not about to mount a military campaign,\\nor  even try to run a boatload of fish through the blockade.\\nHowever, it is here that technology--and in  particular  in-\\nformation technology--can multiply your efficacy literally a\\nhundredfold.    I say \"literally,\" because for a fraction of\\nthe effort (and virtually none of  the  risk)  attendant  to\\nsmuggling in a hundred fish, you can quite readily produce a\\nhundred  Xerox copies of fishing instructions.  (If the tar-\\ngeted government, like present-day America, at least permits\\nopen  discussion  of  topics  whose  implementation  is  re-\\nstricted,  then that should suffice.  But, if the government\\nattempts to suppress the flow of information as  well,  then\\nyou will have to take a little more effort and perhaps write\\nyour  fishing manual on a floppy disk encrypted according to\\nyour mythical Eskimo\\'s public-key parameters.  But as far as\\nincreasing real-world access to fish you have  made  genuine\\nnonzero  headway--which  may  continue to snowball as others\\nre-disseminate the information you have provided.   And  you\\nhave not had to waste any of your time trying to convert id-\\neological  adversaries, or even trying to win over the unde-\\ncided.  Recall Harry Browne\\'s dictum  from  \"Freedom  in  an\\nUnfree World\" that the success of any endeavor is in general\\ninversely proportional to the number of people whose persua-\\nsion is necessary to its fulfilment.\\n\\n     If  you  look  at  history, you cannot deny that it has\\nbeen dramatically shaped by men with names like  Washington,\\nLincoln,  .  .  .  Nixon  .  . . Marcos . . . Duvalier . . .\\nKhadaffi . . .  and their ilk.  But it has also been  shaped\\nby  people with names like Edison, Curie, Marconi, Tesla and\\nWozniak.  And this latter shaping has been at least as  per-\\nvasive, and not nearly so bloody.\\n\\n     And  that\\'s  where  I\\'m  trying  to  take The LiberTech\\nProject.  Rather than beseeching the state to please not en-\\nslave, plunder or constrain us, I propose a libertarian net-\\nwork spreading  the  technologies  by  which  we  may  seize\\nfreedom for ourselves.\\n\\n     But here we must be a bit careful.  While it is not (at\\npresent)  illegal  to  encrypt  information  when government\\nwants to spy on you, there is no guarantee of what  the  fu-\\nture  may hold.  There have been bills introduced, for exam-\\nple, which would have made it a crime  to  wear  body  armor\\nwhen government wants to shoot you.  That is, if you were to\\ncommit certain crimes while wearing a Kevlar vest, then that\\nfact  would  constitute a separate federal crime of its own.\\nThis law to my knowledge has not passed . . . yet . . .  but\\nit does indicate how government thinks.\\n\\n     Other  technological  applications,  however, do indeed\\npose legal risks.  We recognize, for  example,  that  anyone\\nwho  helped a pre-Civil War slave escape on the \"underground\\nrailroad\" was making a clearly illegal use of technology--as\\nthe sovereign government of the United States of America  at\\nthat time found the buying and selling of human beings quite\\nas  acceptable  as  the buying and selling of cattle.  Simi-\\nlarly, during Prohibition, anyone who used  his  bathtub  to\\nferment  yeast and sugar into the illegal psychoactive drug,\\nalcohol--the controlled substance, wine--was using  technol-\\nogy  in a way that could get him shot dead by federal agents\\nfor his \"crime\"--unfortunately not to be  restored  to  life\\nwhen  Congress  reversed itself and re-permitted use of this\\ndrug.\\n\\n     So . . . to quote a former President,  un-indicted  co-\\nconspirator  and pardoned felon . . . \"Let me make one thing\\nperfectly clear:\"  The LiberTech Project does not  advocate,\\nparticipate  in, or conspire in the violation of any law--no\\nmatter how oppressive,  unconstitutional  or  simply  stupid\\nsuch  law may be.  It does engage in description (for educa-\\ntional and informational  purposes  only)  of  technological\\nprocesses,  and some of these processes (like flying a plane\\nor manufacturing a firearm) may well require appropriate li-\\ncensing to perform legally.    Fortunately,  no  license  is\\nneeded  for  the  distribution or receipt of information it-\\nself.\\n\\n     So, the next time you look at the political  scene  and\\ndespair,  thinking,  \"Well,  if 51% of the nation and 51% of\\nthis State, and 51% of this city have  to  turn  Libertarian\\nbefore  I\\'ll  be  free,  then  somebody might as well cut my\\ngoddamn throat now, and put me out of my  misery\"--recognize\\nthat  such  is not the case.  There exist ways to make your-\\nself free.\\n\\n     If you wish to explore such techniques via the Project,\\nyou are welcome to give me your name and address--or a  fake\\nname  and  mail  drop, for that matter--and you\\'ll go on the\\nmailing list for my erratically-published newsletter.    Any\\nfriends  or acquaintances whom you think would be interested\\nare welcome as well.  I\\'m not even asking for stamped  self-\\naddressed envelopes, since my printer can handle mailing la-\\nbels and actual postage costs are down in the noise compared\\nwith  the  other  efforts  in getting an issue out.   If you\\nshould have an idea to share, or even a  useful  product  to\\nplug,  I\\'ll be glad to have you write it up for publication.\\nEven if you want to be the proverbial \"free rider\" and  just\\nbenefit  from  what others contribute--you\\'re still welcome:\\nEverything will be public domain; feel free to  copy  it  or\\ngive it away (or sell it, for that matter, \\'cause if you can\\nget  money  for  it while I\\'m taking full-page ads trying to\\ngive it away, you\\'re certainly entitled to  your  capitalist\\nprofit . . .)  Anyway, every application of these principles\\nshould make the world just a little freer, and I\\'m certainly\\nwilling to underwrite that, at least for the forseeable  fu-\\nture.\\n\\n     I  will leave you with one final thought:  If you don\\'t\\nlearn how to beat your plowshares into  swords  before  they\\noutlaw  swords,  then you sure as HELL ought to learn before\\nthey outlaw plowshares too.\\n\\n                                       --Chuck Hammill\\n\\n                                 THE LIBERTECH PROJECT\\n                                 3194 Queensbury Drive\\n                               Los Angeles, California\\n                                                 90064\\n                                          310-836-4157\\n\\n                                    hammill@netcom.com\\n\\n[The above LiberTech address was updated December 1992, with the\\n permission of Chuck Hammill, by Russell Whitaker]\\n\\nThose interested in the issues raised in this piece should participate\\nin at least these newsgroups:\\n\\n                alt.privacy\\n                alt.security.pgp\\n                comp.org.eff.talk\\n                sci.crypt\\n\\nA copy of the RSA-based public key encryption program, PGP 2.1 (Pretty\\nGood Privacy), can be obtained at various ftp sites around the world.\\nOne such site is gate.demon.co.uk, where an MS-DOS version can be had by\\nanonymous ftp as pgp22.zip in /pub/pgp.\\n\\nVersions for other operating systems, including UNIX variants\\nand Macintosh, are also available.  Source code is also\\navailable.\\n\\nHere\\'s the blurb for PGP, by the way:\\n\\n- ----------------------  Quote ----------------------------------------\\nPGP (Pretty Good Privacy) ver 2.2 - RSA public-key encryption freeware\\nfor MSDOS, protects E-mail.  Lets you communicate securely with people\\nyou\\'ve never met, with no secure channels needed for prior exchange of\\nkeys.  Well featured and fast!  Excellent user documentation.\\n\\nPGP has sophisticated key management, an RSA/conventional hybrid\\nencryption scheme, message digests for digital signatures, data\\ncompression before encryption, and good ergonomic design.  Source\\ncode is free.\\n\\nFilenames:  pgp22.zip (executable and manuals), pgp22src.zip (sources)\\nKeywords:   PGP, Pretty Good Privacy, RSA, public key, encryption,\\n            privacy, authentication, signatures, email\\n- ---------------------- End Quote -------------------------------------\\n\\nRussell Earl Whitaker                   whitaker@eternity.demon.co.uk\\nCommunications Editor                                 AMiX: RWhitaker\\nEXTROPY: The Journal of Transhumanist Thought\\nBoard member, Extropy Institute (ExI)\\n\\n\\n-----BEGIN PGP SIGNATURE-----\\nVersion: 2.2'] 3 3 3\n"
     ]
    }
   ],
   "source": [
    "print(test_target,pred[0], pred2[0], pred3[0])"
   ]
  }
 ]
}